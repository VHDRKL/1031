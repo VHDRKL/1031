{
  "nbformat": 4,
  "nbformat_minor": 0,
  "metadata": {
    "kernelspec": {
      "display_name": "study_python",
      "language": "python",
      "name": "study_python"
    },
    "language_info": {
      "codemirror_mode": {
        "name": "ipython",
        "version": 3
      },
      "file_extension": ".py",
      "mimetype": "text/x-python",
      "name": "python",
      "nbconvert_exporter": "python",
      "pygments_lexer": "ipython3",
      "version": "3.7.4"
    },
    "colab": {
      "name": "TensorFlow2.0（5）：張量限幅.ipynb",
      "provenance": [],
      "include_colab_link": true
    }
  },
  "cells": [
    {
      "cell_type": "markdown",
      "metadata": {
        "id": "view-in-github",
        "colab_type": "text"
      },
      "source": [
        "<a href=\"https://colab.research.google.com/github/VHDRKL/1031/blob/main/TensorFlow2_0%EF%BC%885%EF%BC%89%EF%BC%9A%E5%BC%B5%E9%87%8F%E9%99%90%E5%B9%85.ipynb\" target=\"_parent\"><img src=\"https://colab.research.google.com/assets/colab-badge.svg\" alt=\"Open In Colab\"/></a>"
      ]
    },
    {
      "cell_type": "markdown",
      "metadata": {
        "id": "TKnaMHHvF5Hq"
      },
      "source": [
        "# 1 maxmium()與minmium()"
      ]
    },
    {
      "cell_type": "markdown",
      "metadata": {
        "id": "H5ZE_NC7F5Hr"
      },
      "source": [
        " maximum()用於限制最小值,也即是說，將一個tensor中小於指定值的元素替換為指定值："
      ]
    },
    {
      "cell_type": "code",
      "metadata": {
        "id": "87Z2DQDpF5Hr"
      },
      "source": [
        "import tensorflow as tf"
      ],
      "execution_count": null,
      "outputs": []
    },
    {
      "cell_type": "code",
      "metadata": {
        "id": "m-ZoHMQEF5Hv",
        "outputId": "61f5f5e7-384c-441d-d528-ed005f3b94f0"
      },
      "source": [
        "a = tf.range(10)\n",
        "a"
      ],
      "execution_count": null,
      "outputs": [
        {
          "output_type": "execute_result",
          "data": {
            "text/plain": [
              "<tf.Tensor: id=3, shape=(10,), dtype=int32, numpy=array([0, 1, 2, 3, 4, 5, 6, 7, 8, 9], dtype=int32)>"
            ]
          },
          "metadata": {
            "tags": []
          },
          "execution_count": 2
        }
      ]
    },
    {
      "cell_type": "code",
      "metadata": {
        "id": "99y_IucrF5H0",
        "outputId": "0c00d4ec-b926-4d31-a268-98a4a077f02c"
      },
      "source": [
        "tf.maximum(a, 4)"
      ],
      "execution_count": null,
      "outputs": [
        {
          "output_type": "execute_result",
          "data": {
            "text/plain": [
              "<tf.Tensor: id=5, shape=(10,), dtype=int32, numpy=array([4, 4, 4, 4, 4, 5, 6, 7, 8, 9], dtype=int32)>"
            ]
          },
          "metadata": {
            "tags": []
          },
          "execution_count": 3
        }
      ]
    },
    {
      "cell_type": "code",
      "metadata": {
        "id": "WJsWjIj5F5H5",
        "outputId": "a564f089-3a0b-4726-d08a-ecc1488f7576"
      },
      "source": [
        "b = tf.random.uniform([3,4], minval=1, maxval=10, dtype=tf.int32)\n",
        "b"
      ],
      "execution_count": null,
      "outputs": [
        {
          "output_type": "execute_result",
          "data": {
            "text/plain": [
              "<tf.Tensor: id=9, shape=(3, 4), dtype=int32, numpy=\n",
              "array([[8, 2, 4, 1],\n",
              "       [9, 5, 4, 7],\n",
              "       [6, 5, 8, 6]], dtype=int32)>"
            ]
          },
          "metadata": {
            "tags": []
          },
          "execution_count": 4
        }
      ]
    },
    {
      "cell_type": "code",
      "metadata": {
        "id": "3_XGpCcxF5H8",
        "outputId": "ad4bb66e-27a9-439b-b713-68eca42603e4"
      },
      "source": [
        "tf.maximum(b, 4)"
      ],
      "execution_count": null,
      "outputs": [
        {
          "output_type": "execute_result",
          "data": {
            "text/plain": [
              "<tf.Tensor: id=11, shape=(3, 4), dtype=int32, numpy=\n",
              "array([[8, 4, 4, 4],\n",
              "       [9, 5, 4, 7],\n",
              "       [6, 5, 8, 6]], dtype=int32)>"
            ]
          },
          "metadata": {
            "tags": []
          },
          "execution_count": 5
        }
      ]
    },
    {
      "cell_type": "markdown",
      "metadata": {
        "id": "39aw4ZCkF5H_"
      },
      "source": [
        "minium()方法與maximum()方法想法，用於限制一個tensor的最大值，即將tensor中大於指定值的元素替換為指定值："
      ]
    },
    {
      "cell_type": "code",
      "metadata": {
        "id": "l9RKWl6uF5H_",
        "outputId": "d442171d-c995-4bd9-d70f-2dad2265fd21"
      },
      "source": [
        "tf.minimum(a, 6)"
      ],
      "execution_count": null,
      "outputs": [
        {
          "output_type": "execute_result",
          "data": {
            "text/plain": [
              "<tf.Tensor: id=13, shape=(10,), dtype=int32, numpy=array([0, 1, 2, 3, 4, 5, 6, 6, 6, 6], dtype=int32)>"
            ]
          },
          "metadata": {
            "tags": []
          },
          "execution_count": 6
        }
      ]
    },
    {
      "cell_type": "code",
      "metadata": {
        "id": "7Tq_4fynF5ID",
        "outputId": "dae3649b-d72f-40b7-8d82-7344ce401cf6"
      },
      "source": [
        "tf.minimum(b, 6)"
      ],
      "execution_count": null,
      "outputs": [
        {
          "output_type": "execute_result",
          "data": {
            "text/plain": [
              "<tf.Tensor: id=15, shape=(3, 4), dtype=int32, numpy=\n",
              "array([[6, 2, 4, 1],\n",
              "       [6, 5, 4, 6],\n",
              "       [6, 5, 6, 6]], dtype=int32)>"
            ]
          },
          "metadata": {
            "tags": []
          },
          "execution_count": 7
        }
      ]
    },
    {
      "cell_type": "markdown",
      "metadata": {
        "id": "udNhIWOVF5II"
      },
      "source": [
        "如果要同時限制一個tensor的最大值和最小值，可以這麼做："
      ]
    },
    {
      "cell_type": "code",
      "metadata": {
        "id": "-glAj2ykF5II",
        "outputId": "02edf1e2-a59e-41fb-e9bd-fb96ad4eb2cf"
      },
      "source": [
        "tf.minimum(tf.maximum(b,4),6)"
      ],
      "execution_count": null,
      "outputs": [
        {
          "output_type": "execute_result",
          "data": {
            "text/plain": [
              "<tf.Tensor: id=19, shape=(3, 4), dtype=int32, numpy=\n",
              "array([[6, 4, 4, 4],\n",
              "       [6, 5, 4, 6],\n",
              "       [6, 5, 6, 6]], dtype=int32)>"
            ]
          },
          "metadata": {
            "tags": []
          },
          "execution_count": 8
        }
      ]
    },
    {
      "cell_type": "markdown",
      "metadata": {
        "id": "AnKonpfzF5IM"
      },
      "source": [
        "這種同時調用minmium()和maxmium()的方法不夠便捷，所以TensorFlow中提供了clip_by_value()方法來實現這一功能。"
      ]
    },
    {
      "cell_type": "markdown",
      "metadata": {
        "id": "vD1KDuMQF5IM"
      },
      "source": [
        "# 2 clip_by_value()"
      ]
    },
    {
      "cell_type": "markdown",
      "metadata": {
        "id": "Xr776vXaF5IN"
      },
      "source": [
        "clip_by_value()底層也是通過調用minmium()和maxmium()方法來實現同時限制最大值、最小值功能，我們現在來感受一下："
      ]
    },
    {
      "cell_type": "code",
      "metadata": {
        "id": "brkV07XIF5IN",
        "outputId": "93a760c2-e49a-477b-f76e-8f7835f3cf6b"
      },
      "source": [
        "b"
      ],
      "execution_count": null,
      "outputs": [
        {
          "output_type": "execute_result",
          "data": {
            "text/plain": [
              "<tf.Tensor: id=9, shape=(3, 4), dtype=int32, numpy=\n",
              "array([[8, 2, 4, 1],\n",
              "       [9, 5, 4, 7],\n",
              "       [6, 5, 8, 6]], dtype=int32)>"
            ]
          },
          "metadata": {
            "tags": []
          },
          "execution_count": 9
        }
      ]
    },
    {
      "cell_type": "code",
      "metadata": {
        "id": "xKtQ8jTvF5IQ",
        "outputId": "3494bf1f-c715-4e46-f6f4-6418bc6c7258"
      },
      "source": [
        "tf.clip_by_value(b,4,6)"
      ],
      "execution_count": null,
      "outputs": [
        {
          "output_type": "execute_result",
          "data": {
            "text/plain": [
              "<tf.Tensor: id=23, shape=(3, 4), dtype=int32, numpy=\n",
              "array([[6, 4, 4, 4],\n",
              "       [6, 5, 4, 6],\n",
              "       [6, 5, 6, 6]], dtype=int32)>"
            ]
          },
          "metadata": {
            "tags": []
          },
          "execution_count": 10
        }
      ]
    },
    {
      "cell_type": "markdown",
      "metadata": {
        "id": "OWDjFHOxF5IU"
      },
      "source": [
        "# 3 relu()"
      ]
    },
    {
      "cell_type": "markdown",
      "metadata": {
        "id": "iWUVV60NF5IV"
      },
      "source": [
        "relu()方法將tensor最小值限制為0，相當於tf.maxmium(a,0),注意，relu()方法在tf.nn模塊中："
      ]
    },
    {
      "cell_type": "code",
      "metadata": {
        "id": "6JSN45uEF5IV",
        "outputId": "1885fa5d-95e6-421f-f476-da8eb6cffc55"
      },
      "source": [
        "a = tf.range(-5,5,1)\n",
        "a"
      ],
      "execution_count": null,
      "outputs": [
        {
          "output_type": "execute_result",
          "data": {
            "text/plain": [
              "<tf.Tensor: id=27, shape=(10,), dtype=int32, numpy=array([-5, -4, -3, -2, -1,  0,  1,  2,  3,  4], dtype=int32)>"
            ]
          },
          "metadata": {
            "tags": []
          },
          "execution_count": 11
        }
      ]
    },
    {
      "cell_type": "code",
      "metadata": {
        "id": "x9dMMmjtF5IZ",
        "outputId": "5afc1239-982e-463e-9f1b-e0495508deff"
      },
      "source": [
        "tf.nn.relu(a)"
      ],
      "execution_count": null,
      "outputs": [
        {
          "output_type": "execute_result",
          "data": {
            "text/plain": [
              "<tf.Tensor: id=28, shape=(10,), dtype=int32, numpy=array([0, 0, 0, 0, 0, 0, 1, 2, 3, 4], dtype=int32)>"
            ]
          },
          "metadata": {
            "tags": []
          },
          "execution_count": 12
        }
      ]
    },
    {
      "cell_type": "code",
      "metadata": {
        "id": "mF1JvJA5F5Id",
        "outputId": "141ad18b-0873-4541-a3f3-c87c2b0b05a1"
      },
      "source": [
        "b = tf.random.uniform([3,4],minval=-10, maxval=10, dtype=tf.int32)\n",
        "b"
      ],
      "execution_count": null,
      "outputs": [
        {
          "output_type": "execute_result",
          "data": {
            "text/plain": [
              "<tf.Tensor: id=32, shape=(3, 4), dtype=int32, numpy=\n",
              "array([[-8, -1, -4,  7],\n",
              "       [-6, -3,  2, -8],\n",
              "       [ 5,  6,  2,  5]], dtype=int32)>"
            ]
          },
          "metadata": {
            "tags": []
          },
          "execution_count": 13
        }
      ]
    },
    {
      "cell_type": "code",
      "metadata": {
        "id": "7xWhz_CiF5If",
        "outputId": "d90997e4-ff99-4992-d18e-f6c331f0f218"
      },
      "source": [
        "tf.nn.relu(b)"
      ],
      "execution_count": null,
      "outputs": [
        {
          "output_type": "execute_result",
          "data": {
            "text/plain": [
              "<tf.Tensor: id=33, shape=(3, 4), dtype=int32, numpy=\n",
              "array([[0, 0, 0, 7],\n",
              "       [0, 0, 2, 0],\n",
              "       [5, 6, 2, 5]], dtype=int32)>"
            ]
          },
          "metadata": {
            "tags": []
          },
          "execution_count": 14
        }
      ]
    },
    {
      "cell_type": "markdown",
      "metadata": {
        "id": "O5_k9zt9F5Ii"
      },
      "source": [
        "# 4 cli_by_norm()"
      ]
    },
    {
      "cell_type": "markdown",
      "metadata": {
        "id": "J1j6wNzQF5Ij"
      },
      "source": [
        "cli_by_norm()方法是根據tensor的L2范數（模）和給定裁切值按比例對tensor進行限幅。這種方法可以在不改變方向的前提下，按比例對向量進行限幅。\n",
        "我們先手動實現這一過程，先定義一個向量："
      ]
    },
    {
      "cell_type": "code",
      "metadata": {
        "id": "bzZI9yfkF5Ij",
        "outputId": "499de8e6-2bee-40a1-b8c1-96b195da0ac4"
      },
      "source": [
        "a = tf.random.normal([2,3],mean=10)\n",
        "a"
      ],
      "execution_count": null,
      "outputs": [
        {
          "output_type": "execute_result",
          "data": {
            "text/plain": [
              "<tf.Tensor: id=39, shape=(2, 3), dtype=float32, numpy=\n",
              "array([[ 9.93618 , 10.367402,  9.617832],\n",
              "       [ 8.890949,  9.650288,  9.430309]], dtype=float32)>"
            ]
          },
          "metadata": {
            "tags": []
          },
          "execution_count": 15
        }
      ]
    },
    {
      "cell_type": "markdown",
      "metadata": {
        "id": "4kFJNCU0F5Im"
      },
      "source": [
        "然後求這個向量的L2范數，也就是向量的模："
      ]
    },
    {
      "cell_type": "code",
      "metadata": {
        "id": "HJ7ABjCZF5In",
        "outputId": "bdf957b1-b94a-4a17-e3ea-004a39d64952"
      },
      "source": [
        "n = tf.norm(a) \n",
        "n"
      ],
      "execution_count": null,
      "outputs": [
        {
          "output_type": "execute_result",
          "data": {
            "text/plain": [
              "<tf.Tensor: id=44, shape=(), dtype=float32, numpy=23.66054>"
            ]
          },
          "metadata": {
            "tags": []
          },
          "execution_count": 16
        }
      ]
    },
    {
      "cell_type": "markdown",
      "metadata": {
        "id": "rBsanWK8F5Ir"
      },
      "source": [
        "向量處理模，就可以將向量縮放到0到1範圍："
      ]
    },
    {
      "cell_type": "code",
      "metadata": {
        "scrolled": true,
        "id": "N_fET1iqF5Ir",
        "outputId": "b38d51fe-6a88-4ba2-b48e-bf5c4361efd9"
      },
      "source": [
        "a1 = a / n\n",
        "a1"
      ],
      "execution_count": null,
      "outputs": [
        {
          "output_type": "execute_result",
          "data": {
            "text/plain": [
              "<tf.Tensor: id=45, shape=(2, 3), dtype=float32, numpy=\n",
              "array([[0.41994733, 0.43817267, 0.4064925 ],\n",
              "       [0.3757712 , 0.4078642 , 0.39856696]], dtype=float32)>"
            ]
          },
          "metadata": {
            "tags": []
          },
          "execution_count": 17
        }
      ]
    },
    {
      "cell_type": "markdown",
      "metadata": {
        "id": "UiXMVrAHF5Iu"
      },
      "source": [
        "對向量限幅時，例如限制在10範圍內："
      ]
    },
    {
      "cell_type": "code",
      "metadata": {
        "id": "REgIyL4-F5Iv",
        "outputId": "4fc5cf9d-9a2f-4ef0-ce13-be92b6c1d9a6"
      },
      "source": [
        "a2 = a1 * 10\n",
        "a2"
      ],
      "execution_count": null,
      "outputs": [
        {
          "output_type": "execute_result",
          "data": {
            "text/plain": [
              "<tf.Tensor: id=47, shape=(2, 3), dtype=float32, numpy=\n",
              "array([[4.1994734, 4.3817267, 4.064925 ],\n",
              "       [3.757712 , 4.078642 , 3.9856696]], dtype=float32)>"
            ]
          },
          "metadata": {
            "tags": []
          },
          "execution_count": 18
        }
      ]
    },
    {
      "cell_type": "markdown",
      "metadata": {
        "id": "P9E06WI8F5Ix"
      },
      "source": [
        "clip_by_norm()方法實現的就是上述步驟："
      ]
    },
    {
      "cell_type": "code",
      "metadata": {
        "id": "MS0OtfzFF5Iy",
        "outputId": "c06355b4-1a9c-4d89-d923-e1b14895c904"
      },
      "source": [
        "tf.clip_by_norm(a,10)"
      ],
      "execution_count": null,
      "outputs": [
        {
          "output_type": "execute_result",
          "data": {
            "text/plain": [
              "<tf.Tensor: id=63, shape=(2, 3), dtype=float32, numpy=\n",
              "array([[4.1994734, 4.3817267, 4.064925 ],\n",
              "       [3.757712 , 4.0786424, 3.9856696]], dtype=float32)>"
            ]
          },
          "metadata": {
            "tags": []
          },
          "execution_count": 19
        }
      ]
    },
    {
      "cell_type": "markdown",
      "metadata": {
        "id": "z0kH1DpRF5I2"
      },
      "source": [
        "當然，cli_by_norm()方法內部還做了一個判斷：如果給定的裁切值大於tensor的模，那就不會去對tensor進行修改，依舊返回tensor本身。繼續上面例子，a的模為25.625225，如果給定的裁切值大於這個值，就不會對a進行限幅："
      ]
    },
    {
      "cell_type": "code",
      "metadata": {
        "id": "wTwPewjDF5I2",
        "outputId": "0ad145ec-5cbb-4238-dbca-af7db6106793"
      },
      "source": [
        "tf.clip_by_norm(a,26)"
      ],
      "execution_count": null,
      "outputs": [
        {
          "output_type": "execute_result",
          "data": {
            "text/plain": [
              "<tf.Tensor: id=79, shape=(2, 3), dtype=float32, numpy=\n",
              "array([[ 9.936181, 10.367402,  9.617832],\n",
              "       [ 8.890949,  9.650288,  9.430309]], dtype=float32)>"
            ]
          },
          "metadata": {
            "tags": []
          },
          "execution_count": 20
        }
      ]
    },
    {
      "cell_type": "markdown",
      "metadata": {
        "id": "qWKQ3NvZF5I6"
      },
      "source": [
        "# 5 clip_by_global_norm()"
      ]
    },
    {
      "cell_type": "markdown",
      "metadata": {
        "id": "Cmzh0BaqF5I6"
      },
      "source": [
        "在梯度更新等諸多場景中，需要同時綜合多個參數（tensor）進行梯度更新，這時候，clip_by_norm()就滿足不了需求了，所以就有了cip_by_global_norm()方法。cip_by_global_norm()方法限幅原理與clip_by_norm()是一樣的，都是綜合范數和給定的裁切值進行限幅，不同的是，cip_by_global_norm()方法方法計算范數時是綜合給定的多個tensor進行計算。"
      ]
    },
    {
      "cell_type": "markdown",
      "metadata": {
        "id": "pfGwZA-UF5I8"
      },
      "source": [
        "註：clip_by_global_norm()方法用於修正梯度值，控制梯度爆炸的問題。梯度爆炸和梯度瀰散的原因一樣，都是因為鏈式法則求導的關係，導致梯度的指數級衰減。為了避免梯度爆炸，需要對梯度進行修剪。 "
      ]
    },
    {
      "cell_type": "markdown",
      "metadata": {
        "id": "d5-2k5aHF5I-"
      },
      "source": [
        "以下面三個向量為例，同時進行限幅："
      ]
    },
    {
      "cell_type": "code",
      "metadata": {
        "id": "XTPzTOE4F5I_",
        "outputId": "cb11ec2f-d24c-4ad9-96d5-10f8597da152"
      },
      "source": [
        "t1 = tf.random.normal([3],mean=10)\n",
        "t1"
      ],
      "execution_count": null,
      "outputs": [
        {
          "output_type": "execute_result",
          "data": {
            "text/plain": [
              "<tf.Tensor: id=85, shape=(3,), dtype=float32, numpy=array([8.257121, 7.466969, 8.756236], dtype=float32)>"
            ]
          },
          "metadata": {
            "tags": []
          },
          "execution_count": 21
        }
      ]
    },
    {
      "cell_type": "code",
      "metadata": {
        "id": "Uq3LTcdZF5JK",
        "outputId": "5288a912-2f0c-4faf-9bbd-24a1c975b021"
      },
      "source": [
        "t2 = tf.random.normal([3],mean=10)\n",
        "t2"
      ],
      "execution_count": null,
      "outputs": [
        {
          "output_type": "execute_result",
          "data": {
            "text/plain": [
              "<tf.Tensor: id=91, shape=(3,), dtype=float32, numpy=array([10.112761, 10.555879,  9.646121], dtype=float32)>"
            ]
          },
          "metadata": {
            "tags": []
          },
          "execution_count": 22
        }
      ]
    },
    {
      "cell_type": "code",
      "metadata": {
        "id": "YrbvOjkuF5JP",
        "outputId": "362d686d-0419-4b6d-a52f-3a6f9e32ff5f"
      },
      "source": [
        "t3 = tf.random.normal([3],mean=10)\n",
        "t3"
      ],
      "execution_count": null,
      "outputs": [
        {
          "output_type": "execute_result",
          "data": {
            "text/plain": [
              "<tf.Tensor: id=97, shape=(3,), dtype=float32, numpy=array([9.884818, 8.648524, 9.125227], dtype=float32)>"
            ]
          },
          "metadata": {
            "tags": []
          },
          "execution_count": 23
        }
      ]
    },
    {
      "cell_type": "code",
      "metadata": {
        "id": "-PRoLudLF5JU"
      },
      "source": [
        "t_list = [t1,t2,t3]"
      ],
      "execution_count": null,
      "outputs": []
    },
    {
      "cell_type": "markdown",
      "metadata": {
        "id": "aHoQu1COF5JZ"
      },
      "source": [
        "首先計算全局L2范數,計算公式為：\n",
        "global_norm = sqrt(sum([L2norm(t)**2 for t in t_list]))"
      ]
    },
    {
      "cell_type": "code",
      "metadata": {
        "id": "FuFLoyrvF5Ja"
      },
      "source": [
        "global_norm = tf.norm([tf.norm(t) for t in t_list])"
      ],
      "execution_count": null,
      "outputs": []
    },
    {
      "cell_type": "markdown",
      "metadata": {
        "id": "z4VXnnSBF5Jj"
      },
      "source": [
        "假設給定裁切值為25："
      ]
    },
    {
      "cell_type": "code",
      "metadata": {
        "scrolled": true,
        "id": "H2pnql0uF5Jk",
        "outputId": "6771278d-1bf7-4411-cc62-8f8972287ec8"
      },
      "source": [
        "[t*25/global_norm for t in t_list]"
      ],
      "execution_count": null,
      "outputs": [
        {
          "output_type": "execute_result",
          "data": {
            "text/plain": [
              "[<tf.Tensor: id=121, shape=(3,), dtype=float32, numpy=array([7.4725804, 6.757504 , 7.9242725], dtype=float32)>,\n",
              " <tf.Tensor: id=124, shape=(3,), dtype=float32, numpy=array([9.151909, 9.552924, 8.729607], dtype=float32)>,\n",
              " <tf.Tensor: id=127, shape=(3,), dtype=float32, numpy=array([8.945623, 7.826795, 8.258204], dtype=float32)>]"
            ]
          },
          "metadata": {
            "tags": []
          },
          "execution_count": 26
        }
      ]
    },
    {
      "cell_type": "code",
      "metadata": {
        "scrolled": true,
        "id": "cVc_7fwYF5Jp",
        "outputId": "349fa164-5542-478e-8e99-4a0d39c54c7d"
      },
      "source": [
        "tf.clip_by_global_norm(t_list,25)"
      ],
      "execution_count": null,
      "outputs": [
        {
          "output_type": "execute_result",
          "data": {
            "text/plain": [
              "([<tf.Tensor: id=148, shape=(3,), dtype=float32, numpy=array([7.47258  , 6.7575035, 7.9242725], dtype=float32)>,\n",
              "  <tf.Tensor: id=149, shape=(3,), dtype=float32, numpy=array([9.151908, 9.552924, 8.729606], dtype=float32)>,\n",
              "  <tf.Tensor: id=150, shape=(3,), dtype=float32, numpy=array([8.945623 , 7.8267946, 8.2582035], dtype=float32)>],\n",
              " <tf.Tensor: id=136, shape=(), dtype=float32, numpy=27.624733>)"
            ]
          },
          "metadata": {
            "tags": []
          },
          "execution_count": 27
        }
      ]
    },
    {
      "cell_type": "markdown",
      "metadata": {
        "id": "ZuIkUvYhF5Ju"
      },
      "source": [
        "計算結果是一樣的，不過clip_by_global_norm()返回兩個值，分別是各向量限幅後的返回值列表、全局范數。"
      ]
    }
  ]
}