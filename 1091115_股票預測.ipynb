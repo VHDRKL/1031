{
  "nbformat": 4,
  "nbformat_minor": 0,
  "metadata": {
    "colab": {
      "name": "1091115_股票預測.ipynb",
      "provenance": [],
      "collapsed_sections": [],
      "include_colab_link": true
    },
    "kernelspec": {
      "name": "python3",
      "display_name": "Python 3"
    }
  },
  "cells": [
    {
      "cell_type": "markdown",
      "metadata": {
        "id": "view-in-github",
        "colab_type": "text"
      },
      "source": [
        "<a href=\"https://colab.research.google.com/github/VHDRKL/1031/blob/main/1091115_%E8%82%A1%E7%A5%A8%E9%A0%90%E6%B8%AC.ipynb\" target=\"_parent\"><img src=\"https://colab.research.google.com/assets/colab-badge.svg\" alt=\"Open In Colab\"/></a>"
      ]
    },
    {
      "cell_type": "code",
      "metadata": {
        "id": "aDGrTSbfPQdV",
        "outputId": "906bf9ba-3b08-4379-e2ee-6d06390888d0",
        "colab": {
          "resources": {
            "http://localhost:8080/nbextensions/google.colab/files.js": {
              "data": "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",
              "ok": true,
              "headers": [
                [
                  "content-type",
                  "application/javascript"
                ]
              ],
              "status": 200,
              "status_text": ""
            }
          },
          "base_uri": "https://localhost:8080/",
          "height": 112
        }
      },
      "source": [
        "from google.colab import files\n",
        "files.upload() #0050.TW.csv"
      ],
      "execution_count": null,
      "outputs": [
        {
          "output_type": "display_data",
          "data": {
            "text/html": [
              "\n",
              "     <input type=\"file\" id=\"files-a7c23e0a-bffb-46c4-a04d-e78c30495f17\" name=\"files[]\" multiple disabled\n",
              "        style=\"border:none\" />\n",
              "     <output id=\"result-a7c23e0a-bffb-46c4-a04d-e78c30495f17\">\n",
              "      Upload widget is only available when the cell has been executed in the\n",
              "      current browser session. Please rerun this cell to enable.\n",
              "      </output>\n",
              "      <script src=\"/nbextensions/google.colab/files.js\"></script> "
            ],
            "text/plain": [
              "<IPython.core.display.HTML object>"
            ]
          },
          "metadata": {
            "tags": []
          }
        },
        {
          "output_type": "stream",
          "text": [
            "Saving 0050.TW.csv to 0050.TW.csv\n"
          ],
          "name": "stdout"
        },
        {
          "output_type": "execute_result",
          "data": {
            "text/plain": [
              "{'0050.TW.csv': b'Date,Open,High,Low,Close,Adj Close,Volume\\n2019-11-13,91.550003,91.650002,91.050003,91.449997,88.572029,1935545\\n2019-11-14,91.599998,91.800003,91.199997,91.400002,88.523605,2174281\\n2019-11-15,92.000000,92.500000,92.000000,92.300003,89.395287,2510879\\n2019-11-18,92.500000,92.900002,92.400002,92.900002,89.976402,2087613\\n2019-11-19,92.900002,93.599998,92.650002,93.599998,90.654366,2821624\\n2019-11-20,93.599998,93.599998,93.099998,93.250000,90.315384,7954619\\n2019-11-21,92.300003,92.550003,91.800003,92.500000,89.588989,3283838\\n2019-11-22,92.550003,92.750000,92.400002,92.550003,89.637413,1506544\\n2019-11-25,93.000000,93.099998,92.550003,92.599998,89.685837,2520694\\n2019-11-26,92.949997,93.300003,92.800003,92.849998,89.927971,3827480\\n2019-11-27,92.849998,93.199997,92.750000,93.199997,90.266953,1957676\\n2019-11-28,93.250000,93.250000,92.800003,92.949997,90.024818,1352720\\n2019-11-29,92.849998,92.849998,91.449997,91.500000,88.620461,5344208\\n2019-12-02,91.949997,92.150002,91.750000,92.050003,89.153152,2068341\\n2019-12-03,91.699997,92.199997,91.599998,92.050003,89.153152,1410794\\n2019-12-04,91.849998,91.900002,91.400002,91.699997,88.814163,2310508\\n2019-12-05,92.349998,93.000000,92.199997,92.900002,89.976402,3441050\\n2019-12-06,93.300003,93.500000,92.750000,93.050003,90.121681,3394433\\n2019-12-09,93.199997,93.800003,93.199997,93.650002,90.702797,2912194\\n2019-12-10,93.400002,93.400002,92.800003,93.000000,90.073250,5295431\\n2019-12-11,93.000000,93.750000,92.949997,93.750000,90.799652,1936772\\n2019-12-12,94.349998,96.099998,94.349998,95.849998,92.833557,8420111\\n2019-12-13,96.750000,97.400002,96.699997,96.900002,93.850517,5880136\\n2019-12-16,96.949997,97.050003,96.650002,96.849998,93.802086,70448\\n2019-12-17,96.750000,98.150002,96.699997,98.150002,95.061180,4703223\\n2019-12-18,98.000000,98.300003,97.800003,98.199997,95.109604,3762355\\n2019-12-19,98.150002,98.199997,97.550003,97.650002,94.576912,2271007\\n2019-12-20,97.550003,97.550003,96.699997,96.949997,93.898941,3353485\\n2019-12-23,97.000000,97.300003,96.949997,97.150002,94.092651,3416729\\n2019-12-24,97.300003,97.449997,97.199997,97.199997,94.141075,1409728\\n2019-12-25,97.199997,97.449997,97.050003,97.349998,94.286354,1789167\\n2019-12-26,97.550003,97.550003,97.099998,97.349998,94.286354,3095969\\n2019-12-27,97.599998,98.150002,97.599998,98.000000,94.915901,2978047\\n2019-12-30,98.000000,98.250000,97.599998,97.800003,94.722198,3138762\\n2019-12-31,97.099998,97.199997,96.949997,96.949997,93.898941,4303947\\n2020-01-02,97.050003,98.000000,97.050003,97.650002,94.576912,4882015\\n2020-01-03,98.300003,98.699997,97.000000,97.650002,94.576912,6813547\\n2020-01-06,97.050003,97.099998,96.400002,96.400002,93.366257,9321768\\n2020-01-07,96.449997,96.699997,95.400002,96.099998,93.075691,6328602\\n2020-01-08,95.199997,96.199997,95.050003,95.650002,92.639854,8516995\\n2020-01-09,96.300003,97.099998,96.300003,96.949997,93.898941,7163943\\n2020-01-10,97.500000,97.800003,96.949997,97.300003,94.237930,9071925\\n2020-01-13,97.849998,98.099998,97.500000,98.000000,94.915901,6650898\\n2020-01-14,98.500000,98.849998,98.400002,98.599998,95.497017,11544956\\n2020-01-15,98.699997,98.699997,97.449997,97.599998,94.528488,10259354\\n2020-01-16,97.150002,97.500000,97.000000,97.300003,94.237930,8686499\\n2020-01-17,97.699997,97.750000,97.099998,97.300003,94.237930,8121134\\n2020-01-20,97.550003,98.000000,97.550003,97.699997,94.625336,6969945\\n2020-01-30,95.000000,95.000000,92.150002,92.150002,89.250000,32262874\\n2020-01-31,90.650002,90.650002,89.650002,89.949997,89.949997,22497767\\n2020-02-03,88.500000,89.150002,87.599998,89.050003,89.050003,15823593\\n2020-02-04,96.949997,96.949997,90.599998,90.599998,90.599998,8904471\\n2020-02-05,91.000000,91.300003,90.300003,90.849998,90.849998,6701508\\n2020-02-06,91.650002,92.300003,91.349998,92.300003,92.300003,10696477\\n2020-02-07,91.650002,91.650002,90.949997,91.199997,91.199997,9554828\\n2020-02-10,90.000000,91.199997,89.599998,91.000000,91.000000,7308908\\n2020-02-11,91.349998,91.949997,91.349998,91.750000,91.750000,5115402\\n2020-02-12,92.000000,92.900002,92.000000,92.650002,92.650002,5640117\\n2020-02-13,93.000000,93.250000,92.699997,92.800003,92.800003,5754317\\n2020-02-14,92.800003,93.250000,92.550003,92.949997,92.949997,4988165\\n2020-02-17,92.300003,92.550003,91.949997,92.300003,92.300003,6266211\\n2020-02-18,91.400002,91.599998,91.000000,91.050003,91.050003,12529356\\n2020-02-19,91.150002,92.250000,91.050003,92.099998,92.099998,7947011\\n2020-02-20,92.349998,92.500000,91.349998,91.699997,91.699997,6538336\\n2020-02-21,91.650002,91.949997,90.949997,91.250000,91.250000,5401188\\n2020-02-24,90.250000,90.400002,89.699997,90.099998,90.099998,13571936\\n2020-02-25,89.500000,90.500000,89.449997,90.349998,90.349998,8840104\\n2020-02-26,89.150002,89.750000,88.900002,89.449997,89.449997,15081003\\n2020-02-27,89.349998,89.500000,88.349998,88.650002,88.650002,24688054\\n2020-03-02,87.500000,88.250000,86.849998,87.349998,87.349998,27894641\\n2020-03-03,88.849998,88.949997,88.250000,88.599998,88.599998,11071900\\n2020-03-04,88.800003,89.199997,88.400002,89.199997,89.199997,8437415\\n2020-03-05,89.800003,90.250000,89.750000,90.199997,90.199997,9785483\\n2020-03-06,89.650002,89.650002,88.300003,88.349998,88.349998,17096376\\n2020-03-09,86.800003,86.800003,85.599998,85.849998,85.849998,27734426\\n2020-03-10,85.000000,86.300003,84.900002,86.300003,86.300003,23784345\\n2020-03-11,86.449997,86.550003,85.050003,85.300003,85.300003,15306570\\n2020-03-12,84.500000,84.500000,81.150002,82.150002,82.150002,44910246\\n2020-03-13,78.000000,81.400002,75.949997,81.000000,81.000000,53704860\\n2020-03-16,80.000000,80.400002,76.949997,77.300003,77.300003,33813951\\n2020-03-17,74.300003,76.699997,74.300003,74.849998,74.849998,51145832\\n2020-03-18,74.949997,75.250000,72.800003,72.800003,72.800003,46790503\\n2020-03-19,71.000000,71.000000,67.250000,68.550003,68.550003,68038340\\n2020-03-20,71.000000,74.000000,70.900002,74.000000,74.000000,40910533\\n2020-03-23,71.000000,72.099998,69.550003,70.800003,70.800003,22465117\\n2020-03-24,73.849998,75.300003,73.699997,74.250000,74.250000,26756843\\n2020-03-25,76.800003,77.449997,76.099998,76.849998,76.849998,32687820\\n2020-03-26,77.400002,77.449997,76.000000,77.199997,77.199997,19215688\\n2020-03-27,78.300003,78.699997,76.449997,76.599998,76.599998,21953901\\n2020-03-30,74.699997,76.150002,74.050003,75.849998,75.849998,13605883\\n2020-03-31,76.800003,77.199997,75.599998,76.150002,76.150002,9764000\\n2020-04-01,76.500000,76.650002,75.849998,75.900002,75.900002,9948017\\n2020-04-06,76.949997,77.099998,75.750000,77.050003,77.050003,12207626\\n2020-04-07,78.500000,78.900002,78.050003,78.500000,78.500000,15302038\\n2020-04-08,78.500000,79.699997,78.349998,79.599998,79.599998,15230698\\n2020-04-09,79.849998,80.099998,78.849998,79.250000,79.250000,15650105\\n2020-04-10,79.000000,79.349998,78.699997,79.300003,79.300003,5824779\\n2020-04-13,79.000000,79.400002,78.550003,78.800003,78.800003,7430914\\n2020-04-14,79.050003,80.949997,79.050003,80.949997,80.949997,13121792\\n2020-04-15,81.250000,81.500000,81.000000,81.199997,81.199997,17361116\\n2020-04-16,80.199997,81.099998,80.050003,80.800003,80.800003,12409525\\n2020-04-17,83.000000,84.000000,82.699997,83.250000,83.250000,34532038\\n2020-04-20,83.250000,83.500000,82.800003,83.000000,83.000000,12336416\\n2020-04-21,82.650002,82.650002,80.500000,80.599998,80.599998,21082454\\n2020-04-22,80.000000,80.599998,79.500000,80.599998,80.599998,10896151\\n2020-04-23,81.150002,82.000000,80.300003,80.900002,80.900002,13298948\\n2020-04-24,80.800003,81.000000,80.449997,80.900002,80.900002,5764752\\n2020-04-27,82.150002,82.599998,81.650002,82.550003,82.550003,13917724\\n2020-04-28,82.900002,82.900002,82.000000,82.550003,82.550003,7556661\\n2020-04-29,83.050003,83.900002,82.949997,83.699997,83.699997,11874079\\n2020-04-30,84.449997,85.500000,84.400002,85.500000,85.500000,18785156\\n2020-05-04,82.400002,83.300003,82.199997,83.000000,83.000000,15648380\\n2020-05-05,83.500000,83.800003,83.000000,83.400002,83.400002,7810636\\n2020-05-06,83.300003,83.750000,82.599998,83.500000,83.500000,6142593\\n2020-05-07,83.500000,84.150002,83.300003,83.849998,83.849998,6140995\\n2020-05-08,84.599998,84.750000,84.000000,84.349998,84.349998,6034013\\n2020-05-11,85.000000,85.400002,84.699997,85.050003,85.050003,6655422\\n2020-05-12,84.599998,84.599998,83.650002,84.050003,84.050003,11549365\\n2020-05-13,83.699997,84.400002,83.599998,84.300003,84.300003,4967165\\n2020-05-14,83.800003,83.849998,83.199997,83.300003,83.300003,8743268\\n2020-05-15,84.050003,84.250000,83.050003,83.849998,83.849998,6190781\\n2020-05-18,83.050003,83.449997,82.800003,83.150002,83.150002,8271703\\n2020-05-19,84.400002,84.500000,83.650002,83.900002,83.900002,5477775\\n2020-05-20,84.000000,84.199997,83.500000,83.800003,83.800003,9894141\\n2020-05-21,84.150002,84.800003,84.099998,84.500000,84.500000,7568047\\n2020-05-22,83.800003,83.900002,82.900002,82.949997,82.949997,13354146\\n2020-05-25,83.150002,83.500000,82.150002,83.500000,83.500000,5250544\\n2020-05-26,84.250000,84.650002,83.849998,84.449997,84.449997,15454949\\n2020-05-27,84.699997,84.849998,84.050003,84.349998,84.349998,4589767\\n2020-05-28,84.900002,84.900002,83.550003,83.849998,83.849998,7476909\\n2020-05-29,83.400002,84.449997,83.000000,84.449997,84.449997,5320690\\n2020-06-01,84.449997,85.150002,84.400002,84.900002,84.900002,8365321\\n2020-06-02,85.000000,85.500000,85.000000,85.300003,85.300003,11947060\\n2020-06-03,86.150002,86.900002,86.099998,86.800003,86.800003,18117244\\n2020-06-04,87.500000,87.750000,87.150002,87.599998,87.599998,15036553\\n2020-06-05,87.699997,88.349998,87.699997,88.349998,88.349998,9916582\\n2020-06-08,88.900002,89.800003,88.800003,89.500000,89.500000,15549542\\n2020-06-09,89.599998,89.800003,88.949997,89.599998,89.599998,11356579\\n2020-06-10,89.650002,90.699997,89.550003,90.449997,90.449997,10998897\\n2020-06-11,90.449997,90.849998,89.000000,89.050003,89.050003,14179192\\n2020-06-12,87.250000,88.500000,87.099998,88.250000,88.250000,21563371\\n2020-06-15,88.099998,88.300003,86.900002,87.000000,87.000000,9573700\\n2020-06-16,88.150002,89.199997,88.150002,88.900002,88.900002,10841047\\n2020-06-17,89.199997,89.199997,88.300003,89.000000,89.000000,11510236\\n2020-06-18,89.050003,89.300003,88.349998,88.900002,88.900002,5035751\\n2020-06-19,89.000000,89.150002,88.650002,88.849998,88.849998,2333985\\n2020-06-22,88.849998,89.699997,88.849998,89.050003,89.050003,10579456\\n2020-06-23,89.599998,90.050003,88.800003,89.449997,89.449997,8664889\\n2020-06-24,89.800003,90.500000,89.800003,90.000000,90.000000,10061904\\n2020-06-29,89.250000,89.599998,88.650002,89.099998,89.099998,9785007\\n2020-06-30,89.550003,89.949997,89.400002,89.900002,89.900002,8035137\\n2020-07-01,89.949997,90.900002,89.949997,90.500000,90.500000,9979250\\n2020-07-02,90.650002,91.500000,90.599998,91.500000,91.500000,7601474\\n2020-07-03,null,null,null,null,null,null\\n2020-07-06,null,null,null,null,null,null\\n2020-07-07,null,null,null,null,null,null\\n2020-07-08,94.500000,95.400002,94.400002,95.150002,95.150002,11145368\\n2020-07-09,95.699997,95.849998,95.150002,95.449997,95.449997,7241657\\n2020-07-10,95.550003,95.699997,94.599998,94.650002,94.650002,11502554\\n2020-07-13,95.400002,96.099998,95.250000,96.050003,96.050003,12054512\\n2020-07-14,95.800003,96.650002,95.699997,96.650002,96.650002,13480664\\n2020-07-15,97.300003,97.949997,96.699997,97.050003,97.050003,21315724\\n2020-07-16,97.000000,97.000000,95.849998,96.099998,96.099998,7632129\\n2020-07-17,97.050003,97.699997,96.699997,97.199997,97.199997,18010470\\n2020-07-20,97.199997,97.349998,96.250000,97.050003,97.050003,9486407\\n2020-07-21,97.150002,99.099998,97.099998,98.699997,98.699997,24740975\\n2020-07-22,98.550003,99.250000,98.349998,98.949997,98.949997,7243893\\n2020-07-23,98.849998,98.900002,98.099998,98.849998,98.849998,6008972\\n2020-07-24,99.000000,100.099998,98.250000,98.500000,98.500000,17377622\\n2020-07-27,101.800003,103.550003,101.800003,103.300003,103.300003,22874174\\n2020-07-28,107.250000,108.699997,103.300003,103.599998,103.599998,22422761\\n2020-07-29,102.800003,103.800003,102.099998,102.550003,102.550003,9636665\\n2020-07-30,104.199997,105.000000,103.300003,104.050003,104.050003,6587085\\n2020-07-31,103.900002,104.300003,103.449997,103.800003,103.800003,5314021\\n2020-08-03,103.449997,103.500000,102.000000,102.000000,102.000000,7258914\\n2020-08-04,102.550003,103.349998,102.550003,103.300003,103.300003,4798147\\n2020-08-05,104.099998,104.500000,103.750000,104.300003,104.300003,5106381\\n2020-08-06,105.449997,105.949997,104.849998,105.400002,105.400002,7430095\\n2020-08-07,105.550003,105.550003,104.300003,104.650002,104.650002,6803730\\n2020-08-10,104.099998,105.849998,104.099998,105.599998,105.599998,5905752\\n2020-08-11,105.400002,105.650002,104.750000,104.800003,104.800003,3199141\\n2020-08-12,104.000000,104.000000,103.000000,103.250000,103.250000,5916723\\n2020-08-13,104.699997,104.900002,104.050003,104.250000,104.250000,5461251\\n2020-08-14,103.800003,104.500000,103.500000,104.500000,104.500000,3779950\\n2020-08-17,104.500000,105.699997,104.250000,105.599998,105.599998,5641660\\n2020-08-18,105.699997,105.900002,104.650002,105.000000,105.000000,3745611\\n2020-08-19,105.000000,105.449997,104.099998,104.250000,104.250000,6043314\\n2020-08-20,103.800003,103.800003,98.699997,100.599998,100.599998,18738215\\n2020-08-21,102.150002,103.000000,101.699997,102.800003,102.800003,8132713\\n2020-08-24,102.849998,103.550003,102.300003,103.099998,103.099998,3718559\\n2020-08-25,103.449997,104.349998,103.349998,103.900002,103.900002,3609809\\n2020-08-26,104.000000,104.349998,103.599998,104.300003,104.300003,2665520\\n2020-08-27,105.099998,105.699997,104.449997,104.550003,104.550003,5706106\\n2020-08-28,103.849998,104.250000,103.000000,103.500000,103.500000,3913299\\n2020-08-31,104.099998,104.250000,101.800003,101.800003,101.800003,5759933\\n2020-09-01,102.449997,103.349998,101.849998,103.349998,103.349998,5735637\\n2020-09-02,103.650002,104.050003,102.300003,103.000000,103.000000,4133083\\n2020-09-03,103.699997,104.300003,103.199997,103.300003,103.300003,5129198\\n2020-09-04,102.000000,102.699997,101.900002,102.550003,102.550003,5916012\\n2020-09-07,102.550003,103.050003,101.900002,102.400002,102.400002,5499657\\n2020-09-08,102.750000,103.099998,102.449997,103.000000,103.000000,4504453\\n2020-09-09,101.750000,102.349998,101.150002,102.300003,102.300003,6274033\\n2020-09-10,102.800003,103.349998,102.599998,103.199997,103.199997,3581337\\n2020-09-11,103.199997,103.349998,102.800003,103.250000,103.250000,2905291\\n2020-09-14,103.500000,104.550003,103.250000,104.550003,104.550003,5753474\\n2020-09-15,104.449997,105.199997,104.250000,104.949997,104.949997,5438768\\n2020-09-16,106.550003,107.000000,106.349998,106.550003,106.550003,14855265\\n2020-09-17,106.050003,106.349998,105.099998,105.400002,105.400002,8748846\\n2020-09-18,105.400002,105.699997,104.849998,105.300003,105.300003,4951719\\n2020-09-21,105.199997,105.900002,104.349998,104.449997,104.449997,5709735\\n2020-09-22,104.300003,104.300003,102.949997,103.099998,103.099998,6636055\\n2020-09-23,103.500000,103.500000,102.400002,102.949997,102.949997,5362100\\n2020-09-24,101.550003,101.800003,100.250000,100.449997,100.449997,15784773\\n2020-09-25,null,null,null,null,null,null\\n2020-09-28,101.349998,102.300003,101.000000,102.300003,102.300003,6026880\\n2020-09-29,102.750000,103.250000,102.150002,102.550003,102.550003,3759262\\n2020-09-30,102.750000,103.449997,102.599998,103.000000,103.000000,3545485\\n2020-10-05,103.449997,104.050003,103.000000,103.050003,103.050003,5912599\\n2020-10-06,104.000000,104.349998,103.849998,104.250000,104.250000,6875260\\n2020-10-07,104.000000,105.000000,103.500000,104.800003,104.800003,4011139\\n2020-10-08,105.449997,106.349998,105.300003,106.199997,106.199997,13470899\\n2020-10-12,106.699997,107.699997,106.699997,107.050003,107.050003,9837999\\n2020-10-13,107.349998,107.599998,106.199997,107.099998,107.099998,5410614\\n2020-10-14,107.050003,107.199997,106.449997,106.699997,106.699997,2562860\\n2020-10-15,106.500000,106.500000,105.099998,105.699997,105.699997,4550154\\n2020-10-16,105.699997,106.300003,105.099998,105.250000,105.250000,3239005\\n2020-10-19,105.650002,106.599998,105.599998,106.599998,106.599998,3459323\\n2020-10-20,106.400002,106.449997,106.000000,106.000000,106.000000,1414032\\n2020-10-21,106.000000,106.550003,105.650002,105.949997,105.949997,7299387\\n2020-10-22,105.699997,106.099998,105.500000,106.099998,106.099998,2158260\\n2020-10-23,106.500000,106.650002,105.650002,106.099998,106.099998,3205830\\n2020-10-26,106.099998,106.599998,105.800003,106.099998,106.099998,2849390\\n2020-10-27,105.750000,105.750000,105.150002,105.500000,105.500000,3350269\\n2020-10-28,105.500000,105.500000,104.800003,105.000000,105.000000,4669830\\n2020-10-29,104.000000,104.099998,103.250000,103.849998,103.849998,6954385\\n2020-10-30,103.550003,103.599998,102.699997,103.000000,103.000000,6432187\\n2020-11-02,103.150002,103.449997,102.300003,103.400002,103.400002,10063314\\n2020-11-03,104.199997,104.849998,104.050003,104.599998,104.599998,4385320\\n2020-11-04,105.000000,106.199997,104.699997,106.150002,106.150002,5009968\\n2020-11-05,106.199997,106.400002,105.550003,106.050003,106.050003,4268304\\n2020-11-06,106.349998,107.050003,106.300003,106.699997,106.699997,6237894\\n2020-11-09,107.750000,108.400002,107.250000,108.099998,108.099998,11280644\\n2020-11-10,108.000000,108.000000,106.800003,107.099998,107.099998,4350611\\n2020-11-11,107.099998,108.750000,107.099998,108.750000,108.750000,8517576\\n2020-11-12,109.000000,109.400002,108.699997,108.800003,108.800003,3803422\\n2020-11-13,108.599998,109.300003,108.449997,109.250000,109.250000,3737000'}"
            ]
          },
          "metadata": {
            "tags": []
          },
          "execution_count": 1
        }
      ]
    },
    {
      "cell_type": "code",
      "metadata": {
        "id": "XWcsaGaOUOKc"
      },
      "source": [
        "import pandas as pd\n",
        "import numpy as np\n",
        "stock=pd.read_csv('0050.TW.csv')\n"
      ],
      "execution_count": null,
      "outputs": []
    },
    {
      "cell_type": "code",
      "metadata": {
        "id": "6d3MDIlSUm9K",
        "outputId": "83e8c2e5-a1aa-4731-a945-01ea5523ecb1",
        "colab": {
          "base_uri": "https://localhost:8080/",
          "height": 203
        }
      },
      "source": [
        "stock.head()"
      ],
      "execution_count": null,
      "outputs": [
        {
          "output_type": "execute_result",
          "data": {
            "text/html": [
              "<div>\n",
              "<style scoped>\n",
              "    .dataframe tbody tr th:only-of-type {\n",
              "        vertical-align: middle;\n",
              "    }\n",
              "\n",
              "    .dataframe tbody tr th {\n",
              "        vertical-align: top;\n",
              "    }\n",
              "\n",
              "    .dataframe thead th {\n",
              "        text-align: right;\n",
              "    }\n",
              "</style>\n",
              "<table border=\"1\" class=\"dataframe\">\n",
              "  <thead>\n",
              "    <tr style=\"text-align: right;\">\n",
              "      <th></th>\n",
              "      <th>Date</th>\n",
              "      <th>Open</th>\n",
              "      <th>High</th>\n",
              "      <th>Low</th>\n",
              "      <th>Close</th>\n",
              "      <th>Adj Close</th>\n",
              "      <th>Volume</th>\n",
              "    </tr>\n",
              "  </thead>\n",
              "  <tbody>\n",
              "    <tr>\n",
              "      <th>0</th>\n",
              "      <td>2019-11-13</td>\n",
              "      <td>91.550003</td>\n",
              "      <td>91.650002</td>\n",
              "      <td>91.050003</td>\n",
              "      <td>91.449997</td>\n",
              "      <td>88.572029</td>\n",
              "      <td>1935545.0</td>\n",
              "    </tr>\n",
              "    <tr>\n",
              "      <th>1</th>\n",
              "      <td>2019-11-14</td>\n",
              "      <td>91.599998</td>\n",
              "      <td>91.800003</td>\n",
              "      <td>91.199997</td>\n",
              "      <td>91.400002</td>\n",
              "      <td>88.523605</td>\n",
              "      <td>2174281.0</td>\n",
              "    </tr>\n",
              "    <tr>\n",
              "      <th>2</th>\n",
              "      <td>2019-11-15</td>\n",
              "      <td>92.000000</td>\n",
              "      <td>92.500000</td>\n",
              "      <td>92.000000</td>\n",
              "      <td>92.300003</td>\n",
              "      <td>89.395287</td>\n",
              "      <td>2510879.0</td>\n",
              "    </tr>\n",
              "    <tr>\n",
              "      <th>3</th>\n",
              "      <td>2019-11-18</td>\n",
              "      <td>92.500000</td>\n",
              "      <td>92.900002</td>\n",
              "      <td>92.400002</td>\n",
              "      <td>92.900002</td>\n",
              "      <td>89.976402</td>\n",
              "      <td>2087613.0</td>\n",
              "    </tr>\n",
              "    <tr>\n",
              "      <th>4</th>\n",
              "      <td>2019-11-19</td>\n",
              "      <td>92.900002</td>\n",
              "      <td>93.599998</td>\n",
              "      <td>92.650002</td>\n",
              "      <td>93.599998</td>\n",
              "      <td>90.654366</td>\n",
              "      <td>2821624.0</td>\n",
              "    </tr>\n",
              "  </tbody>\n",
              "</table>\n",
              "</div>"
            ],
            "text/plain": [
              "         Date       Open       High        Low      Close  Adj Close     Volume\n",
              "0  2019-11-13  91.550003  91.650002  91.050003  91.449997  88.572029  1935545.0\n",
              "1  2019-11-14  91.599998  91.800003  91.199997  91.400002  88.523605  2174281.0\n",
              "2  2019-11-15  92.000000  92.500000  92.000000  92.300003  89.395287  2510879.0\n",
              "3  2019-11-18  92.500000  92.900002  92.400002  92.900002  89.976402  2087613.0\n",
              "4  2019-11-19  92.900002  93.599998  92.650002  93.599998  90.654366  2821624.0"
            ]
          },
          "metadata": {
            "tags": []
          },
          "execution_count": 4
        }
      ]
    },
    {
      "cell_type": "code",
      "metadata": {
        "id": "fy_l92eoVdqj"
      },
      "source": [
        "import numpy as np\n",
        "def normalize(df):\n",
        "  norm=df.apply( lambda x: (x-np.min(x)) / (np.max(x)-np.min(x)) )\n",
        "  return norm"
      ],
      "execution_count": null,
      "outputs": []
    },
    {
      "cell_type": "code",
      "metadata": {
        "id": "cJ60QZjAWYYN"
      },
      "source": [
        "stock = stock.dropna()\n",
        "min1=np.min(stock['Close'])\n",
        "scale=np.max(stock['Close'])- min1\n",
        "stock.iloc[:,1:7] = normalize(stock.iloc[:,1:7])\n",
        "stock['y']=stock['Close'].shift(-1)\n",
        "stock.head()"
      ],
      "execution_count": null,
      "outputs": []
    },
    {
      "cell_type": "code",
      "metadata": {
        "id": "WJZz0mHgYzsd"
      },
      "source": [
        "stock=stock.drop(labels='Date',axis=1)\n",
        "stock=stock.drop(labels='Open',axis=1)\n",
        "stock=stock.drop(labels='Adj Close',axis=1)\n",
        "stock.head()\n"
      ],
      "execution_count": null,
      "outputs": []
    },
    {
      "cell_type": "code",
      "metadata": {
        "id": "--Vic7-Haz3-",
        "outputId": "d404e86f-7b0a-41e7-f2f7-06d4b12baf5d",
        "colab": {
          "base_uri": "https://localhost:8080/"
        }
      },
      "source": [
        "train=stock[0:200]\n",
        "len(train) #200筆\n",
        "test=stock[-47:]\n",
        "len(test) #47筆"
      ],
      "execution_count": null,
      "outputs": [
        {
          "output_type": "execute_result",
          "data": {
            "text/plain": [
              "47"
            ]
          },
          "metadata": {
            "tags": []
          },
          "execution_count": 27
        }
      ]
    },
    {
      "cell_type": "code",
      "metadata": {
        "id": "JAUjb2jDZ9Om"
      },
      "source": [
        "import tensorflow as tf\n",
        "data1=tf.keras.preprocessing.sequence.TimeseriesGenerator(train, \n",
        " train,length=7,sampling_rate=1,stride=1  )\n",
        "test1=tf.keras.preprocessing.sequence.TimeseriesGenerator(test, \n",
        " test,length=7,sampling_rate=1, stride=1   )"
      ],
      "execution_count": null,
      "outputs": []
    },
    {
      "cell_type": "code",
      "metadata": {
        "id": "IuaVZP7ne1eI"
      },
      "source": [
        "def train_window(df, days=7, pday=1):\n",
        "  x_train, y_train=[],[]\n",
        "  for i in range(df.shape[0]-days - pday +1 ):\n",
        "    x_train.append( np.array(df.iloc[i:i+days,0:-1]  )  )\n",
        "    y_train.append( np.array(df.iloc[i:i+days,-1] )  ) \n",
        "  return np.array(x_train ), np.array(y_train)"
      ],
      "execution_count": null,
      "outputs": []
    },
    {
      "cell_type": "code",
      "metadata": {
        "id": "ZApivECKgZKR",
        "outputId": "a8eed951-c61b-436d-f8df-66a0092e16ca",
        "colab": {
          "base_uri": "https://localhost:8080/",
          "height": 202
        }
      },
      "source": [
        "(x_train, y_train)=train_window(train)\n",
        "(x_test, y_test)=train_window(test)\n",
        "stock.head()"
      ],
      "execution_count": null,
      "outputs": [
        {
          "output_type": "execute_result",
          "data": {
            "text/html": [
              "<div>\n",
              "<style scoped>\n",
              "    .dataframe tbody tr th:only-of-type {\n",
              "        vertical-align: middle;\n",
              "    }\n",
              "\n",
              "    .dataframe tbody tr th {\n",
              "        vertical-align: top;\n",
              "    }\n",
              "\n",
              "    .dataframe thead th {\n",
              "        text-align: right;\n",
              "    }\n",
              "</style>\n",
              "<table border=\"1\" class=\"dataframe\">\n",
              "  <thead>\n",
              "    <tr style=\"text-align: right;\">\n",
              "      <th></th>\n",
              "      <th>High</th>\n",
              "      <th>Low</th>\n",
              "      <th>Close</th>\n",
              "      <th>Volume</th>\n",
              "      <th>y</th>\n",
              "    </tr>\n",
              "  </thead>\n",
              "  <tbody>\n",
              "    <tr>\n",
              "      <th>0</th>\n",
              "      <td>0.537760</td>\n",
              "      <td>0.574186</td>\n",
              "      <td>0.562653</td>\n",
              "      <td>0.027441</td>\n",
              "      <td>0.561425</td>\n",
              "    </tr>\n",
              "    <tr>\n",
              "      <th>1</th>\n",
              "      <td>0.541667</td>\n",
              "      <td>0.577805</td>\n",
              "      <td>0.561425</td>\n",
              "      <td>0.030953</td>\n",
              "      <td>0.583538</td>\n",
              "    </tr>\n",
              "    <tr>\n",
              "      <th>2</th>\n",
              "      <td>0.559896</td>\n",
              "      <td>0.597105</td>\n",
              "      <td>0.583538</td>\n",
              "      <td>0.035906</td>\n",
              "      <td>0.598280</td>\n",
              "    </tr>\n",
              "    <tr>\n",
              "      <th>3</th>\n",
              "      <td>0.570313</td>\n",
              "      <td>0.606755</td>\n",
              "      <td>0.598280</td>\n",
              "      <td>0.029678</td>\n",
              "      <td>0.615479</td>\n",
              "    </tr>\n",
              "    <tr>\n",
              "      <th>4</th>\n",
              "      <td>0.588542</td>\n",
              "      <td>0.612787</td>\n",
              "      <td>0.615479</td>\n",
              "      <td>0.040478</td>\n",
              "      <td>0.606880</td>\n",
              "    </tr>\n",
              "  </tbody>\n",
              "</table>\n",
              "</div>"
            ],
            "text/plain": [
              "       High       Low     Close    Volume         y\n",
              "0  0.537760  0.574186  0.562653  0.027441  0.561425\n",
              "1  0.541667  0.577805  0.561425  0.030953  0.583538\n",
              "2  0.559896  0.597105  0.583538  0.035906  0.598280\n",
              "3  0.570313  0.606755  0.598280  0.029678  0.615479\n",
              "4  0.588542  0.612787  0.615479  0.040478  0.606880"
            ]
          },
          "metadata": {
            "tags": []
          },
          "execution_count": 55
        }
      ]
    },
    {
      "cell_type": "code",
      "metadata": {
        "id": "-a0MbO-XhIFI",
        "outputId": "da71c06d-8d30-40b7-e078-531709b89349",
        "colab": {
          "base_uri": "https://localhost:8080/"
        }
      },
      "source": [
        "x_train.shape, y_train.shape #((193, 7, 4), (193, 7))\n",
        "x_test.shape, y_test.shape  #((40, 7, 4), (40, 7))"
      ],
      "execution_count": null,
      "outputs": [
        {
          "output_type": "execute_result",
          "data": {
            "text/plain": [
              "((40, 7, 4), (40, 7))"
            ]
          },
          "metadata": {
            "tags": []
          },
          "execution_count": 59
        }
      ]
    },
    {
      "cell_type": "code",
      "metadata": {
        "id": "uKTd-xnqhxzB"
      },
      "source": [
        "class MyRNN(tf.keras.Model):\n",
        "  def __init__(self, units):\n",
        "    super().__init__()\n",
        "    self.f1=tf.keras.layers.SimpleRNN(units, input_shape=(7,4), dropout=0.2,\n",
        "         return_sequences=True, return_state=True,unroll=True)\n",
        "    self.f2=tf.keras.layers.SimpleRNN(units, dropout=0.2,unroll=True)\n",
        "    self.f3=tf.keras.layers.Dense(32, 'relu')\n",
        "    self.f4=tf.keras.layers.Dense(1, 'sigmoid')\n",
        "\n",
        "  def call(self, inputs):\n",
        "    x=self.f1(inputs)\n",
        "    x=self.f2(x)\n",
        "    x=self.f3(x)\n",
        "    x=self.f4(x)\n",
        "    return x "
      ],
      "execution_count": null,
      "outputs": []
    },
    {
      "cell_type": "code",
      "metadata": {
        "id": "TxuDrDSPjzqp",
        "outputId": "2ce4df4a-59c8-499c-b85c-d28bf55f5329",
        "colab": {
          "base_uri": "https://localhost:8080/"
        }
      },
      "source": [
        "batchsz=16\n",
        "data=tf.data.Dataset.from_tensor_slices( (x_train, y_train) )\n",
        "data = data.batch(batchsz,drop_remainder=True)\n",
        "data_test=tf.data.Dataset.from_tensor_slices( (x_test, y_test) )\n",
        "data_test = data_test.batch(batchsz,drop_remainder=True)\n",
        "data_iter = iter(data)\n",
        "samples = next(data_iter)\n",
        "#print(samples[0].shape,samples[1].shape)\n",
        "model=MyRNN(32)\n",
        "model.compile(optimizer='adam', loss='mae', metrics=['mse'])\n",
        "model.fit(data, epochs=100, validation_data=data_test, shuffle=True)"
      ],
      "execution_count": null,
      "outputs": [
        {
          "output_type": "stream",
          "text": [
            "Epoch 1/100\n",
            "WARNING:tensorflow:Layer my_rnn_2 is casting an input tensor from dtype float64 to the layer's dtype of float32, which is new behavior in TensorFlow 2.  The layer has dtype float32 because its dtype defaults to floatx.\n",
            "\n",
            "If you intended to run this layer in float32, you can safely ignore this warning. If in doubt, this warning is likely only an issue if you are porting a TensorFlow 1.X model to TensorFlow 2.\n",
            "\n",
            "To change all layers to have dtype float64 by default, call `tf.keras.backend.set_floatx('float64')`. To change just this layer, pass dtype='float64' to the layer constructor. If you are the author of this layer, you can disable autocasting by passing autocast=False to the base Layer constructor.\n",
            "\n",
            "12/12 [==============================] - 0s 23ms/step - loss: 0.1846 - mse: 0.0491 - val_loss: 0.2672 - val_mse: 0.0730\n",
            "Epoch 2/100\n",
            "12/12 [==============================] - 0s 3ms/step - loss: 0.1410 - mse: 0.0307 - val_loss: 0.3261 - val_mse: 0.1077\n",
            "Epoch 3/100\n",
            "12/12 [==============================] - 0s 3ms/step - loss: 0.1279 - mse: 0.0246 - val_loss: 0.2403 - val_mse: 0.0590\n",
            "Epoch 4/100\n",
            "12/12 [==============================] - 0s 3ms/step - loss: 0.1186 - mse: 0.0237 - val_loss: 0.2298 - val_mse: 0.0539\n",
            "Epoch 5/100\n",
            "12/12 [==============================] - 0s 3ms/step - loss: 0.0983 - mse: 0.0168 - val_loss: 0.1908 - val_mse: 0.0377\n",
            "Epoch 6/100\n",
            "12/12 [==============================] - 0s 3ms/step - loss: 0.0879 - mse: 0.0124 - val_loss: 0.2281 - val_mse: 0.0530\n",
            "Epoch 7/100\n",
            "12/12 [==============================] - 0s 3ms/step - loss: 0.0835 - mse: 0.0123 - val_loss: 0.1776 - val_mse: 0.0326\n",
            "Epoch 8/100\n",
            "12/12 [==============================] - 0s 3ms/step - loss: 0.0896 - mse: 0.0142 - val_loss: 0.1977 - val_mse: 0.0400\n",
            "Epoch 9/100\n",
            "12/12 [==============================] - 0s 3ms/step - loss: 0.0840 - mse: 0.0133 - val_loss: 0.1962 - val_mse: 0.0394\n",
            "Epoch 10/100\n",
            "12/12 [==============================] - 0s 3ms/step - loss: 0.0748 - mse: 0.0112 - val_loss: 0.1788 - val_mse: 0.0329\n",
            "Epoch 11/100\n",
            "12/12 [==============================] - 0s 3ms/step - loss: 0.0774 - mse: 0.0117 - val_loss: 0.1545 - val_mse: 0.0248\n",
            "Epoch 12/100\n",
            "12/12 [==============================] - 0s 4ms/step - loss: 0.0753 - mse: 0.0112 - val_loss: 0.1252 - val_mse: 0.0166\n",
            "Epoch 13/100\n",
            "12/12 [==============================] - 0s 3ms/step - loss: 0.1003 - mse: 0.0160 - val_loss: 0.3026 - val_mse: 0.0925\n",
            "Epoch 14/100\n",
            "12/12 [==============================] - 0s 3ms/step - loss: 0.0917 - mse: 0.0134 - val_loss: 0.1768 - val_mse: 0.0321\n",
            "Epoch 15/100\n",
            "12/12 [==============================] - 0s 3ms/step - loss: 0.0671 - mse: 0.0088 - val_loss: 0.1202 - val_mse: 0.0154\n",
            "Epoch 16/100\n",
            "12/12 [==============================] - 0s 3ms/step - loss: 0.0766 - mse: 0.0095 - val_loss: 0.2167 - val_mse: 0.0479\n",
            "Epoch 17/100\n",
            "12/12 [==============================] - 0s 3ms/step - loss: 0.0676 - mse: 0.0087 - val_loss: 0.1849 - val_mse: 0.0351\n",
            "Epoch 18/100\n",
            "12/12 [==============================] - 0s 2ms/step - loss: 0.0609 - mse: 0.0081 - val_loss: 0.1590 - val_mse: 0.0262\n",
            "Epoch 19/100\n",
            "12/12 [==============================] - 0s 2ms/step - loss: 0.0585 - mse: 0.0071 - val_loss: 0.1650 - val_mse: 0.0282\n",
            "Epoch 20/100\n",
            "12/12 [==============================] - 0s 2ms/step - loss: 0.0637 - mse: 0.0070 - val_loss: 0.2193 - val_mse: 0.0490\n",
            "Epoch 21/100\n",
            "12/12 [==============================] - 0s 3ms/step - loss: 0.0606 - mse: 0.0099 - val_loss: 0.1808 - val_mse: 0.0336\n",
            "Epoch 22/100\n",
            "12/12 [==============================] - 0s 2ms/step - loss: 0.0570 - mse: 0.0063 - val_loss: 0.1565 - val_mse: 0.0254\n",
            "Epoch 23/100\n",
            "12/12 [==============================] - 0s 2ms/step - loss: 0.0590 - mse: 0.0059 - val_loss: 0.1912 - val_mse: 0.0375\n",
            "Epoch 24/100\n",
            "12/12 [==============================] - 0s 2ms/step - loss: 0.0539 - mse: 0.0059 - val_loss: 0.1873 - val_mse: 0.0360\n",
            "Epoch 25/100\n",
            "12/12 [==============================] - 0s 2ms/step - loss: 0.0560 - mse: 0.0058 - val_loss: 0.1945 - val_mse: 0.0387\n",
            "Epoch 26/100\n",
            "12/12 [==============================] - 0s 2ms/step - loss: 0.0518 - mse: 0.0049 - val_loss: 0.1908 - val_mse: 0.0373\n",
            "Epoch 27/100\n",
            "12/12 [==============================] - 0s 3ms/step - loss: 0.0467 - mse: 0.0042 - val_loss: 0.1457 - val_mse: 0.0221\n",
            "Epoch 28/100\n",
            "12/12 [==============================] - 0s 2ms/step - loss: 0.0519 - mse: 0.0044 - val_loss: 0.1960 - val_mse: 0.0393\n",
            "Epoch 29/100\n",
            "12/12 [==============================] - 0s 3ms/step - loss: 0.0587 - mse: 0.0073 - val_loss: 0.1915 - val_mse: 0.0376\n",
            "Epoch 30/100\n",
            "12/12 [==============================] - 0s 2ms/step - loss: 0.0553 - mse: 0.0060 - val_loss: 0.2048 - val_mse: 0.0429\n",
            "Epoch 31/100\n",
            "12/12 [==============================] - 0s 3ms/step - loss: 0.0449 - mse: 0.0036 - val_loss: 0.1726 - val_mse: 0.0307\n",
            "Epoch 32/100\n",
            "12/12 [==============================] - 0s 2ms/step - loss: 0.0518 - mse: 0.0053 - val_loss: 0.1680 - val_mse: 0.0291\n",
            "Epoch 33/100\n",
            "12/12 [==============================] - 0s 3ms/step - loss: 0.0511 - mse: 0.0047 - val_loss: 0.1695 - val_mse: 0.0296\n",
            "Epoch 34/100\n",
            "12/12 [==============================] - 0s 3ms/step - loss: 0.0568 - mse: 0.0069 - val_loss: 0.2223 - val_mse: 0.0503\n",
            "Epoch 35/100\n",
            "12/12 [==============================] - 0s 3ms/step - loss: 0.0528 - mse: 0.0066 - val_loss: 0.1965 - val_mse: 0.0397\n",
            "Epoch 36/100\n",
            "12/12 [==============================] - 0s 4ms/step - loss: 0.0523 - mse: 0.0046 - val_loss: 0.1348 - val_mse: 0.0191\n",
            "Epoch 37/100\n",
            "12/12 [==============================] - 0s 3ms/step - loss: 0.0573 - mse: 0.0051 - val_loss: 0.2096 - val_mse: 0.0450\n",
            "Epoch 38/100\n",
            "12/12 [==============================] - 0s 3ms/step - loss: 0.0848 - mse: 0.0114 - val_loss: 0.2968 - val_mse: 0.0890\n",
            "Epoch 39/100\n",
            "12/12 [==============================] - 0s 3ms/step - loss: 0.0602 - mse: 0.0064 - val_loss: 0.1098 - val_mse: 0.0131\n",
            "Epoch 40/100\n",
            "12/12 [==============================] - 0s 3ms/step - loss: 0.0623 - mse: 0.0061 - val_loss: 0.0860 - val_mse: 0.0083\n",
            "Epoch 41/100\n",
            "12/12 [==============================] - 0s 3ms/step - loss: 0.0724 - mse: 0.0081 - val_loss: 0.2724 - val_mse: 0.0751\n",
            "Epoch 42/100\n",
            "12/12 [==============================] - 0s 3ms/step - loss: 0.0542 - mse: 0.0047 - val_loss: 0.1925 - val_mse: 0.0379\n",
            "Epoch 43/100\n",
            "12/12 [==============================] - 0s 3ms/step - loss: 0.0483 - mse: 0.0047 - val_loss: 0.0898 - val_mse: 0.0090\n",
            "Epoch 44/100\n",
            "12/12 [==============================] - 0s 3ms/step - loss: 0.0686 - mse: 0.0091 - val_loss: 0.2139 - val_mse: 0.0467\n",
            "Epoch 45/100\n",
            "12/12 [==============================] - 0s 3ms/step - loss: 0.0512 - mse: 0.0048 - val_loss: 0.1915 - val_mse: 0.0376\n",
            "Epoch 46/100\n",
            "12/12 [==============================] - 0s 3ms/step - loss: 0.0453 - mse: 0.0037 - val_loss: 0.1329 - val_mse: 0.0186\n",
            "Epoch 47/100\n",
            "12/12 [==============================] - 0s 3ms/step - loss: 0.0574 - mse: 0.0060 - val_loss: 0.1930 - val_mse: 0.0382\n",
            "Epoch 48/100\n",
            "12/12 [==============================] - 0s 3ms/step - loss: 0.0697 - mse: 0.0097 - val_loss: 0.2563 - val_mse: 0.0666\n",
            "Epoch 49/100\n",
            "12/12 [==============================] - 0s 4ms/step - loss: 0.0497 - mse: 0.0053 - val_loss: 0.1259 - val_mse: 0.0168\n",
            "Epoch 50/100\n",
            "12/12 [==============================] - 0s 3ms/step - loss: 0.0659 - mse: 0.0069 - val_loss: 0.1152 - val_mse: 0.0142\n",
            "Epoch 51/100\n",
            "12/12 [==============================] - 0s 3ms/step - loss: 0.0666 - mse: 0.0070 - val_loss: 0.2329 - val_mse: 0.0552\n",
            "Epoch 52/100\n",
            "12/12 [==============================] - 0s 3ms/step - loss: 0.0468 - mse: 0.0039 - val_loss: 0.1282 - val_mse: 0.0174\n",
            "Epoch 53/100\n",
            "12/12 [==============================] - 0s 3ms/step - loss: 0.0530 - mse: 0.0046 - val_loss: 0.1405 - val_mse: 0.0207\n",
            "Epoch 54/100\n",
            "12/12 [==============================] - 0s 3ms/step - loss: 0.0576 - mse: 0.0059 - val_loss: 0.2308 - val_mse: 0.0542\n",
            "Epoch 55/100\n",
            "12/12 [==============================] - 0s 3ms/step - loss: 0.0434 - mse: 0.0035 - val_loss: 0.1495 - val_mse: 0.0233\n",
            "Epoch 56/100\n",
            "12/12 [==============================] - 0s 3ms/step - loss: 0.0465 - mse: 0.0038 - val_loss: 0.1516 - val_mse: 0.0239\n",
            "Epoch 57/100\n",
            "12/12 [==============================] - 0s 3ms/step - loss: 0.0592 - mse: 0.0069 - val_loss: 0.2297 - val_mse: 0.0537\n",
            "Epoch 58/100\n",
            "12/12 [==============================] - 0s 3ms/step - loss: 0.0426 - mse: 0.0036 - val_loss: 0.2008 - val_mse: 0.0412\n",
            "Epoch 59/100\n",
            "12/12 [==============================] - 0s 3ms/step - loss: 0.0389 - mse: 0.0029 - val_loss: 0.1499 - val_mse: 0.0234\n",
            "Epoch 60/100\n",
            "12/12 [==============================] - 0s 2ms/step - loss: 0.0487 - mse: 0.0042 - val_loss: 0.1810 - val_mse: 0.0337\n",
            "Epoch 61/100\n",
            "12/12 [==============================] - 0s 2ms/step - loss: 0.0530 - mse: 0.0047 - val_loss: 0.2451 - val_mse: 0.0610\n",
            "Epoch 62/100\n",
            "12/12 [==============================] - 0s 3ms/step - loss: 0.0471 - mse: 0.0037 - val_loss: 0.1316 - val_mse: 0.0183\n",
            "Epoch 63/100\n",
            "12/12 [==============================] - 0s 2ms/step - loss: 0.0444 - mse: 0.0034 - val_loss: 0.1477 - val_mse: 0.0227\n",
            "Epoch 64/100\n",
            "12/12 [==============================] - 0s 3ms/step - loss: 0.0538 - mse: 0.0047 - val_loss: 0.2304 - val_mse: 0.0540\n",
            "Epoch 65/100\n",
            "12/12 [==============================] - 0s 3ms/step - loss: 0.0493 - mse: 0.0053 - val_loss: 0.1855 - val_mse: 0.0354\n",
            "Epoch 66/100\n",
            "12/12 [==============================] - 0s 4ms/step - loss: 0.0522 - mse: 0.0044 - val_loss: 0.0810 - val_mse: 0.0075\n",
            "Epoch 67/100\n",
            "12/12 [==============================] - 0s 3ms/step - loss: 0.0619 - mse: 0.0062 - val_loss: 0.1919 - val_mse: 0.0378\n",
            "Epoch 68/100\n",
            "12/12 [==============================] - 0s 3ms/step - loss: 0.0460 - mse: 0.0035 - val_loss: 0.2146 - val_mse: 0.0470\n",
            "Epoch 69/100\n",
            "12/12 [==============================] - 0s 3ms/step - loss: 0.0423 - mse: 0.0037 - val_loss: 0.1251 - val_mse: 0.0165\n",
            "Epoch 70/100\n",
            "12/12 [==============================] - 0s 3ms/step - loss: 0.0578 - mse: 0.0061 - val_loss: 0.1992 - val_mse: 0.0406\n",
            "Epoch 71/100\n",
            "12/12 [==============================] - 0s 2ms/step - loss: 0.0524 - mse: 0.0052 - val_loss: 0.2181 - val_mse: 0.0484\n",
            "Epoch 72/100\n",
            "12/12 [==============================] - 0s 2ms/step - loss: 0.0427 - mse: 0.0033 - val_loss: 0.0967 - val_mse: 0.0103\n",
            "Epoch 73/100\n",
            "12/12 [==============================] - 0s 2ms/step - loss: 0.0528 - mse: 0.0048 - val_loss: 0.1775 - val_mse: 0.0324\n",
            "Epoch 74/100\n",
            "12/12 [==============================] - 0s 3ms/step - loss: 0.0461 - mse: 0.0040 - val_loss: 0.2207 - val_mse: 0.0496\n",
            "Epoch 75/100\n",
            "12/12 [==============================] - 0s 3ms/step - loss: 0.0427 - mse: 0.0032 - val_loss: 0.1392 - val_mse: 0.0203\n",
            "Epoch 76/100\n",
            "12/12 [==============================] - 0s 2ms/step - loss: 0.0457 - mse: 0.0036 - val_loss: 0.1384 - val_mse: 0.0200\n",
            "Epoch 77/100\n",
            "12/12 [==============================] - 0s 2ms/step - loss: 0.0545 - mse: 0.0050 - val_loss: 0.2410 - val_mse: 0.0590\n",
            "Epoch 78/100\n",
            "12/12 [==============================] - 0s 3ms/step - loss: 0.0474 - mse: 0.0037 - val_loss: 0.1655 - val_mse: 0.0283\n",
            "Epoch 79/100\n",
            "12/12 [==============================] - 0s 2ms/step - loss: 0.0428 - mse: 0.0032 - val_loss: 0.1279 - val_mse: 0.0173\n",
            "Epoch 80/100\n",
            "12/12 [==============================] - 0s 2ms/step - loss: 0.0583 - mse: 0.0058 - val_loss: 0.2358 - val_mse: 0.0566\n",
            "Epoch 81/100\n",
            "12/12 [==============================] - 0s 2ms/step - loss: 0.0539 - mse: 0.0064 - val_loss: 0.1863 - val_mse: 0.0356\n",
            "Epoch 82/100\n",
            "12/12 [==============================] - 0s 3ms/step - loss: 0.0455 - mse: 0.0048 - val_loss: 0.1115 - val_mse: 0.0133\n",
            "Epoch 83/100\n",
            "12/12 [==============================] - 0s 3ms/step - loss: 0.0542 - mse: 0.0048 - val_loss: 0.1980 - val_mse: 0.0401\n",
            "Epoch 84/100\n",
            "12/12 [==============================] - 0s 3ms/step - loss: 0.0452 - mse: 0.0041 - val_loss: 0.1795 - val_mse: 0.0331\n",
            "Epoch 85/100\n",
            "12/12 [==============================] - 0s 3ms/step - loss: 0.0451 - mse: 0.0054 - val_loss: 0.1503 - val_mse: 0.0235\n",
            "Epoch 86/100\n",
            "12/12 [==============================] - 0s 3ms/step - loss: 0.0381 - mse: 0.0027 - val_loss: 0.1684 - val_mse: 0.0293\n",
            "Epoch 87/100\n",
            "12/12 [==============================] - 0s 2ms/step - loss: 0.0383 - mse: 0.0038 - val_loss: 0.1834 - val_mse: 0.0345\n",
            "Epoch 88/100\n",
            "12/12 [==============================] - 0s 2ms/step - loss: 0.0395 - mse: 0.0044 - val_loss: 0.1930 - val_mse: 0.0381\n",
            "Epoch 89/100\n",
            "12/12 [==============================] - 0s 3ms/step - loss: 0.0379 - mse: 0.0029 - val_loss: 0.1594 - val_mse: 0.0263\n",
            "Epoch 90/100\n",
            "12/12 [==============================] - 0s 2ms/step - loss: 0.0425 - mse: 0.0031 - val_loss: 0.1779 - val_mse: 0.0325\n",
            "Epoch 91/100\n",
            "12/12 [==============================] - 0s 2ms/step - loss: 0.0458 - mse: 0.0037 - val_loss: 0.2184 - val_mse: 0.0486\n",
            "Epoch 92/100\n",
            "12/12 [==============================] - 0s 2ms/step - loss: 0.0399 - mse: 0.0029 - val_loss: 0.1346 - val_mse: 0.0191\n",
            "Epoch 93/100\n",
            "12/12 [==============================] - 0s 3ms/step - loss: 0.0492 - mse: 0.0040 - val_loss: 0.1683 - val_mse: 0.0292\n",
            "Epoch 94/100\n",
            "12/12 [==============================] - 0s 3ms/step - loss: 0.0549 - mse: 0.0049 - val_loss: 0.2389 - val_mse: 0.0580\n",
            "Epoch 95/100\n",
            "12/12 [==============================] - 0s 3ms/step - loss: 0.0519 - mse: 0.0044 - val_loss: 0.1315 - val_mse: 0.0182\n",
            "Epoch 96/100\n",
            "12/12 [==============================] - 0s 3ms/step - loss: 0.0525 - mse: 0.0044 - val_loss: 0.1668 - val_mse: 0.0287\n",
            "Epoch 97/100\n",
            "12/12 [==============================] - 0s 2ms/step - loss: 0.0504 - mse: 0.0051 - val_loss: 0.2233 - val_mse: 0.0507\n",
            "Epoch 98/100\n",
            "12/12 [==============================] - 0s 2ms/step - loss: 0.0419 - mse: 0.0040 - val_loss: 0.1668 - val_mse: 0.0287\n",
            "Epoch 99/100\n",
            "12/12 [==============================] - 0s 2ms/step - loss: 0.0444 - mse: 0.0043 - val_loss: 0.1523 - val_mse: 0.0241\n",
            "Epoch 100/100\n",
            "12/12 [==============================] - 0s 2ms/step - loss: 0.0478 - mse: 0.0042 - val_loss: 0.2290 - val_mse: 0.0533\n"
          ],
          "name": "stdout"
        },
        {
          "output_type": "execute_result",
          "data": {
            "text/plain": [
              "<tensorflow.python.keras.callbacks.History at 0x7f4502ad3400>"
            ]
          },
          "metadata": {
            "tags": []
          },
          "execution_count": 67
        }
      ]
    },
    {
      "cell_type": "markdown",
      "metadata": {
        "id": "EleBUMSdXv-2"
      },
      "source": [
        "<pre>\n",
        "Date\tOpen\tHigh\tLow\tClose\tAdj Close\tVolume\ty\n",
        "0\t2019-11-13\t91.550003\t91.650002\t91.050003\t91.449997\t88.572029\t1935545.0\t91.400002\n",
        "1\t2019-11-14\t91.599998\t91.800003\t91.199997\t91.400002\t88.523605\t2174281.0\t92.300003\n",
        "2\t2019-11-15\t92.000000\t92.500000\t92.000000\t92.300003\t89.395287\t2510879.0\t92.900002\n",
        "3\t2019-11-18\t92.500000\t92.900002\t92.400002\t92.900002\t89.976402\t2087613.0\t93.599998\n",
        "4\t2019-11-19\t92.900002\t93.599998\t92.650002\t93.599998\t90.654366\t2821624.0\t93.250000\n",
        "</pre>"
      ]
    }
  ]
}