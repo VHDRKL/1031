{
  "nbformat": 4,
  "nbformat_minor": 0,
  "metadata": {
    "kernelspec": {
      "display_name": "tensorflow_gpu",
      "language": "python",
      "name": "tensorflow_gpu"
    },
    "language_info": {
      "codemirror_mode": {
        "name": "ipython",
        "version": 3
      },
      "file_extension": ".py",
      "mimetype": "text/x-python",
      "name": "python",
      "nbconvert_exporter": "python",
      "pygments_lexer": "ipython3",
      "version": "3.7.4"
    },
    "colab": {
      "name": "TensorFlow2.0（1）：基本數據結構——張量.ipynb",
      "provenance": [],
      "include_colab_link": true
    }
  },
  "cells": [
    {
      "cell_type": "markdown",
      "metadata": {
        "id": "view-in-github",
        "colab_type": "text"
      },
      "source": [
        "<a href=\"https://colab.research.google.com/github/VHDRKL/1031/blob/main/TensorFlow2_0%EF%BC%881%EF%BC%89%EF%BC%9A%E5%9F%BA%E6%9C%AC%E6%95%B8%E6%93%9A%E7%B5%90%E6%A7%8B%E2%80%94%E2%80%94%E5%BC%B5%E9%87%8F.ipynb\" target=\"_parent\"><img src=\"https://colab.research.google.com/assets/colab-badge.svg\" alt=\"Open In Colab\"/></a>"
      ]
    },
    {
      "cell_type": "markdown",
      "metadata": {
        "id": "8M0AknIcAlw3"
      },
      "source": [
        "# 1引言"
      ]
    },
    {
      "cell_type": "markdown",
      "metadata": {
        "id": "sAisN7sRAlw4"
      },
      "source": [
        "TensorFlow2.0版本已經發佈，雖然不是正式版，但預覽版都發佈了，正式版還會遠嗎？相比於1.X，2.0版的TensorFlow修改的不是一點半點，這些修改極大的彌補了1.X版本的反人類設計，提升了框架的整體易用性，絕對好評！  \n",
        "\n",
        "趕緊來學習一波吧，做最先吃螃蟹的那一批人！先從TensorFlow的基本數據結構——張量（tensor）開始。"
      ]
    },
    {
      "cell_type": "markdown",
      "metadata": {
        "id": "68l3E7mEAlw5"
      },
      "source": [
        "# 2 創建"
      ]
    },
    {
      "cell_type": "markdown",
      "metadata": {
        "id": "pzXbKA9IAlw6"
      },
      "source": [
        "# 2.1 constant()方法"
      ]
    },
    {
      "cell_type": "code",
      "metadata": {
        "id": "neiRGQXPAlw7"
      },
      "source": [
        "import tensorflow as tf"
      ],
      "execution_count": null,
      "outputs": []
    },
    {
      "cell_type": "code",
      "metadata": {
        "id": "gTY_flIEAlw_",
        "outputId": "dc74c977-6470-4cf5-92d6-5612c0dd04f9"
      },
      "source": [
        "tf.constant(1)  # 創建一個整型張量"
      ],
      "execution_count": null,
      "outputs": [
        {
          "output_type": "execute_result",
          "data": {
            "text/plain": [
              "<tf.Tensor: id=0, shape=(), dtype=int32, numpy=1>"
            ]
          },
          "metadata": {
            "tags": []
          },
          "execution_count": 2
        }
      ]
    },
    {
      "cell_type": "code",
      "metadata": {
        "id": "iEU3bmXJAlxE",
        "outputId": "86eb48cc-3544-4931-aa65-b787ce2edf44"
      },
      "source": [
        "tf.constant(1.)  # 創建一個浮點型張量"
      ],
      "execution_count": null,
      "outputs": [
        {
          "output_type": "execute_result",
          "data": {
            "text/plain": [
              "<tf.Tensor: id=2, shape=(), dtype=float32, numpy=1.0>"
            ]
          },
          "metadata": {
            "tags": []
          },
          "execution_count": 3
        }
      ]
    },
    {
      "cell_type": "code",
      "metadata": {
        "id": "icwHlAaNAlxI",
        "outputId": "99169086-84e9-46bf-f717-67aa4380fe0f"
      },
      "source": [
        "tf.constant(2., dtype=tf.double)  # 創建的同時指定數據類型"
      ],
      "execution_count": null,
      "outputs": [
        {
          "output_type": "execute_result",
          "data": {
            "text/plain": [
              "<tf.Tensor: id=4, shape=(), dtype=float64, numpy=2.0>"
            ]
          },
          "metadata": {
            "tags": []
          },
          "execution_count": 4
        }
      ]
    },
    {
      "cell_type": "code",
      "metadata": {
        "id": "qXYMSeqdAlxL",
        "outputId": "d625a83f-9549-41d5-faea-1a9b650f23e0"
      },
      "source": [
        "tf.constant([[1.,2.,3.],[4.,5.,6.]])  # 通過傳入一個list參數創建"
      ],
      "execution_count": null,
      "outputs": [
        {
          "output_type": "execute_result",
          "data": {
            "text/plain": [
              "<tf.Tensor: id=6, shape=(2, 3), dtype=float32, numpy=\n",
              "array([[1., 2., 3.],\n",
              "       [4., 5., 6.]], dtype=float32)>"
            ]
          },
          "metadata": {
            "tags": []
          },
          "execution_count": 5
        }
      ]
    },
    {
      "cell_type": "markdown",
      "metadata": {
        "id": "_iVAojSwAlxO"
      },
      "source": [
        "如果輸入的數據與指定的數據類型不相符，會產生以下異常：  \n",
        "TypeError: Cannot convert provided value to EagerTensor. Provided value: 2.1 Requested dtype: int32"
      ]
    },
    {
      "cell_type": "markdown",
      "metadata": {
        "id": "X9-Lke0ZAlxP"
      },
      "source": [
        "# 2.2 convert_to_tensor()方法"
      ]
    },
    {
      "cell_type": "code",
      "metadata": {
        "id": "wRRtoNCNAlxQ"
      },
      "source": [
        "import numpy as np"
      ],
      "execution_count": null,
      "outputs": []
    },
    {
      "cell_type": "code",
      "metadata": {
        "id": "xU0eTjwsAlxU",
        "outputId": "5b8e6cc2-76e2-415b-ab14-3c69416a3ae2"
      },
      "source": [
        "tf.convert_to_tensor(np.ones([2, 3]))"
      ],
      "execution_count": null,
      "outputs": [
        {
          "output_type": "execute_result",
          "data": {
            "text/plain": [
              "<tf.Tensor: id=9, shape=(2, 3), dtype=float64, numpy=\n",
              "array([[1., 1., 1.],\n",
              "       [1., 1., 1.]])>"
            ]
          },
          "metadata": {
            "tags": []
          },
          "execution_count": 10
        }
      ]
    },
    {
      "cell_type": "code",
      "metadata": {
        "id": "9_EVo1j0Alxa",
        "outputId": "34aaef51-0485-444e-e270-39cddfd26e85"
      },
      "source": [
        "tf.convert_to_tensor(np.ones([2, 3]))"
      ],
      "execution_count": null,
      "outputs": [
        {
          "output_type": "execute_result",
          "data": {
            "text/plain": [
              "<tf.Tensor: id=11, shape=(2, 3), dtype=float64, numpy=\n",
              "array([[1., 1., 1.],\n",
              "       [1., 1., 1.]])>"
            ]
          },
          "metadata": {
            "tags": []
          },
          "execution_count": 11
        }
      ]
    },
    {
      "cell_type": "code",
      "metadata": {
        "id": "MVPY1IkyAlxe"
      },
      "source": [
        "tf.convert_to_tensor([[2.,3.],[3., 4.]])"
      ],
      "execution_count": null,
      "outputs": []
    },
    {
      "cell_type": "markdown",
      "metadata": {
        "id": "ZqxRA_h1Alxh"
      },
      "source": [
        "# 2.3 創建元素為指定值的tensor"
      ]
    },
    {
      "cell_type": "markdown",
      "metadata": {
        "id": "O_-3ik_ZAlxh"
      },
      "source": [
        "如果你熟悉numpy創建數組的方法，你一定見過zeros()、ones()等方法，TensorFlow中也有這些方法。"
      ]
    },
    {
      "cell_type": "markdown",
      "metadata": {
        "id": "hAS2ZSywAlxi"
      },
      "source": [
        "**（1）zeros()與ones()**"
      ]
    },
    {
      "cell_type": "code",
      "metadata": {
        "id": "HVNRq37lAlxk",
        "outputId": "fe8f36c1-0f16-42ba-a317-8390b31812bc",
        "colab": {
          "base_uri": "https://localhost:8080/",
          "height": 165
        }
      },
      "source": [
        "a = tf.zeros([2, 3, 3])  # 創建一個元素全為0，形狀為[2, 3, 3]的tensor"
      ],
      "execution_count": 1,
      "outputs": [
        {
          "output_type": "error",
          "ename": "NameError",
          "evalue": "ignored",
          "traceback": [
            "\u001b[0;31m---------------------------------------------------------------------------\u001b[0m",
            "\u001b[0;31mNameError\u001b[0m                                 Traceback (most recent call last)",
            "\u001b[0;32m<ipython-input-1-b2bf45112b53>\u001b[0m in \u001b[0;36m<module>\u001b[0;34m()\u001b[0m\n\u001b[0;32m----> 1\u001b[0;31m \u001b[0ma\u001b[0m \u001b[0;34m=\u001b[0m \u001b[0mtf\u001b[0m\u001b[0;34m.\u001b[0m\u001b[0mzeros\u001b[0m\u001b[0;34m(\u001b[0m\u001b[0;34m[\u001b[0m\u001b[0;36m2\u001b[0m\u001b[0;34m,\u001b[0m \u001b[0;36m3\u001b[0m\u001b[0;34m,\u001b[0m \u001b[0;36m3\u001b[0m\u001b[0;34m]\u001b[0m\u001b[0;34m)\u001b[0m  \u001b[0;31m# 創建一個元素全為0，形狀為[2, 3, 3]的tensor\u001b[0m\u001b[0;34m\u001b[0m\u001b[0;34m\u001b[0m\u001b[0m\n\u001b[0m",
            "\u001b[0;31mNameError\u001b[0m: name 'tf' is not defined"
          ]
        }
      ]
    },
    {
      "cell_type": "code",
      "metadata": {
        "id": "_hGnTiqwAlxn",
        "outputId": "2b1fed3f-f8bc-42cf-f54c-33bf23a44f82",
        "colab": {
          "base_uri": "https://localhost:8080/",
          "height": 165
        }
      },
      "source": [
        "a"
      ],
      "execution_count": 2,
      "outputs": [
        {
          "output_type": "error",
          "ename": "NameError",
          "evalue": "ignored",
          "traceback": [
            "\u001b[0;31m---------------------------------------------------------------------------\u001b[0m",
            "\u001b[0;31mNameError\u001b[0m                                 Traceback (most recent call last)",
            "\u001b[0;32m<ipython-input-2-3f786850e387>\u001b[0m in \u001b[0;36m<module>\u001b[0;34m()\u001b[0m\n\u001b[0;32m----> 1\u001b[0;31m \u001b[0ma\u001b[0m\u001b[0;34m\u001b[0m\u001b[0;34m\u001b[0m\u001b[0m\n\u001b[0m",
            "\u001b[0;31mNameError\u001b[0m: name 'a' is not defined"
          ]
        }
      ]
    },
    {
      "cell_type": "code",
      "metadata": {
        "id": "YjqSRVApAlxq"
      },
      "source": [
        "b = tf.ones([2, 3])  #  創建一個元素全為1，形狀為[2, 3]的tensor"
      ],
      "execution_count": null,
      "outputs": []
    },
    {
      "cell_type": "code",
      "metadata": {
        "id": "dUdKCrCLAlxt"
      },
      "source": [
        "b"
      ],
      "execution_count": null,
      "outputs": []
    },
    {
      "cell_type": "markdown",
      "metadata": {
        "id": "CaypIdz1Alxv"
      },
      "source": [
        "**（2）zeros_like()與ones_like**"
      ]
    },
    {
      "cell_type": "code",
      "metadata": {
        "id": "ZDbSQjM1Alxw"
      },
      "source": [
        "tf.zeros_like(b)  # 仿照b的shape創建一個全為0的tensor"
      ],
      "execution_count": null,
      "outputs": []
    },
    {
      "cell_type": "code",
      "metadata": {
        "id": "MLeVolbBAlxz"
      },
      "source": [
        "tf.ones_like(a)  # 仿照b的shape創建一個全為1的tensor"
      ],
      "execution_count": null,
      "outputs": []
    },
    {
      "cell_type": "markdown",
      "metadata": {
        "id": "c7S8gWZeAlx1"
      },
      "source": [
        "**（3）fill()**"
      ]
    },
    {
      "cell_type": "code",
      "metadata": {
        "id": "oMg_J6wkAlx2"
      },
      "source": [
        "tf.fill([2,3],5)  # 創建元素全為5，形狀為[2,3]的tensor"
      ],
      "execution_count": null,
      "outputs": []
    },
    {
      "cell_type": "markdown",
      "metadata": {
        "id": "dnLtaIGuAlx6"
      },
      "source": [
        "# 2.4 隨機初始化"
      ]
    },
    {
      "cell_type": "markdown",
      "metadata": {
        "id": "5pgIh7m2Alx6"
      },
      "source": [
        "在實際應用中，經常需要隨機初始化元素服從某種分佈的tensor，TensorFlow中也提供了這種功能。  \n",
        "\n",
        "**（1）從指定正態分佈中隨機取值：tf.random.normal()。**例如，隨機初始化一個元素服從均值為1，方差為1的正態分佈且形狀為[2, 3]的tensor："
      ]
    },
    {
      "cell_type": "code",
      "metadata": {
        "id": "QptfgdSrAlx7"
      },
      "source": [
        "tf.random.normal([2, 3], mean=1, stddev=1) "
      ],
      "execution_count": null,
      "outputs": []
    },
    {
      "cell_type": "markdown",
      "metadata": {
        "id": "Mh0FNHKPAlx9"
      },
      "source": [
        "**（2）從指定的截斷正態分佈中隨機取值：truncated_normal()。**意思是從指定的正太分佈中取值，但是取值範圍在兩個標準差範圍內，也就是：[ mean - 2 * stddev, mean + 2 * stddev ]"
      ]
    },
    {
      "cell_type": "code",
      "metadata": {
        "id": "FqIY8sOcAlx-"
      },
      "source": [
        "tf.random.truncated_normal([2, 3], mean=1, stddev=1)"
      ],
      "execution_count": null,
      "outputs": []
    },
    {
      "cell_type": "markdown",
      "metadata": {
        "id": "9TuprrkRAlyA"
      },
      "source": [
        "**（3）從指定均勻分佈中隨機取值：tf.random.uniform()。**"
      ]
    },
    {
      "cell_type": "code",
      "metadata": {
        "id": "eMbgac6mAlyB"
      },
      "source": [
        "tf.random.uniform([2, 3], minval=1, maxval=2) # 在1~2之間均勻分佈"
      ],
      "execution_count": null,
      "outputs": []
    },
    {
      "cell_type": "markdown",
      "metadata": {
        "id": "eRgBW8UVAlyD"
      },
      "source": [
        "# 3 索引"
      ]
    },
    {
      "cell_type": "code",
      "metadata": {
        "id": "cMAqDdASAlyE"
      },
      "source": [
        "a = tf.convert_to_tensor(np.arange(80).reshape(2,2,4,5))"
      ],
      "execution_count": null,
      "outputs": []
    },
    {
      "cell_type": "code",
      "metadata": {
        "id": "tZvYqXygAlyH"
      },
      "source": [
        "a"
      ],
      "execution_count": null,
      "outputs": []
    },
    {
      "cell_type": "markdown",
      "metadata": {
        "id": "NfcDMYThAlyK"
      },
      "source": [
        "# 3.1 基礎索引"
      ]
    },
    {
      "cell_type": "markdown",
      "metadata": {
        "id": "RmV64k-CAlyL"
      },
      "source": [
        "TensorFlow支持Python原生的基礎索引方式，即多個方括號逐步索引取值：[idx][idx][idx]，每個方括號對應一個維度。"
      ]
    },
    {
      "cell_type": "code",
      "metadata": {
        "id": "MMiRn8ETAlyL",
        "outputId": "85b70b82-9b95-405e-ee33-2ef21422e14c"
      },
      "source": [
        "a[0]  # 取第一個維度"
      ],
      "execution_count": null,
      "outputs": [
        {
          "output_type": "execute_result",
          "data": {
            "text/plain": [
              "<tf.Tensor: id=85, shape=(2, 4, 5), dtype=int32, numpy=\n",
              "array([[[ 0,  1,  2,  3,  4],\n",
              "        [ 5,  6,  7,  8,  9],\n",
              "        [10, 11, 12, 13, 14],\n",
              "        [15, 16, 17, 18, 19]],\n",
              "\n",
              "       [[20, 21, 22, 23, 24],\n",
              "        [25, 26, 27, 28, 29],\n",
              "        [30, 31, 32, 33, 34],\n",
              "        [35, 36, 37, 38, 39]]])>"
            ]
          },
          "metadata": {
            "tags": []
          },
          "execution_count": 35
        }
      ]
    },
    {
      "cell_type": "code",
      "metadata": {
        "id": "SC9tuxTdAlyO",
        "outputId": "b29386c1-055e-4ea9-8689-245482be092b"
      },
      "source": [
        "a[0][1]  # 同時篩選兩個維度"
      ],
      "execution_count": null,
      "outputs": [
        {
          "output_type": "execute_result",
          "data": {
            "text/plain": [
              "<tf.Tensor: id=94, shape=(4, 5), dtype=int32, numpy=\n",
              "array([[20, 21, 22, 23, 24],\n",
              "       [25, 26, 27, 28, 29],\n",
              "       [30, 31, 32, 33, 34],\n",
              "       [35, 36, 37, 38, 39]])>"
            ]
          },
          "metadata": {
            "tags": []
          },
          "execution_count": 36
        }
      ]
    },
    {
      "cell_type": "code",
      "metadata": {
        "id": "tnwGBwyGAlyR",
        "outputId": "4991f455-eb4d-4d1f-d6bd-2916df4660f6"
      },
      "source": [
        "a[0][1][3][3]  # 同時對4個維度進行篩選"
      ],
      "execution_count": null,
      "outputs": [
        {
          "output_type": "execute_result",
          "data": {
            "text/plain": [
              "<tf.Tensor: id=111, shape=(), dtype=int32, numpy=38>"
            ]
          },
          "metadata": {
            "tags": []
          },
          "execution_count": 37
        }
      ]
    },
    {
      "cell_type": "markdown",
      "metadata": {
        "id": "InAHuVz4AlyT"
      },
      "source": [
        "這種索引數據的方法簡單，易於理解，但是可讀性差，只能按維度依次索引數據，也不能索引列。"
      ]
    },
    {
      "cell_type": "markdown",
      "metadata": {
        "id": "rWn1PANpAlyU"
      },
      "source": [
        "# 3.2 numpy索引"
      ]
    },
    {
      "cell_type": "markdown",
      "metadata": {
        "id": "Ju_PQtzlAlyU"
      },
      "source": [
        "TensorFlow也繼承了numpy中的部分索引方式，如果對numpy索引方式不熟悉，可以查看我的[前幾篇博客](https://www.cnblogs.com/chenhuabin/p/11412818.html)。  \n",
        "**（1）[idx1, idx2, idx3]**  \n",
        "這種索引方式是在一個方括號內寫下所有的索引，每個索引序號之間用逗號隔開。"
      ]
    },
    {
      "cell_type": "code",
      "metadata": {
        "id": "nFLgKRM9AlyV",
        "outputId": "49f1fa7f-4a8c-4151-ad52-c78fe73300c2"
      },
      "source": [
        "a[1]  # 篩選第一維度，這跟基礎索引一樣"
      ],
      "execution_count": null,
      "outputs": [
        {
          "output_type": "execute_result",
          "data": {
            "text/plain": [
              "<tf.Tensor: id=116, shape=(2, 4, 5), dtype=int32, numpy=\n",
              "array([[[40, 41, 42, 43, 44],\n",
              "        [45, 46, 47, 48, 49],\n",
              "        [50, 51, 52, 53, 54],\n",
              "        [55, 56, 57, 58, 59]],\n",
              "\n",
              "       [[60, 61, 62, 63, 64],\n",
              "        [65, 66, 67, 68, 69],\n",
              "        [70, 71, 72, 73, 74],\n",
              "        [75, 76, 77, 78, 79]]])>"
            ]
          },
          "metadata": {
            "tags": []
          },
          "execution_count": 38
        }
      ]
    },
    {
      "cell_type": "code",
      "metadata": {
        "id": "ZNqPOtNfAlyX",
        "outputId": "54fe1f0d-cc47-4bb6-c22b-b3a034ef810b"
      },
      "source": [
        "a[1,1, 3]  # 同時帥選3個維度"
      ],
      "execution_count": null,
      "outputs": [
        {
          "output_type": "execute_result",
          "data": {
            "text/plain": [
              "<tf.Tensor: id=121, shape=(5,), dtype=int32, numpy=array([75, 76, 77, 78, 79])>"
            ]
          },
          "metadata": {
            "tags": []
          },
          "execution_count": 39
        }
      ]
    },
    {
      "cell_type": "markdown",
      "metadata": {
        "id": "wHvwsJ51Alya"
      },
      "source": [
        "**（2）冒號切片與步長：[start:end:step]**"
      ]
    },
    {
      "cell_type": "markdown",
      "metadata": {
        "id": "9wy1EV-QAlyb"
      },
      "source": [
        "這種索引方式在Python原生的list類型中也是常見的，而且使用方法也是一樣的。"
      ]
    },
    {
      "cell_type": "code",
      "metadata": {
        "id": "3fi4_nZRAlyc",
        "outputId": "e3429c0b-2718-4fd6-ddfa-19abc6bfaa28"
      },
      "source": [
        "a[1,:,0:2] # 對第1維度選第二塊數據，對第二維度選所有數據，對第三維度選前兩行"
      ],
      "execution_count": null,
      "outputs": [
        {
          "output_type": "execute_result",
          "data": {
            "text/plain": [
              "<tf.Tensor: id=126, shape=(2, 2, 5), dtype=int32, numpy=\n",
              "array([[[40, 41, 42, 43, 44],\n",
              "        [45, 46, 47, 48, 49]],\n",
              "\n",
              "       [[60, 61, 62, 63, 64],\n",
              "        [65, 66, 67, 68, 69]]])>"
            ]
          },
          "metadata": {
            "tags": []
          },
          "execution_count": 40
        }
      ]
    },
    {
      "cell_type": "code",
      "metadata": {
        "id": "9snN6GujAlye",
        "outputId": "a9a2acb6-cfab-4e43-c1c6-d519821bce36"
      },
      "source": [
        "a[1,:,0:2,0:4] # 繼續上面的例子，對第4維度篩選去前4列"
      ],
      "execution_count": null,
      "outputs": [
        {
          "output_type": "execute_result",
          "data": {
            "text/plain": [
              "<tf.Tensor: id=131, shape=(2, 2, 4), dtype=int32, numpy=\n",
              "array([[[40, 41, 42, 43],\n",
              "        [45, 46, 47, 48]],\n",
              "\n",
              "       [[60, 61, 62, 63],\n",
              "        [65, 66, 67, 68]]])>"
            ]
          },
          "metadata": {
            "tags": []
          },
          "execution_count": 41
        }
      ]
    },
    {
      "cell_type": "code",
      "metadata": {
        "id": "65JejAgWAlyg",
        "outputId": "83a4dac2-0970-4115-e976-2c94c1a98665"
      },
      "source": [
        "a[1,:,0:2,0:4:2] # 對第4維度加上步長，每隔一個數據取一次"
      ],
      "execution_count": null,
      "outputs": [
        {
          "output_type": "execute_result",
          "data": {
            "text/plain": [
              "<tf.Tensor: id=136, shape=(2, 2, 2), dtype=int32, numpy=\n",
              "array([[[40, 42],\n",
              "        [45, 47]],\n",
              "\n",
              "       [[60, 62],\n",
              "        [65, 67]]])>"
            ]
          },
          "metadata": {
            "tags": []
          },
          "execution_count": 42
        }
      ]
    },
    {
      "cell_type": "markdown",
      "metadata": {
        "id": "oE6HnLj5Alyk"
      },
      "source": [
        "也可以使用負值步長表示逆序索引，但要注意，負數步長時，原本的[start : end : step]也要跟著編程[end : start : step]："
      ]
    },
    {
      "cell_type": "code",
      "metadata": {
        "id": "mohG_jD4Alyk",
        "outputId": "d66d4f28-9f90-43a2-b686-6ce047299df5"
      },
      "source": [
        "a[1,:,0:2,4:0:-1]"
      ],
      "execution_count": null,
      "outputs": [
        {
          "output_type": "execute_result",
          "data": {
            "text/plain": [
              "<tf.Tensor: id=141, shape=(2, 2, 4), dtype=int32, numpy=\n",
              "array([[[44, 43, 42, 41],\n",
              "        [49, 48, 47, 46]],\n",
              "\n",
              "       [[64, 63, 62, 61],\n",
              "        [69, 68, 67, 66]]])>"
            ]
          },
          "metadata": {
            "tags": []
          },
          "execution_count": 43
        }
      ]
    },
    {
      "cell_type": "code",
      "metadata": {
        "id": "gOtyR6ISAlym",
        "outputId": "66fdd465-fbef-48de-9de2-4863e27d6d83"
      },
      "source": [
        "a[1,:,0:2,4:0:-2]"
      ],
      "execution_count": null,
      "outputs": [
        {
          "output_type": "execute_result",
          "data": {
            "text/plain": [
              "<tf.Tensor: id=146, shape=(2, 2, 2), dtype=int32, numpy=\n",
              "array([[[44, 42],\n",
              "        [49, 47]],\n",
              "\n",
              "       [[64, 62],\n",
              "        [69, 67]]])>"
            ]
          },
          "metadata": {
            "tags": []
          },
          "execution_count": 44
        }
      ]
    },
    {
      "cell_type": "markdown",
      "metadata": {
        "id": "717ItpHUAlyp"
      },
      "source": [
        "在numpy和TensorFlow中還有「...\"（三個英文句號）的使用，「...\"用於表示連續多個維度全選："
      ]
    },
    {
      "cell_type": "code",
      "metadata": {
        "id": "VYUGSmhdAlyq",
        "outputId": "febefe90-f9e3-499b-aec8-62a1873d5ee3"
      },
      "source": [
        "a[1,...,0:4] # 等同於a[1, : , : ,0:4]"
      ],
      "execution_count": null,
      "outputs": [
        {
          "output_type": "execute_result",
          "data": {
            "text/plain": [
              "<tf.Tensor: id=151, shape=(2, 4, 4), dtype=int32, numpy=\n",
              "array([[[40, 41, 42, 43],\n",
              "        [45, 46, 47, 48],\n",
              "        [50, 51, 52, 53],\n",
              "        [55, 56, 57, 58]],\n",
              "\n",
              "       [[60, 61, 62, 63],\n",
              "        [65, 66, 67, 68],\n",
              "        [70, 71, 72, 73],\n",
              "        [75, 76, 77, 78]]])>"
            ]
          },
          "metadata": {
            "tags": []
          },
          "execution_count": 45
        }
      ]
    },
    {
      "cell_type": "code",
      "metadata": {
        "id": "Bo9hDaddAlys",
        "outputId": "51777c7a-ef3d-44d9-e533-ebea0adf3a70"
      },
      "source": [
        "a[0,0,...] # 等同於a[0,0,:,:]"
      ],
      "execution_count": null,
      "outputs": [
        {
          "output_type": "execute_result",
          "data": {
            "text/plain": [
              "<tf.Tensor: id=156, shape=(4, 5), dtype=int32, numpy=\n",
              "array([[ 0,  1,  2,  3,  4],\n",
              "       [ 5,  6,  7,  8,  9],\n",
              "       [10, 11, 12, 13, 14],\n",
              "       [15, 16, 17, 18, 19]])>"
            ]
          },
          "metadata": {
            "tags": []
          },
          "execution_count": 46
        }
      ]
    },
    {
      "cell_type": "markdown",
      "metadata": {
        "id": "YuCBZMDrAlyu"
      },
      "source": [
        "# 3.3 gather與gather_nd"
      ]
    },
    {
      "cell_type": "markdown",
      "metadata": {
        "id": "69x0PCtoAlyv"
      },
      "source": [
        "gather與gather_nd是指TensorFlow通過gather()方法和gather_nd()方法提供的兩種索引方式。在numpy中，可以通過嵌套list的方式來指定無規則的索引："
      ]
    },
    {
      "cell_type": "code",
      "metadata": {
        "id": "N8qJkF3kAlyv"
      },
      "source": [
        "b = np.arange(20).reshape(4,5)"
      ],
      "execution_count": null,
      "outputs": []
    },
    {
      "cell_type": "code",
      "metadata": {
        "id": "GQHq1JPXAlyx",
        "outputId": "6feaf0d1-7a6f-42d4-d03e-811b7087ef77"
      },
      "source": [
        "b[1, [0,3,4]] # 選取第2行的第1列、第4列、第5列"
      ],
      "execution_count": null,
      "outputs": [
        {
          "output_type": "execute_result",
          "data": {
            "text/plain": [
              "array([5, 8, 9])"
            ]
          },
          "metadata": {
            "tags": []
          },
          "execution_count": 48
        }
      ]
    },
    {
      "cell_type": "markdown",
      "metadata": {
        "id": "ZbyvT7hFAly0"
      },
      "source": [
        "但是在TensorFlow中，這種索引方式並沒有從numpy中繼承下來,所以如果在Tensor中使用這種方式，會拋出以下異常：  \n",
        "TypeError: Only integers, slices (`:`), ellipsis (`...`), tf.newaxis (`None`) and scalar tf.int32/tf.int64 tensors are valid indices, got [0, 3, 4]"
      ]
    },
    {
      "cell_type": "markdown",
      "metadata": {
        "id": "3ew-hc1xAly0"
      },
      "source": [
        "還好的是，在TensorFlow中通過gather()方法和gather_nd()方法提供了這種索引方法。"
      ]
    },
    {
      "cell_type": "markdown",
      "metadata": {
        "id": "70MVXxrMAly1"
      },
      "source": [
        "**（1）gather()方法**"
      ]
    },
    {
      "cell_type": "code",
      "metadata": {
        "id": "_YfyhqNZAly2",
        "outputId": "0e83a0aa-5223-4b7d-bc3e-ce91b3addce7"
      },
      "source": [
        "tf.gather(b, axis=0, indices=[0, 2, 3]) # 選取第1行，第3行，第4行"
      ],
      "execution_count": null,
      "outputs": [
        {
          "output_type": "execute_result",
          "data": {
            "text/plain": [
              "<tf.Tensor: id=163, shape=(3, 5), dtype=int32, numpy=\n",
              "array([[ 0,  1,  2,  3,  4],\n",
              "       [10, 11, 12, 13, 14],\n",
              "       [15, 16, 17, 18, 19]])>"
            ]
          },
          "metadata": {
            "tags": []
          },
          "execution_count": 54
        }
      ]
    },
    {
      "cell_type": "code",
      "metadata": {
        "id": "yfVwN-N4Aly6",
        "outputId": "dcf6a845-e048-4bd0-ac19-444ded7e0f56"
      },
      "source": [
        "tf.gather(b, axis=1, indices=[0, 2, 3]) # 選取第1列，第3列，第4列"
      ],
      "execution_count": null,
      "outputs": [
        {
          "output_type": "execute_result",
          "data": {
            "text/plain": [
              "<tf.Tensor: id=168, shape=(4, 3), dtype=int32, numpy=\n",
              "array([[ 0,  2,  3],\n",
              "       [ 5,  7,  8],\n",
              "       [10, 12, 13],\n",
              "       [15, 17, 18]])>"
            ]
          },
          "metadata": {
            "tags": []
          },
          "execution_count": 55
        }
      ]
    },
    {
      "cell_type": "markdown",
      "metadata": {
        "id": "tobBWY4rAly8"
      },
      "source": [
        "仔細觀察上面gather()方法例子，可以發現，第一個參數時數據源，還有兩個參數中，axis指的是將要的維度，indices指的是需要選取的序號。"
      ]
    },
    {
      "cell_type": "markdown",
      "metadata": {
        "id": "AB0qozR0Aly9"
      },
      "source": [
        "**（2）gather_nd()**"
      ]
    },
    {
      "cell_type": "markdown",
      "metadata": {
        "id": "nrzzZdruAly-"
      },
      "source": [
        "gather()方法一次只能對一個維度進行索引，gather_nd()方法可以同時對多個維度進行索引。"
      ]
    },
    {
      "cell_type": "code",
      "metadata": {
        "id": "NpglHypJAly-",
        "outputId": "fb0f5c86-4ce4-437b-879b-681a85c9b291"
      },
      "source": [
        "tf.gather_nd(b, [[0, 2],[3, 3]]) # 選取第1行第3列的那個數據，和第4行第4列的數據"
      ],
      "execution_count": null,
      "outputs": [
        {
          "output_type": "execute_result",
          "data": {
            "text/plain": [
              "<tf.Tensor: id=172, shape=(2,), dtype=int32, numpy=array([ 2, 18])>"
            ]
          },
          "metadata": {
            "tags": []
          },
          "execution_count": 56
        }
      ]
    },
    {
      "cell_type": "markdown",
      "metadata": {
        "id": "_D0p9xxqAlzB"
      },
      "source": [
        "# 3.5 條件索引"
      ]
    },
    {
      "cell_type": "markdown",
      "metadata": {
        "id": "XS3SooS2AlzB"
      },
      "source": [
        "可以結合一些簡單的邏輯運算符進行索引取值："
      ]
    },
    {
      "cell_type": "code",
      "metadata": {
        "id": "SqcyARRUAlzC"
      },
      "source": [
        "import tensorflow as tf"
      ],
      "execution_count": null,
      "outputs": []
    },
    {
      "cell_type": "code",
      "metadata": {
        "id": "4ieEK9TvAlzE",
        "outputId": "f008d464-056d-4702-a615-6a7e530db550"
      },
      "source": [
        "a = tf.random.uniform([3,3],minval=-10,maxval=10,dtype=tf.int32)\n",
        "a"
      ],
      "execution_count": null,
      "outputs": [
        {
          "output_type": "execute_result",
          "data": {
            "text/plain": [
              "<tf.Tensor: id=17, shape=(3, 3), dtype=int32, numpy=\n",
              "array([[-7, -9,  6],\n",
              "       [-6, -5,  9],\n",
              "       [ 8,  9,  4]])>"
            ]
          },
          "metadata": {
            "tags": []
          },
          "execution_count": 6
        }
      ]
    },
    {
      "cell_type": "code",
      "metadata": {
        "id": "ohy1xpquAlzG",
        "outputId": "e69382ec-4262-463b-bacc-e4caa01b71eb"
      },
      "source": [
        "mask = a < 0\n",
        "mask"
      ],
      "execution_count": null,
      "outputs": [
        {
          "output_type": "execute_result",
          "data": {
            "text/plain": [
              "<tf.Tensor: id=20, shape=(3, 3), dtype=bool, numpy=\n",
              "array([[ True,  True, False],\n",
              "       [ True,  True, False],\n",
              "       [False, False, False]])>"
            ]
          },
          "metadata": {
            "tags": []
          },
          "execution_count": 7
        }
      ]
    },
    {
      "cell_type": "markdown",
      "metadata": {
        "id": "DrPby7WeAlzJ"
      },
      "source": [
        "可以看到，返回的是一個shape與a相同的tensor，在a小於零的位置是True，大於零的位置為False。進一步地，我們可以用boolwan_mask()方法直接取出符合條件的元素："
      ]
    },
    {
      "cell_type": "code",
      "metadata": {
        "id": "9WX9jFY9AlzJ",
        "outputId": "bb779c2f-0261-4c17-d8a9-caf6a8619509"
      },
      "source": [
        "tf.boolean_mask(a,mask)"
      ],
      "execution_count": null,
      "outputs": [
        {
          "output_type": "execute_result",
          "data": {
            "text/plain": [
              "<tf.Tensor: id=82, shape=(4,), dtype=int32, numpy=array([-7, -9, -6, -5])>"
            ]
          },
          "metadata": {
            "tags": []
          },
          "execution_count": 13
        }
      ]
    },
    {
      "cell_type": "markdown",
      "metadata": {
        "id": "JZrUo2C2AlzM"
      },
      "source": [
        "可以結合where()方法取出符合條件元素的索引："
      ]
    },
    {
      "cell_type": "code",
      "metadata": {
        "id": "3Yr2kdn4AlzM",
        "outputId": "e861ae24-dde7-4f43-eb5c-0f33662d39a2"
      },
      "source": [
        "m_index = tf.where(mask)\n",
        "m_index"
      ],
      "execution_count": null,
      "outputs": [
        {
          "output_type": "execute_result",
          "data": {
            "text/plain": [
              "<tf.Tensor: id=84, shape=(4, 2), dtype=int64, numpy=\n",
              "array([[0, 0],\n",
              "       [0, 1],\n",
              "       [1, 0],\n",
              "       [1, 1]], dtype=int64)>"
            ]
          },
          "metadata": {
            "tags": []
          },
          "execution_count": 14
        }
      ]
    },
    {
      "cell_type": "markdown",
      "metadata": {
        "id": "iVBUDX_MAlzP"
      },
      "source": [
        "再使用之前說過的gather_nd()方法取值："
      ]
    },
    {
      "cell_type": "code",
      "metadata": {
        "id": "H-yAOaeAAlzQ",
        "outputId": "7b23f1f6-cf31-4cb5-b826-bcc487af15c7"
      },
      "source": [
        "tf.gather_nd(a,m_index)"
      ],
      "execution_count": null,
      "outputs": [
        {
          "output_type": "execute_result",
          "data": {
            "text/plain": [
              "<tf.Tensor: id=86, shape=(4,), dtype=int32, numpy=array([-7, -9, -6, -5])>"
            ]
          },
          "metadata": {
            "tags": []
          },
          "execution_count": 15
        }
      ]
    },
    {
      "cell_type": "markdown",
      "metadata": {
        "id": "qH3FQKDQAlzS"
      },
      "source": [
        "where()方法還有第二種用法——從兩個tensor中取出符合條件的值，這時候where()方法必須接受3個參數："
      ]
    },
    {
      "cell_type": "code",
      "metadata": {
        "id": "jip_g7czAlzS",
        "outputId": "f83de7f4-a6a8-4d39-cf2d-d75b8fb69dbe"
      },
      "source": [
        "condition = tf.random.uniform([3,3],minval=0,maxval=2,dtype=tf.int32)\n",
        "condition = tf.cast(condition, tf.bool)\n",
        "condition"
      ],
      "execution_count": null,
      "outputs": [
        {
          "output_type": "execute_result",
          "data": {
            "text/plain": [
              "<tf.Tensor: id=124, shape=(3, 3), dtype=bool, numpy=\n",
              "array([[ True,  True, False],\n",
              "       [ True, False, False],\n",
              "       [ True, False, False]])>"
            ]
          },
          "metadata": {
            "tags": []
          },
          "execution_count": 26
        }
      ]
    },
    {
      "cell_type": "code",
      "metadata": {
        "id": "hZn-LqfoAlzU",
        "outputId": "d96a0072-a17c-4e5e-8685-555a7d0016fc"
      },
      "source": [
        "a = tf.range(1,10)\n",
        "a = tf.reshape(a,[3,3])\n",
        "a"
      ],
      "execution_count": null,
      "outputs": [
        {
          "output_type": "execute_result",
          "data": {
            "text/plain": [
              "<tf.Tensor: id=162, shape=(3, 3), dtype=int32, numpy=\n",
              "array([[1, 2, 3],\n",
              "       [4, 5, 6],\n",
              "       [7, 8, 9]])>"
            ]
          },
          "metadata": {
            "tags": []
          },
          "execution_count": 34
        }
      ]
    },
    {
      "cell_type": "code",
      "metadata": {
        "id": "sLHVmforAlzZ",
        "outputId": "90e25595-0071-43f1-c5cb-b27a9017fe4c"
      },
      "source": [
        "b = tf.range(-9,0)\n",
        "b = tf.reshape(b,[3,3])\n",
        "b"
      ],
      "execution_count": null,
      "outputs": [
        {
          "output_type": "execute_result",
          "data": {
            "text/plain": [
              "<tf.Tensor: id=169, shape=(3, 3), dtype=int32, numpy=\n",
              "array([[-9, -8, -7],\n",
              "       [-6, -5, -4],\n",
              "       [-3, -2, -1]])>"
            ]
          },
          "metadata": {
            "tags": []
          },
          "execution_count": 35
        }
      ]
    },
    {
      "cell_type": "code",
      "metadata": {
        "id": "a5I2WdfsAlzb",
        "outputId": "89aeadbc-7798-4dfb-b889-9f3a5f8066df"
      },
      "source": [
        "tf.where(condition, a, b)"
      ],
      "execution_count": null,
      "outputs": [
        {
          "output_type": "execute_result",
          "data": {
            "text/plain": [
              "<tf.Tensor: id=171, shape=(3, 3), dtype=int32, numpy=\n",
              "array([[ 1,  2, -7],\n",
              "       [ 4, -5, -4],\n",
              "       [ 7, -2, -1]])>"
            ]
          },
          "metadata": {
            "tags": []
          },
          "execution_count": 36
        }
      ]
    },
    {
      "cell_type": "markdown",
      "metadata": {
        "id": "tylfwX3xAlzd"
      },
      "source": [
        "上面where()方法返回的結果在True的位置取值是a中對應位置元素的值，在False位置是b中對應元素的值。"
      ]
    },
    {
      "cell_type": "markdown",
      "metadata": {
        "id": "6T-Jc9pAAlze"
      },
      "source": [
        "# 4 維度變換"
      ]
    },
    {
      "cell_type": "markdown",
      "metadata": {
        "id": "0lhFXbZ3Alze"
      },
      "source": [
        "# 4.1 reshape()"
      ]
    },
    {
      "cell_type": "markdown",
      "metadata": {
        "id": "GQU9rH3rAlzg"
      },
      "source": [
        "numpy中的ndarray數組有個一reshape()方法，用來改變數組的shape，TensorFlow中的reshape()方法，功能也是一樣的，不過TensorFlow中的reshape()沒有綁定到tensor中："
      ]
    },
    {
      "cell_type": "code",
      "metadata": {
        "id": "Uiztor9gAlzg"
      },
      "source": [
        "a = tf.ones([2,3,4])"
      ],
      "execution_count": null,
      "outputs": []
    },
    {
      "cell_type": "code",
      "metadata": {
        "id": "gvR3Amm0Alzi",
        "outputId": "b6803c58-4c29-4376-b39b-abb7d20b0974"
      },
      "source": [
        "a.shape"
      ],
      "execution_count": null,
      "outputs": [
        {
          "output_type": "execute_result",
          "data": {
            "text/plain": [
              "TensorShape([2, 3, 4])"
            ]
          },
          "metadata": {
            "tags": []
          },
          "execution_count": 59
        }
      ]
    },
    {
      "cell_type": "code",
      "metadata": {
        "id": "7TnK8_jUAlzk",
        "outputId": "7d39af27-f0ac-485d-fbe4-5dcf00e59ba2"
      },
      "source": [
        "a"
      ],
      "execution_count": null,
      "outputs": [
        {
          "output_type": "execute_result",
          "data": {
            "text/plain": [
              "<tf.Tensor: id=176, shape=(2, 3, 4), dtype=float32, numpy=\n",
              "array([[[1., 1., 1., 1.],\n",
              "        [1., 1., 1., 1.],\n",
              "        [1., 1., 1., 1.]],\n",
              "\n",
              "       [[1., 1., 1., 1.],\n",
              "        [1., 1., 1., 1.],\n",
              "        [1., 1., 1., 1.]]], dtype=float32)>"
            ]
          },
          "metadata": {
            "tags": []
          },
          "execution_count": 60
        }
      ]
    },
    {
      "cell_type": "code",
      "metadata": {
        "id": "Y0twaSN1Alzn"
      },
      "source": [
        "b = tf.reshape(a, [2, 2, 6])"
      ],
      "execution_count": null,
      "outputs": []
    },
    {
      "cell_type": "code",
      "metadata": {
        "id": "lgx3Yzv-Alzp",
        "outputId": "974d0687-787d-48a4-a47d-c093708678f5"
      },
      "source": [
        "b.shape"
      ],
      "execution_count": null,
      "outputs": [
        {
          "output_type": "execute_result",
          "data": {
            "text/plain": [
              "TensorShape([2, 2, 6])"
            ]
          },
          "metadata": {
            "tags": []
          },
          "execution_count": 62
        }
      ]
    },
    {
      "cell_type": "code",
      "metadata": {
        "id": "-0qmIArUAlzs",
        "outputId": "d8ec46ec-71ba-482d-8f33-9234ad05f159"
      },
      "source": [
        "b"
      ],
      "execution_count": null,
      "outputs": [
        {
          "output_type": "execute_result",
          "data": {
            "text/plain": [
              "<tf.Tensor: id=179, shape=(2, 2, 6), dtype=float32, numpy=\n",
              "array([[[1., 1., 1., 1., 1., 1.],\n",
              "        [1., 1., 1., 1., 1., 1.]],\n",
              "\n",
              "       [[1., 1., 1., 1., 1., 1.],\n",
              "        [1., 1., 1., 1., 1., 1.]]], dtype=float32)>"
            ]
          },
          "metadata": {
            "tags": []
          },
          "execution_count": 64
        }
      ]
    },
    {
      "cell_type": "code",
      "metadata": {
        "id": "EcKSTtEQAlzu"
      },
      "source": [
        "c = tf.reshape(a, [3, 2, 4])"
      ],
      "execution_count": null,
      "outputs": []
    },
    {
      "cell_type": "code",
      "metadata": {
        "id": "h2KcFskcAlzw",
        "outputId": "1ee5cbd1-949a-42c8-e81d-e89de7cdbf64"
      },
      "source": [
        "c"
      ],
      "execution_count": null,
      "outputs": [
        {
          "output_type": "execute_result",
          "data": {
            "text/plain": [
              "<tf.Tensor: id=183, shape=(3, 2, 4), dtype=float32, numpy=\n",
              "array([[[1., 1., 1., 1.],\n",
              "        [1., 1., 1., 1.]],\n",
              "\n",
              "       [[1., 1., 1., 1.],\n",
              "        [1., 1., 1., 1.]],\n",
              "\n",
              "       [[1., 1., 1., 1.],\n",
              "        [1., 1., 1., 1.]]], dtype=float32)>"
            ]
          },
          "metadata": {
            "tags": []
          },
          "execution_count": 66
        }
      ]
    },
    {
      "cell_type": "markdown",
      "metadata": {
        "id": "YiR9EjSaAlzy"
      },
      "source": [
        "可以看到，在上面的例子中，通過reshape()方法可以很方便的改變tensor的形狀，得到一個新的tensor，需要注意的是在進行維度變換時，數據的重量是不變的，上面的例子無論是[2,3,4]， [2, 2, 6]還是[3, 2, 4]都對應總量24，如果對應不上，就會產生異常。"
      ]
    },
    {
      "cell_type": "markdown",
      "metadata": {
        "id": "a2IiFSDSAlzy"
      },
      "source": [
        "# 4.2 轉置：transpose()"
      ]
    },
    {
      "cell_type": "markdown",
      "metadata": {
        "id": "bZ28wmbWAlzy"
      },
      "source": [
        "transpose()方法提供了一種類似於裝置的操作："
      ]
    },
    {
      "cell_type": "code",
      "metadata": {
        "id": "gsV4EFvKAlzy"
      },
      "source": [
        "a = tf.constant([[1,2,3],[4,5,6]])"
      ],
      "execution_count": null,
      "outputs": []
    },
    {
      "cell_type": "code",
      "metadata": {
        "id": "uEKvGt0EAlz0",
        "outputId": "73715965-8882-4152-a3c1-2f4907e475e5"
      },
      "source": [
        "a.shape"
      ],
      "execution_count": null,
      "outputs": [
        {
          "output_type": "execute_result",
          "data": {
            "text/plain": [
              "TensorShape([2, 3])"
            ]
          },
          "metadata": {
            "tags": []
          },
          "execution_count": 76
        }
      ]
    },
    {
      "cell_type": "code",
      "metadata": {
        "id": "Ltmklg8qAlz1"
      },
      "source": [
        "b = tf.transpose(a)"
      ],
      "execution_count": null,
      "outputs": []
    },
    {
      "cell_type": "code",
      "metadata": {
        "id": "ax1MyR8wAlz3",
        "outputId": "f43d19d8-4da4-421e-8588-baa1ca564beb"
      },
      "source": [
        "b.shape"
      ],
      "execution_count": null,
      "outputs": [
        {
          "output_type": "execute_result",
          "data": {
            "text/plain": [
              "TensorShape([3, 2])"
            ]
          },
          "metadata": {
            "tags": []
          },
          "execution_count": 78
        }
      ]
    },
    {
      "cell_type": "code",
      "metadata": {
        "id": "PGN3iKwYAlz5",
        "outputId": "3ad6eb3d-0e4b-4c3c-c9d1-cac065ae4356"
      },
      "source": [
        "b"
      ],
      "execution_count": null,
      "outputs": [
        {
          "output_type": "execute_result",
          "data": {
            "text/plain": [
              "<tf.Tensor: id=192, shape=(3, 2), dtype=int32, numpy=\n",
              "array([[1, 4],\n",
              "       [2, 5],\n",
              "       [3, 6]])>"
            ]
          },
          "metadata": {
            "tags": []
          },
          "execution_count": 79
        }
      ]
    },
    {
      "cell_type": "markdown",
      "metadata": {
        "id": "EUrtnLkHAlz6"
      },
      "source": [
        "在默認情況下，transpose()方法會將所有維度按逆序方式完全轉置，當然也可以通過perm參數執行需要轉置的維度："
      ]
    },
    {
      "cell_type": "code",
      "metadata": {
        "id": "KP6GdW3FAlz7"
      },
      "source": [
        "a=tf.constant([[[1,2,3],[4,5,6]],[[7,8,9],[10,11,12]]])"
      ],
      "execution_count": null,
      "outputs": []
    },
    {
      "cell_type": "code",
      "metadata": {
        "id": "spVc6-SoAlz_",
        "outputId": "a73ebd11-ee76-47f0-aef8-89115b387715"
      },
      "source": [
        "a"
      ],
      "execution_count": null,
      "outputs": [
        {
          "output_type": "execute_result",
          "data": {
            "text/plain": [
              "<tf.Tensor: id=194, shape=(2, 2, 3), dtype=int32, numpy=\n",
              "array([[[ 1,  2,  3],\n",
              "        [ 4,  5,  6]],\n",
              "\n",
              "       [[ 7,  8,  9],\n",
              "        [10, 11, 12]]])>"
            ]
          },
          "metadata": {
            "tags": []
          },
          "execution_count": 81
        }
      ]
    },
    {
      "cell_type": "code",
      "metadata": {
        "id": "jId3LVv8Al0B"
      },
      "source": [
        "b = tf.transpose(a) # 不指定perm參數時，相當於tf.transpose(a, perm=[2, 1, 0])"
      ],
      "execution_count": null,
      "outputs": []
    },
    {
      "cell_type": "code",
      "metadata": {
        "id": "VcUxJJ6mAl0C",
        "outputId": "0977ea37-4806-4e82-ac54-44b29b078aad"
      },
      "source": [
        "b"
      ],
      "execution_count": null,
      "outputs": [
        {
          "output_type": "execute_result",
          "data": {
            "text/plain": [
              "<tf.Tensor: id=197, shape=(3, 2, 2), dtype=int32, numpy=\n",
              "array([[[ 1,  7],\n",
              "        [ 4, 10]],\n",
              "\n",
              "       [[ 2,  8],\n",
              "        [ 5, 11]],\n",
              "\n",
              "       [[ 3,  9],\n",
              "        [ 6, 12]]])>"
            ]
          },
          "metadata": {
            "tags": []
          },
          "execution_count": 83
        }
      ]
    },
    {
      "cell_type": "code",
      "metadata": {
        "id": "O6Ucds5vAl0E"
      },
      "source": [
        "c = tf.transpose(a, perm=[2, 1, 0])"
      ],
      "execution_count": null,
      "outputs": []
    },
    {
      "cell_type": "code",
      "metadata": {
        "id": "R8CrVlhDAl0F",
        "outputId": "7914846e-0951-41b4-b842-0c0201f68916"
      },
      "source": [
        "c"
      ],
      "execution_count": null,
      "outputs": [
        {
          "output_type": "execute_result",
          "data": {
            "text/plain": [
              "<tf.Tensor: id=200, shape=(3, 2, 2), dtype=int32, numpy=\n",
              "array([[[ 1,  7],\n",
              "        [ 4, 10]],\n",
              "\n",
              "       [[ 2,  8],\n",
              "        [ 5, 11]],\n",
              "\n",
              "       [[ 3,  9],\n",
              "        [ 6, 12]]])>"
            ]
          },
          "metadata": {
            "tags": []
          },
          "execution_count": 85
        }
      ]
    },
    {
      "cell_type": "code",
      "metadata": {
        "id": "4ipT3gzcAl0I"
      },
      "source": [
        "d = tf.transpose(a, perm=[0, 2, 1]) # 第一個維度不做變換，對第二、第三維度進行轉置"
      ],
      "execution_count": null,
      "outputs": []
    },
    {
      "cell_type": "code",
      "metadata": {
        "id": "ihfhtI8OAl0K",
        "outputId": "1759314c-5c37-41cd-a1e9-858cbcb06073"
      },
      "source": [
        "d"
      ],
      "execution_count": null,
      "outputs": [
        {
          "output_type": "execute_result",
          "data": {
            "text/plain": [
              "<tf.Tensor: id=203, shape=(2, 3, 2), dtype=int32, numpy=\n",
              "array([[[ 1,  4],\n",
              "        [ 2,  5],\n",
              "        [ 3,  6]],\n",
              "\n",
              "       [[ 7, 10],\n",
              "        [ 8, 11],\n",
              "        [ 9, 12]]])>"
            ]
          },
          "metadata": {
            "tags": []
          },
          "execution_count": 87
        }
      ]
    },
    {
      "cell_type": "markdown",
      "metadata": {
        "id": "7LIEvbsEAl0M"
      },
      "source": [
        "# 4.3 添加維度：expand_dims()"
      ]
    },
    {
      "cell_type": "code",
      "metadata": {
        "id": "mWRHYuvJAl0M"
      },
      "source": [
        "a=tf.constant([[1,2,3],[4,5,6]])"
      ],
      "execution_count": null,
      "outputs": []
    },
    {
      "cell_type": "code",
      "metadata": {
        "id": "jE5iWU3FAl0O",
        "outputId": "00f1552e-3c4a-4fcc-9c86-d79c4c9aba67"
      },
      "source": [
        "a"
      ],
      "execution_count": null,
      "outputs": [
        {
          "output_type": "execute_result",
          "data": {
            "text/plain": [
              "<tf.Tensor: id=205, shape=(2, 3), dtype=int32, numpy=\n",
              "array([[1, 2, 3],\n",
              "       [4, 5, 6]])>"
            ]
          },
          "metadata": {
            "tags": []
          },
          "execution_count": 89
        }
      ]
    },
    {
      "cell_type": "code",
      "metadata": {
        "id": "gk0bAnaXAl0Q",
        "outputId": "2238250c-bd1a-4985-ced3-869aa8b8726e"
      },
      "source": [
        "tf.expand_dims(a, axis=0)"
      ],
      "execution_count": null,
      "outputs": [
        {
          "output_type": "execute_result",
          "data": {
            "text/plain": [
              "<tf.Tensor: id=208, shape=(1, 2, 3), dtype=int32, numpy=\n",
              "array([[[1, 2, 3],\n",
              "        [4, 5, 6]]])>"
            ]
          },
          "metadata": {
            "tags": []
          },
          "execution_count": 90
        }
      ]
    },
    {
      "cell_type": "code",
      "metadata": {
        "id": "sxOEeHgWAl0S",
        "outputId": "13f5b16e-dc30-487c-947c-d83ca776bb18"
      },
      "source": [
        "tf.expand_dims(a, axis=1)"
      ],
      "execution_count": null,
      "outputs": [
        {
          "output_type": "execute_result",
          "data": {
            "text/plain": [
              "<tf.Tensor: id=211, shape=(2, 1, 3), dtype=int32, numpy=\n",
              "array([[[1, 2, 3]],\n",
              "\n",
              "       [[4, 5, 6]]])>"
            ]
          },
          "metadata": {
            "tags": []
          },
          "execution_count": 91
        }
      ]
    },
    {
      "cell_type": "code",
      "metadata": {
        "id": "AURDkIVJAl0V",
        "outputId": "647166cd-d346-42ce-df8e-1ef68ba23277"
      },
      "source": [
        "tf.expand_dims(a, axis=-1)"
      ],
      "execution_count": null,
      "outputs": [
        {
          "output_type": "execute_result",
          "data": {
            "text/plain": [
              "<tf.Tensor: id=214, shape=(2, 3, 1), dtype=int32, numpy=\n",
              "array([[[1],\n",
              "        [2],\n",
              "        [3]],\n",
              "\n",
              "       [[4],\n",
              "        [5],\n",
              "        [6]]])>"
            ]
          },
          "metadata": {
            "tags": []
          },
          "execution_count": 92
        }
      ]
    },
    {
      "cell_type": "code",
      "metadata": {
        "id": "Rq5GnM_3Al0X",
        "outputId": "afdb9b48-d27d-4981-d640-0724b85b2749"
      },
      "source": [
        "tf.expand_dims(a, axis=2)"
      ],
      "execution_count": null,
      "outputs": [
        {
          "output_type": "execute_result",
          "data": {
            "text/plain": [
              "<tf.Tensor: id=217, shape=(2, 3, 1), dtype=int32, numpy=\n",
              "array([[[1],\n",
              "        [2],\n",
              "        [3]],\n",
              "\n",
              "       [[4],\n",
              "        [5],\n",
              "        [6]]])>"
            ]
          },
          "metadata": {
            "tags": []
          },
          "execution_count": 93
        }
      ]
    },
    {
      "cell_type": "markdown",
      "metadata": {
        "id": "eMpYcLpJAl0Y"
      },
      "source": [
        "expand_dims()方法添加維度時，通過axis參數指定添加維度的位置，正數表示從前往後數，負數表示從後往前數。"
      ]
    },
    {
      "cell_type": "markdown",
      "metadata": {
        "id": "WiNhoZgsAl0Z"
      },
      "source": [
        "# 4.4 壓縮維度：squeeze()"
      ]
    },
    {
      "cell_type": "markdown",
      "metadata": {
        "id": "D4uimPfFAl0Z"
      },
      "source": [
        "squeeze()方法與expand_dims()方法作用剛好相反，其作用是刪除張量中dim為1的維度："
      ]
    },
    {
      "cell_type": "code",
      "metadata": {
        "id": "3CKCA1wYAl0a"
      },
      "source": [
        "a = tf.ones([1,3,1,2])"
      ],
      "execution_count": null,
      "outputs": []
    },
    {
      "cell_type": "code",
      "metadata": {
        "id": "G8azzkLWAl0c",
        "outputId": "8c89c5ce-689f-45ed-a4ff-a4d7013f399c"
      },
      "source": [
        "a"
      ],
      "execution_count": null,
      "outputs": [
        {
          "output_type": "execute_result",
          "data": {
            "text/plain": [
              "<tf.Tensor: id=221, shape=(1, 3, 1, 2), dtype=float32, numpy=\n",
              "array([[[[1., 1.]],\n",
              "\n",
              "        [[1., 1.]],\n",
              "\n",
              "        [[1., 1.]]]], dtype=float32)>"
            ]
          },
          "metadata": {
            "tags": []
          },
          "execution_count": 95
        }
      ]
    },
    {
      "cell_type": "code",
      "metadata": {
        "id": "9lLTjBIOAl0i",
        "outputId": "8518aeee-8c13-4c97-f001-643ef35b24b1"
      },
      "source": [
        "tf.squeeze(a)"
      ],
      "execution_count": null,
      "outputs": [
        {
          "output_type": "execute_result",
          "data": {
            "text/plain": [
              "<tf.Tensor: id=223, shape=(3, 2), dtype=float32, numpy=\n",
              "array([[1., 1.],\n",
              "       [1., 1.],\n",
              "       [1., 1.]], dtype=float32)>"
            ]
          },
          "metadata": {
            "tags": []
          },
          "execution_count": 96
        }
      ]
    }
  ]
}