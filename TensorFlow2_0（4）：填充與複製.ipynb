{
  "nbformat": 4,
  "nbformat_minor": 0,
  "metadata": {
    "kernelspec": {
      "display_name": "study_python",
      "language": "python",
      "name": "study_python"
    },
    "language_info": {
      "codemirror_mode": {
        "name": "ipython",
        "version": 3
      },
      "file_extension": ".py",
      "mimetype": "text/x-python",
      "name": "python",
      "nbconvert_exporter": "python",
      "pygments_lexer": "ipython3",
      "version": "3.7.4"
    },
    "colab": {
      "name": "TensorFlow2.0（4）：填充與複製.ipynb",
      "provenance": [],
      "include_colab_link": true
    }
  },
  "cells": [
    {
      "cell_type": "markdown",
      "metadata": {
        "id": "view-in-github",
        "colab_type": "text"
      },
      "source": [
        "<a href=\"https://colab.research.google.com/github/VHDRKL/1031/blob/main/TensorFlow2_0%EF%BC%884%EF%BC%89%EF%BC%9A%E5%A1%AB%E5%85%85%E8%88%87%E8%A4%87%E8%A3%BD.ipynb\" target=\"_parent\"><img src=\"https://colab.research.google.com/assets/colab-badge.svg\" alt=\"Open In Colab\"/></a>"
      ]
    },
    {
      "cell_type": "markdown",
      "metadata": {
        "id": "IALmn1exFxCn"
      },
      "source": [
        "# 1 pad()"
      ]
    },
    {
      "cell_type": "markdown",
      "metadata": {
        "id": "FNaLGvRdFxCo"
      },
      "source": [
        "tf.pad函數主要是用來對tensor的大小進行擴展，包括水平、垂直、深度(通道)等,方法定義如下：\n",
        "\n",
        "pad(tensor, paddings, mode=\"CONSTANT\", name=None, constant_values=0)\n",
        "\n",
        "輸入參數：\n",
        "\n",
        "- tensor:輸入的tensor\n",
        "\n",
        "- paddings:設置填充的大小\n",
        "\n",
        "- mode:填充方式，默認是CONSTANT,還有REFLECT和SYMMETRIC\n",
        "\n",
        "- name:名稱\n",
        "\n",
        "- constant_values：CONSTANT填充方式的填充值,默認是0\n",
        "\n",
        "參數paddings必須是形狀為（n, 2）的一個list，這裡的n是tensor的秩，也就是維度大小。例如當tensor為一個shape為（12，）的tensor時，paddings必須是形如[[x，y]]的一個list，x表示在第一維度前填充值的個數，y表示在第一維度後填充值的個數：\n"
      ]
    },
    {
      "cell_type": "code",
      "metadata": {
        "id": "luO9-YpJFxCp"
      },
      "source": [
        "import tensorflow as tf"
      ],
      "execution_count": null,
      "outputs": []
    },
    {
      "cell_type": "code",
      "metadata": {
        "id": "IAlfP2WrFxCt"
      },
      "source": [
        "a = tf.range(1,13)"
      ],
      "execution_count": null,
      "outputs": []
    },
    {
      "cell_type": "code",
      "metadata": {
        "id": "23GqFsiBFxCw",
        "outputId": "27f23e25-488f-455e-b8e2-20c7ff051a4b"
      },
      "source": [
        "a"
      ],
      "execution_count": null,
      "outputs": [
        {
          "output_type": "execute_result",
          "data": {
            "text/plain": [
              "<tf.Tensor: id=3, shape=(12,), dtype=int32, numpy=array([ 1,  2,  3,  4,  5,  6,  7,  8,  9, 10, 11, 12], dtype=int32)>"
            ]
          },
          "metadata": {
            "tags": []
          },
          "execution_count": 3
        }
      ]
    },
    {
      "cell_type": "code",
      "metadata": {
        "id": "Fem_ztwHFxC0",
        "outputId": "d10e3987-6ee3-4b49-eba2-21b577626dc5"
      },
      "source": [
        "tf.pad(a, [[3,0]])  # 3表示在第一維度前填充3個0,0表示不填充"
      ],
      "execution_count": null,
      "outputs": [
        {
          "output_type": "execute_result",
          "data": {
            "text/plain": [
              "<tf.Tensor: id=5, shape=(15,), dtype=int32, numpy=\n",
              "array([ 0,  0,  0,  1,  2,  3,  4,  5,  6,  7,  8,  9, 10, 11, 12],\n",
              "      dtype=int32)>"
            ]
          },
          "metadata": {
            "tags": []
          },
          "execution_count": 4
        }
      ]
    },
    {
      "cell_type": "markdown",
      "metadata": {
        "id": "sA6zpkJLFxC4"
      },
      "source": [
        "當tensor是二維時，paddings必須是shape為（2,2）的list："
      ]
    },
    {
      "cell_type": "code",
      "metadata": {
        "id": "XLU9cXIDFxC4"
      },
      "source": [
        "a = tf.reshape(a, [3, 4])"
      ],
      "execution_count": null,
      "outputs": []
    },
    {
      "cell_type": "code",
      "metadata": {
        "id": "8PdUcfh7FxC8",
        "outputId": "f14ad300-16fa-4408-f425-f719affc69e2"
      },
      "source": [
        "a"
      ],
      "execution_count": null,
      "outputs": [
        {
          "output_type": "execute_result",
          "data": {
            "text/plain": [
              "<tf.Tensor: id=7, shape=(3, 4), dtype=int32, numpy=\n",
              "array([[ 1,  2,  3,  4],\n",
              "       [ 5,  6,  7,  8],\n",
              "       [ 9, 10, 11, 12]], dtype=int32)>"
            ]
          },
          "metadata": {
            "tags": []
          },
          "execution_count": 6
        }
      ]
    },
    {
      "cell_type": "code",
      "metadata": {
        "id": "wWQbAkbJFxDB",
        "outputId": "53e91d0c-eead-4672-a5cc-77ec16d75b5e"
      },
      "source": [
        "tf.pad(a, [[1,1],[3,0]], constant_values=3)  # 第一維度前後各填充一行，第二維度前填充兩行，後不填充，填充值為3"
      ],
      "execution_count": null,
      "outputs": [
        {
          "output_type": "execute_result",
          "data": {
            "text/plain": [
              "<tf.Tensor: id=10, shape=(5, 7), dtype=int32, numpy=\n",
              "array([[ 3,  3,  3,  3,  3,  3,  3],\n",
              "       [ 3,  3,  3,  1,  2,  3,  4],\n",
              "       [ 3,  3,  3,  5,  6,  7,  8],\n",
              "       [ 3,  3,  3,  9, 10, 11, 12],\n",
              "       [ 3,  3,  3,  3,  3,  3,  3]], dtype=int32)>"
            ]
          },
          "metadata": {
            "tags": []
          },
          "execution_count": 7
        }
      ]
    },
    {
      "cell_type": "markdown",
      "metadata": {
        "id": "8jQ7njIpFxDF"
      },
      "source": [
        "對於3維tensor，paddings是一個shape為（3,2）的list："
      ]
    },
    {
      "cell_type": "code",
      "metadata": {
        "id": "dfSTSHtBFxDF"
      },
      "source": [
        "a = tf.reshape(a, [2, 2, 3])"
      ],
      "execution_count": null,
      "outputs": []
    },
    {
      "cell_type": "code",
      "metadata": {
        "id": "zJglcKv-FxDI",
        "outputId": "8ff33bd4-0046-4968-8e52-3b553feccebd"
      },
      "source": [
        "a"
      ],
      "execution_count": null,
      "outputs": [
        {
          "output_type": "execute_result",
          "data": {
            "text/plain": [
              "<tf.Tensor: id=12, shape=(2, 2, 3), dtype=int32, numpy=\n",
              "array([[[ 1,  2,  3],\n",
              "        [ 4,  5,  6]],\n",
              "\n",
              "       [[ 7,  8,  9],\n",
              "        [10, 11, 12]]], dtype=int32)>"
            ]
          },
          "metadata": {
            "tags": []
          },
          "execution_count": 9
        }
      ]
    },
    {
      "cell_type": "code",
      "metadata": {
        "id": "TUYV4r2VFxDM",
        "outputId": "4b4e4342-6587-4389-b764-74342da861ac"
      },
      "source": [
        "tf.pad(a, [[1, 0],[1,1],[1,0]])  # 第一維度前填充1塊數據，後不填充，第二維度前後各填充1行，第三維度前填充1列，後不填充"
      ],
      "execution_count": null,
      "outputs": [
        {
          "output_type": "execute_result",
          "data": {
            "text/plain": [
              "<tf.Tensor: id=14, shape=(3, 4, 4), dtype=int32, numpy=\n",
              "array([[[ 0,  0,  0,  0],\n",
              "        [ 0,  0,  0,  0],\n",
              "        [ 0,  0,  0,  0],\n",
              "        [ 0,  0,  0,  0]],\n",
              "\n",
              "       [[ 0,  0,  0,  0],\n",
              "        [ 0,  1,  2,  3],\n",
              "        [ 0,  4,  5,  6],\n",
              "        [ 0,  0,  0,  0]],\n",
              "\n",
              "       [[ 0,  0,  0,  0],\n",
              "        [ 0,  7,  8,  9],\n",
              "        [ 0, 10, 11, 12],\n",
              "        [ 0,  0,  0,  0]]], dtype=int32)>"
            ]
          },
          "metadata": {
            "tags": []
          },
          "execution_count": 10
        }
      ]
    },
    {
      "cell_type": "code",
      "metadata": {
        "id": "ATODlJ8_FxDQ"
      },
      "source": [
        "a = tf.range(1,13)"
      ],
      "execution_count": null,
      "outputs": []
    },
    {
      "cell_type": "code",
      "metadata": {
        "id": "z5saCo8YFxDT"
      },
      "source": [
        "a = tf.reshape(a,[3,4])"
      ],
      "execution_count": null,
      "outputs": []
    },
    {
      "cell_type": "code",
      "metadata": {
        "id": "_4L56F2gFxDV",
        "outputId": "47705c1a-9588-4bf4-84fe-edb26f25f276"
      },
      "source": [
        "a"
      ],
      "execution_count": null,
      "outputs": [
        {
          "output_type": "execute_result",
          "data": {
            "text/plain": [
              "<tf.Tensor: id=20, shape=(3, 4), dtype=int32, numpy=\n",
              "array([[ 1,  2,  3,  4],\n",
              "       [ 5,  6,  7,  8],\n",
              "       [ 9, 10, 11, 12]], dtype=int32)>"
            ]
          },
          "metadata": {
            "tags": []
          },
          "execution_count": 13
        }
      ]
    },
    {
      "cell_type": "markdown",
      "metadata": {
        "id": "nlM73kkUFxDY"
      },
      "source": [
        "當指定填充模式mode為'REFLECT'時，指的是以各維度邊緣為對稱軸進行填充（不包括邊緣數據也就是對稱軸本身），且填充的規模不能大於該維度原有規模-1："
      ]
    },
    {
      "cell_type": "code",
      "metadata": {
        "scrolled": true,
        "id": "1KfCZkVEFxDZ",
        "outputId": "9b3b95f5-6f06-44b6-b98a-1c02882d8c73"
      },
      "source": [
        "tf.pad(a, [[2,1],[3,1]],mode='REFLECT')  # 對第二個維度填充時，如果大於3就回產生異常，因為3已經可以把第二維度所有數據複製一遍"
      ],
      "execution_count": null,
      "outputs": [
        {
          "output_type": "execute_result",
          "data": {
            "text/plain": [
              "<tf.Tensor: id=22, shape=(6, 8), dtype=int32, numpy=\n",
              "array([[12, 11, 10,  9, 10, 11, 12, 11],\n",
              "       [ 8,  7,  6,  5,  6,  7,  8,  7],\n",
              "       [ 4,  3,  2,  1,  2,  3,  4,  3],\n",
              "       [ 8,  7,  6,  5,  6,  7,  8,  7],\n",
              "       [12, 11, 10,  9, 10, 11, 12, 11],\n",
              "       [ 8,  7,  6,  5,  6,  7,  8,  7]], dtype=int32)>"
            ]
          },
          "metadata": {
            "tags": []
          },
          "execution_count": 14
        }
      ]
    },
    {
      "cell_type": "markdown",
      "metadata": {
        "id": "u_eqbELPFxDd"
      },
      "source": [
        "SYMMETRIC填充模式與REFLECT填充模式一樣，都是以邊緣為對稱軸進行賦值填充，不過SYMMETRIC模式會對對稱軸進行賦值，所以指定的規模最大可以為原規模："
      ]
    },
    {
      "cell_type": "code",
      "metadata": {
        "id": "SCeRulcTFxDe",
        "outputId": "cf44c70d-6450-4f25-a231-47764005d6b8"
      },
      "source": [
        "tf.pad(a, [[2,1],[4,1]],mode='SYMMETRIC')  # 這時候對第二個維度填充規模可以為4，但是超過4舊貨產生異常"
      ],
      "execution_count": null,
      "outputs": [
        {
          "output_type": "execute_result",
          "data": {
            "text/plain": [
              "<tf.Tensor: id=24, shape=(6, 9), dtype=int32, numpy=\n",
              "array([[ 8,  7,  6,  5,  5,  6,  7,  8,  8],\n",
              "       [ 4,  3,  2,  1,  1,  2,  3,  4,  4],\n",
              "       [ 4,  3,  2,  1,  1,  2,  3,  4,  4],\n",
              "       [ 8,  7,  6,  5,  5,  6,  7,  8,  8],\n",
              "       [12, 11, 10,  9,  9, 10, 11, 12, 12],\n",
              "       [12, 11, 10,  9,  9, 10, 11, 12, 12]], dtype=int32)>"
            ]
          },
          "metadata": {
            "tags": []
          },
          "execution_count": 15
        }
      ]
    },
    {
      "cell_type": "markdown",
      "metadata": {
        "id": "YMaYZv5UFxDh"
      },
      "source": [
        "# 2 tile()\n",
        "\n",
        "tile()方法對指定維度進行複製，定義如下：  \n",
        "\n",
        "tile(input, multiples, name=None)：  \n",
        " - input：需要複製的tensor\n",
        " - multiples: 各維度需要複製的次數，0表示去除數據，1表示不複製，2表示複製一次\n",
        " \n",
        "參數multiples是一個長度與tensor的秩相等的list，例如當tensor的shape為（12，）時，multiples的shape也必須為只有一個元素的list，例如multiples=[2],表示對第一維度複製1次："
      ]
    },
    {
      "cell_type": "code",
      "metadata": {
        "id": "5mIWXhkHFxDh"
      },
      "source": [
        "a = tf.range(12)"
      ],
      "execution_count": null,
      "outputs": []
    },
    {
      "cell_type": "code",
      "metadata": {
        "scrolled": true,
        "id": "12QlaJI9FxDl",
        "outputId": "260a5d9e-dc54-4cb1-d06a-0df4689fe95c"
      },
      "source": [
        "tf.tile(a,[2])"
      ],
      "execution_count": null,
      "outputs": [
        {
          "output_type": "execute_result",
          "data": {
            "text/plain": [
              "<tf.Tensor: id=33, shape=(24,), dtype=int32, numpy=\n",
              "array([ 0,  1,  2,  3,  4,  5,  6,  7,  8,  9, 10, 11,  0,  1,  2,  3,  4,\n",
              "        5,  6,  7,  8,  9, 10, 11], dtype=int32)>"
            ]
          },
          "metadata": {
            "tags": []
          },
          "execution_count": 22
        }
      ]
    },
    {
      "cell_type": "markdown",
      "metadata": {
        "id": "65lASdb4FxDo"
      },
      "source": [
        "當tensor的shape為（3,4）時，multiples是一個包含兩個元素的list："
      ]
    },
    {
      "cell_type": "code",
      "metadata": {
        "id": "2YdQKPs0FxDp"
      },
      "source": [
        "a = tf.reshape(a, [3,4])"
      ],
      "execution_count": null,
      "outputs": []
    },
    {
      "cell_type": "code",
      "metadata": {
        "id": "sc8it2h3FxDr",
        "outputId": "e0bce594-5ccd-4531-dbc8-8d8b1fd76b38"
      },
      "source": [
        "tf.tile(a, [2,3])  # 第一維度複製1次，第二維度複製2次"
      ],
      "execution_count": null,
      "outputs": [
        {
          "output_type": "execute_result",
          "data": {
            "text/plain": [
              "<tf.Tensor: id=37, shape=(6, 12), dtype=int32, numpy=\n",
              "array([[ 0,  1,  2,  3,  0,  1,  2,  3,  0,  1,  2,  3],\n",
              "       [ 4,  5,  6,  7,  4,  5,  6,  7,  4,  5,  6,  7],\n",
              "       [ 8,  9, 10, 11,  8,  9, 10, 11,  8,  9, 10, 11],\n",
              "       [ 0,  1,  2,  3,  0,  1,  2,  3,  0,  1,  2,  3],\n",
              "       [ 4,  5,  6,  7,  4,  5,  6,  7,  4,  5,  6,  7],\n",
              "       [ 8,  9, 10, 11,  8,  9, 10, 11,  8,  9, 10, 11]], dtype=int32)>"
            ]
          },
          "metadata": {
            "tags": []
          },
          "execution_count": 24
        }
      ]
    },
    {
      "cell_type": "markdown",
      "metadata": {
        "id": "2pGuHTV3FxDu"
      },
      "source": [
        "當tensor的shape為(2,2,3時，multiples是一個包含3個元素list："
      ]
    },
    {
      "cell_type": "code",
      "metadata": {
        "id": "Ycjn_J6VFxDv"
      },
      "source": [
        "a = tf.reshape(a, [2,2,3])"
      ],
      "execution_count": null,
      "outputs": []
    },
    {
      "cell_type": "code",
      "metadata": {
        "id": "lgecM-ywFxDy",
        "outputId": "1a38ba32-77e8-443a-8333-2f32652c92aa"
      },
      "source": [
        "tf.tile(a, [2,1,2])"
      ],
      "execution_count": null,
      "outputs": [
        {
          "output_type": "execute_result",
          "data": {
            "text/plain": [
              "<tf.Tensor: id=41, shape=(4, 2, 6), dtype=int32, numpy=\n",
              "array([[[ 0,  1,  2,  0,  1,  2],\n",
              "        [ 3,  4,  5,  3,  4,  5]],\n",
              "\n",
              "       [[ 6,  7,  8,  6,  7,  8],\n",
              "        [ 9, 10, 11,  9, 10, 11]],\n",
              "\n",
              "       [[ 0,  1,  2,  0,  1,  2],\n",
              "        [ 3,  4,  5,  3,  4,  5]],\n",
              "\n",
              "       [[ 6,  7,  8,  6,  7,  8],\n",
              "        [ 9, 10, 11,  9, 10, 11]]], dtype=int32)>"
            ]
          },
          "metadata": {
            "tags": []
          },
          "execution_count": 26
        }
      ]
    }
  ]
}