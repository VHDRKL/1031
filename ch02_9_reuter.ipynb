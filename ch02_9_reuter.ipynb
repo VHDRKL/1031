{
  "nbformat": 4,
  "nbformat_minor": 0,
  "metadata": {
    "colab": {
      "name": "ch02_9_reuter.ipynb",
      "provenance": [],
      "authorship_tag": "ABX9TyMUPOGB+1pSJskBvH1U2CfO",
      "include_colab_link": true
    },
    "kernelspec": {
      "name": "python3",
      "display_name": "Python 3"
    }
  },
  "cells": [
    {
      "cell_type": "markdown",
      "metadata": {
        "id": "view-in-github",
        "colab_type": "text"
      },
      "source": [
        "<a href=\"https://colab.research.google.com/github/VHDRKL/1031/blob/main/ch02_9_reuter.ipynb\" target=\"_parent\"><img src=\"https://colab.research.google.com/assets/colab-badge.svg\" alt=\"Open In Colab\"/></a>"
      ]
    },
    {
      "cell_type": "code",
      "metadata": {
        "id": "xcbEdGqxrVCW",
        "outputId": "6334722f-c5aa-48f7-8888-cb6d4591e813",
        "colab": {
          "base_uri": "https://localhost:8080/"
        }
      },
      "source": [
        "import tensorflow as tf\n",
        "(a_train, b_train),(a_test, b_test)=tf.keras.datasets.reuters.load_data(num_words=10000)\n",
        "\n",
        "\n"
      ],
      "execution_count": 2,
      "outputs": [
        {
          "output_type": "stream",
          "text": [
            "Downloading data from https://storage.googleapis.com/tensorflow/tf-keras-datasets/reuters.npz\n",
            "2113536/2110848 [==============================] - 0s 0us/step\n"
          ],
          "name": "stdout"
        }
      ]
    },
    {
      "cell_type": "code",
      "metadata": {
        "id": "iUyBMgiIr9Sv"
      },
      "source": [
        "a_train.shape, b_train.shape, a_test.shape, b_test.shape\n",
        "#((8982,), (8982,), (2246,), (2246,))\n",
        "from tensorflow.keras.preprocessing.text import Tokenizer\n",
        "tok=Tokenizer(num_words=10000)\n",
        "x_train=tok.sequences_to_matrix(a_train)\n",
        "x_test=tok.sequences_to_matrix(a_test)\n",
        "\n",
        "\n"
      ],
      "execution_count": 11,
      "outputs": []
    },
    {
      "cell_type": "code",
      "metadata": {
        "id": "k-8KoWtIs7cK",
        "outputId": "33b914e7-c1c5-406f-98a4-b557f488228c",
        "colab": {
          "base_uri": "https://localhost:8080/"
        }
      },
      "source": [
        "y_train=b_train.astype('float32')\n",
        "y_test=b_test.astype('float32')\n",
        "#y_train = to_categorical(b_train)  #←將訓練標籤轉為 one-hot 編碼\n",
        "#y_test  = to_categorical(b_test)   #←將測試標籤轉為 one-hot 編碼\n",
        "import numpy as np\n",
        "np.max(b_train) #0...45"
      ],
      "execution_count": 10,
      "outputs": [
        {
          "output_type": "execute_result",
          "data": {
            "text/plain": [
              "45"
            ]
          },
          "metadata": {
            "tags": []
          },
          "execution_count": 10
        }
      ]
    },
    {
      "cell_type": "code",
      "metadata": {
        "id": "qLClQK_1uJLi"
      },
      "source": [
        "model=tf.keras.models.Sequential()\n",
        "f1=tf.keras.layers.Dense(64,  activation='relu', input_dim=10000, name='f1')\n",
        "f2=tf.keras.layers.Dense(64,  activation='relu',  name='f2')\n",
        "f3=tf.keras.layers.Dense(64,  activation='softmax',  name='f3')\n",
        "model.add(f1)\n",
        "model.add(f2)\n",
        "model.add(f3)"
      ],
      "execution_count": 18,
      "outputs": []
    },
    {
      "cell_type": "code",
      "metadata": {
        "id": "XstNVHKzu5Lj",
        "outputId": "34d8e5e3-6ee5-4093-c4e4-22cef6d82ca6",
        "colab": {
          "base_uri": "https://localhost:8080/"
        }
      },
      "source": [
        "#loss='categorical_crossentropy' when uses one-hot\n",
        "model.compile(optimizer='rmsprop',\n",
        "              loss=tf.keras.losses.SparseCategoricalCrossentropy(),\n",
        "              metrics=['acc'])\n",
        "model.fit(x=x_train, y=y_train,\n",
        "          batch_size=128,\n",
        "          epochs=5,            #← 訓練 20 個週期\n",
        "          validation_split=0.2) #← 由訓練資料切出 20% 做驗證\n"
      ],
      "execution_count": 19,
      "outputs": [
        {
          "output_type": "stream",
          "text": [
            "Epoch 1/5\n",
            "57/57 [==============================] - 1s 18ms/step - loss: 1.9671 - acc: 0.5950 - val_loss: 1.3286 - val_acc: 0.7045\n",
            "Epoch 2/5\n",
            "57/57 [==============================] - 1s 15ms/step - loss: 1.0653 - acc: 0.7624 - val_loss: 1.0851 - val_acc: 0.7557\n",
            "Epoch 3/5\n",
            "57/57 [==============================] - 1s 15ms/step - loss: 0.7328 - acc: 0.8431 - val_loss: 0.9955 - val_acc: 0.7807\n",
            "Epoch 4/5\n",
            "57/57 [==============================] - 1s 15ms/step - loss: 0.5061 - acc: 0.8958 - val_loss: 0.9596 - val_acc: 0.7986\n",
            "Epoch 5/5\n",
            "57/57 [==============================] - 1s 15ms/step - loss: 0.3598 - acc: 0.9233 - val_loss: 0.9072 - val_acc: 0.8147\n"
          ],
          "name": "stdout"
        },
        {
          "output_type": "execute_result",
          "data": {
            "text/plain": [
              "<tensorflow.python.keras.callbacks.History at 0x7f5f841bb4e0>"
            ]
          },
          "metadata": {
            "tags": []
          },
          "execution_count": 19
        }
      ]
    },
    {
      "cell_type": "code",
      "metadata": {
        "id": "uTpMl5O2v07d"
      },
      "source": [
        ""
      ],
      "execution_count": null,
      "outputs": []
    }
  ]
}