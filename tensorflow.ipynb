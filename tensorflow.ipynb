{
  "nbformat": 4,
  "nbformat_minor": 0,
  "metadata": {
    "colab": {
      "name": "tensorflow.ipynb",
      "provenance": [],
      "authorship_tag": "ABX9TyPcW6lujJDGPYeAwihmLw5T",
      "include_colab_link": true
    },
    "kernelspec": {
      "name": "python3",
      "display_name": "Python 3"
    }
  },
  "cells": [
    {
      "cell_type": "markdown",
      "metadata": {
        "id": "view-in-github",
        "colab_type": "text"
      },
      "source": [
        "<a href=\"https://colab.research.google.com/github/VHDRKL/1031/blob/main/tensorflow.ipynb\" target=\"_parent\"><img src=\"https://colab.research.google.com/assets/colab-badge.svg\" alt=\"Open In Colab\"/></a>"
      ]
    },
    {
      "cell_type": "code",
      "metadata": {
        "id": "Kqf3gcUa4JK7",
        "outputId": "f92d69be-916b-4ceb-e275-72d639aba763",
        "colab": {
          "base_uri": "https://localhost:8080/"
        }
      },
      "source": [
        "import tensorflow as tf\n",
        "print(tf.__version__)\n",
        "x = tf.random.normal([2,784])\n",
        "w1 = tf.Variable(tf.random.truncated_normal([784, 256], stddev=0.1))\n",
        "b1 = tf.Variable(tf.zeros([256]))\n",
        "o1 = tf.matmul(x,w1) + b1\t# 線性變換\n",
        "o1 = tf.nn.relu(o1) # 啟動函數\n",
        "                          "
      ],
      "execution_count": 10,
      "outputs": [
        {
          "output_type": "stream",
          "text": [
            "2.3.0\n"
          ],
          "name": "stdout"
        }
      ]
    },
    {
      "cell_type": "code",
      "metadata": {
        "id": "8xKQJgFE-dRq",
        "outputId": "1dc38ac2-92b8-483e-cfb8-6bfa0bafabe9",
        "colab": {
          "base_uri": "https://localhost:8080/"
        }
      },
      "source": [
        "x=tf.random.normal([7, 512])\n",
        "from tensorflow.keras import layers\n",
        "\n",
        "#等於呼叫Dense的建構子__init()得到到件 fc\n",
        "#此層有   個類神經元\n",
        "f1=layers.Dense(512, activation=tf.nn.relu)\n",
        "f2=layers.Dense(256, activation=tf.nn.relu)\n",
        "f3=layers.Dense(128, activation=tf.nn.relu)\n",
        "f4=layers.Dense(64, activation=tf.nn.relu)\n",
        "f5=layers.Dense(32, activation=tf.nn.relu)\n",
        "f6=layers.Dense(16, activation=tf.nn.relu)\n",
        "f7=layers.Dense(10, activation=tf.nn.relu)\n",
        "\n",
        "h1=f1(x)\n",
        "h2=f2(h1)\n",
        "h3=f3(h2)\n",
        "h4=f4(h3)\n",
        "h5=f5(h4)\n",
        "h6=f6(h5)\n",
        "h7=f7(h6)\n",
        "\n",
        "f7.kernel"
      ],
      "execution_count": 15,
      "outputs": [
        {
          "output_type": "execute_result",
          "data": {
            "text/plain": [
              "<tf.Variable 'dense_6/kernel:0' shape=(16, 10) dtype=float32, numpy=\n",
              "array([[-0.19293356, -0.29695433, -0.22094837, -0.12821922,  0.25620824,\n",
              "        -0.34872514, -0.4358652 , -0.19554687,  0.4142822 , -0.09379601],\n",
              "       [-0.43542802,  0.00505009, -0.1713467 ,  0.3803004 ,  0.09638536,\n",
              "        -0.35539404,  0.37578768, -0.427925  , -0.07720459, -0.3691753 ],\n",
              "       [ 0.34796166,  0.31138855,  0.13275081,  0.43499774,  0.00428972,\n",
              "        -0.02804995,  0.10702646,  0.15999466, -0.20801648, -0.23844092],\n",
              "       [-0.3882956 ,  0.18329751,  0.15101236, -0.42215943,  0.1650685 ,\n",
              "         0.09527773,  0.43142223, -0.07326534, -0.33485985, -0.20148307],\n",
              "       [ 0.31919026, -0.44432148,  0.26405042,  0.31492293,  0.46565843,\n",
              "         0.1697129 , -0.05240485, -0.24248494, -0.00291061,  0.31375182],\n",
              "       [ 0.15632015,  0.04432434, -0.09810048,  0.35343325,  0.13445532,\n",
              "        -0.1670515 , -0.14905867, -0.20974684, -0.03015894,  0.1372146 ],\n",
              "       [ 0.03820622, -0.0614275 ,  0.12754613, -0.15754175, -0.37074244,\n",
              "         0.4051075 , -0.35812083, -0.1725139 ,  0.09956056,  0.2717461 ],\n",
              "       [ 0.1735031 , -0.06216553, -0.05638543, -0.45674792, -0.05972999,\n",
              "         0.2827893 ,  0.30267477, -0.16716832,  0.3830667 , -0.18992364],\n",
              "       [-0.28864995,  0.03197038,  0.02783257,  0.12766522,  0.34983236,\n",
              "        -0.09472531, -0.037774  , -0.2565785 , -0.04622892, -0.12477913],\n",
              "       [-0.2471597 ,  0.21477771,  0.18270159, -0.47434527, -0.31164682,\n",
              "        -0.33315215,  0.34505028, -0.16820863,  0.04100424, -0.23345062],\n",
              "       [ 0.46323848, -0.3156092 ,  0.10756326,  0.05987352,  0.2634114 ,\n",
              "        -0.40244722, -0.09272605,  0.35468143,  0.12372988,  0.0854286 ],\n",
              "       [ 0.10207707, -0.2668489 ,  0.28618163,  0.45545542,  0.4023524 ,\n",
              "        -0.27075353, -0.2590726 , -0.42725292, -0.41727737,  0.34079707],\n",
              "       [ 0.32281113, -0.3740051 , -0.45120856,  0.18342304, -0.30385482,\n",
              "         0.32925403,  0.46173066, -0.44117928,  0.45225662,  0.03390855],\n",
              "       [ 0.29428107, -0.44108388, -0.39504623,  0.22228324,  0.46090692,\n",
              "         0.08329082, -0.15755984,  0.03698683,  0.01985455, -0.31481284],\n",
              "       [ 0.31272066, -0.2779911 , -0.10676372,  0.46206588,  0.383865  ,\n",
              "        -0.1594542 ,  0.22226399, -0.1665251 ,  0.32608205, -0.38154572],\n",
              "       [-0.2848503 ,  0.06545663,  0.0799585 , -0.19571409,  0.18805164,\n",
              "         0.4365263 , -0.41080868, -0.12848505, -0.2100215 , -0.32329136]],\n",
              "      dtype=float32)>"
            ]
          },
          "metadata": {
            "tags": []
          },
          "execution_count": 15
        }
      ]
    },
    {
      "cell_type": "code",
      "metadata": {
        "id": "N7_y1S-q6hA5"
      },
      "source": [
        ""
      ],
      "execution_count": null,
      "outputs": []
    }
  ]
}