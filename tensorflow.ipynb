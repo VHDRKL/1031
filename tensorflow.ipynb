{
  "nbformat": 4,
  "nbformat_minor": 0,
  "metadata": {
    "colab": {
      "name": "tensorflow",
      "provenance": [],
      "collapsed_sections": [],
      "authorship_tag": "ABX9TyNdhGhpArEzZ7LKSk1YoekI",
      "include_colab_link": true
    },
    "kernelspec": {
      "name": "python3",
      "display_name": "Python 3"
    }
  },
  "cells": [
    {
      "cell_type": "markdown",
      "metadata": {
        "id": "view-in-github",
        "colab_type": "text"
      },
      "source": [
        "<a href=\"https://colab.research.google.com/github/VHDRKL/1031/blob/main/tensorflow.ipynb\" target=\"_parent\"><img src=\"https://colab.research.google.com/assets/colab-badge.svg\" alt=\"Open In Colab\"/></a>"
      ]
    },
    {
      "cell_type": "code",
      "metadata": {
        "id": "GW_en-VlXD1A",
        "outputId": "3eb78da3-5011-412c-8bef-ffcf91f6b542",
        "colab": {
          "base_uri": "https://localhost:8080/",
          "height": 301
        }
      },
      "source": [
        "import tensorflow as tf\n",
        "import numpy as np\n",
        "a=tf.constant(1)\n",
        "v=tf.constant([1,2,3,4,5,6])\n",
        "c=np.array([[1, 2, 3],[4, 5, 6]])\n",
        "c=tf.constant(c)\n",
        "d=tf.constant(0, shape=(2,3))\n",
        "e=tf.constant(1, dtype=tf.double)\n",
        "tf.convert_to_tensor(np.ones([2,3]))\n",
        "tf.convert_to_tensor(([2,3],[3,4]))\n",
        "tf.zeros([2,3,3])\n",
        "tf.ones([2,3])\n",
        "b=[[1,2,3],[4,5,6]]\n",
        "tf.zeros_like(b)\n",
        "tf.ones_like(b)\n",
        "tf.fill([2,3],-2,1)\n",
        "tf.random.normal([2,3], mean=3, stddev=0.1)\n",
        "tf.random.truncated_normal([2,3], mean=1, stddev=0.5)\n",
        "tf.random.uniform([2,3], minval=1, maxval=2 )\n",
        "tf.convert_to_tensor(np.arange(80).reshape(2,2,4,5))\n",
        "a=tf.convert_to_tensor(np.arange(40).reshape(2,4,5))\n",
        "a=tf.convert_to_tensor(np.arange(80).reshape(2,2,4,5))\n",
        "#a[0][1][2][3] = a[0,1,2,3]\n",
        "a[0:1,0:1,0:4,0:5]\n",
        "a[1:2,...,0:5]\n",
        "b=np.arange(20).reshape(4,5)\n",
        "\n",
        "tf.gather(b, axis=1, indices=[0,2,3])\n",
        "tf.gather_nd(b,[[0,2],[3,3]])\n",
        "\n",
        "a=tf.random.uniform([3,3], minval=-10, maxval=10, dtype=tf.int32)\n",
        "mask=a<0  #tf.boolean_mask(a,mask) trun false\n",
        "m_index=tf.where(mask)\n",
        "print(a, tf.gather_nd(a, m_index))\n",
        "condition=tf.random_uniform([3,3], minval=0, maxval=2, dtype=tf.int32)\n",
        "condition, tf.cast(condition, tf.bool)\n",
        "\n",
        "a=range(1,10)\n",
        "a=tf.reshape(a, [3,3])\n",
        "b=tf.range(-9,0)\n",
        "b=tf.reshape(b, [3,3])\n",
        "condition, tf.cast(condition, tf.bool)\n",
        "c=tf.where(condition. a, b ) #Truer取a的值, False取b的值\n"
      ],
      "execution_count": 66,
      "outputs": [
        {
          "output_type": "stream",
          "text": [
            "tf.Tensor(\n",
            "[[ 0 -6 -9]\n",
            " [ 0 -3  5]\n",
            " [ 5  0 -1]], shape=(3, 3), dtype=int32) tf.Tensor([-6 -9 -3 -1], shape=(4,), dtype=int32)\n"
          ],
          "name": "stdout"
        },
        {
          "output_type": "error",
          "ename": "AttributeError",
          "evalue": "ignored",
          "traceback": [
            "\u001b[0;31m---------------------------------------------------------------------------\u001b[0m",
            "\u001b[0;31mAttributeError\u001b[0m                            Traceback (most recent call last)",
            "\u001b[0;32m<ipython-input-66-8d4b76be12e5>\u001b[0m in \u001b[0;36m<module>\u001b[0;34m()\u001b[0m\n\u001b[1;32m     33\u001b[0m \u001b[0mm_index\u001b[0m\u001b[0;34m=\u001b[0m\u001b[0mtf\u001b[0m\u001b[0;34m.\u001b[0m\u001b[0mwhere\u001b[0m\u001b[0;34m(\u001b[0m\u001b[0mmask\u001b[0m\u001b[0;34m)\u001b[0m\u001b[0;34m\u001b[0m\u001b[0;34m\u001b[0m\u001b[0m\n\u001b[1;32m     34\u001b[0m \u001b[0mprint\u001b[0m\u001b[0;34m(\u001b[0m\u001b[0ma\u001b[0m\u001b[0;34m,\u001b[0m \u001b[0mtf\u001b[0m\u001b[0;34m.\u001b[0m\u001b[0mgather_nd\u001b[0m\u001b[0;34m(\u001b[0m\u001b[0ma\u001b[0m\u001b[0;34m,\u001b[0m \u001b[0mm_index\u001b[0m\u001b[0;34m)\u001b[0m\u001b[0;34m)\u001b[0m\u001b[0;34m\u001b[0m\u001b[0;34m\u001b[0m\u001b[0m\n\u001b[0;32m---> 35\u001b[0;31m \u001b[0mcondition\u001b[0m\u001b[0;34m=\u001b[0m\u001b[0mtf\u001b[0m\u001b[0;34m.\u001b[0m\u001b[0mrandom_uniform\u001b[0m\u001b[0;34m(\u001b[0m\u001b[0;34m[\u001b[0m\u001b[0;36m3\u001b[0m\u001b[0;34m,\u001b[0m\u001b[0;36m3\u001b[0m\u001b[0;34m]\u001b[0m\u001b[0;34m,\u001b[0m \u001b[0mminval\u001b[0m\u001b[0;34m=\u001b[0m\u001b[0;36m0\u001b[0m\u001b[0;34m,\u001b[0m \u001b[0mmaxval\u001b[0m\u001b[0;34m=\u001b[0m\u001b[0;36m2\u001b[0m\u001b[0;34m,\u001b[0m \u001b[0mdtype\u001b[0m\u001b[0;34m=\u001b[0m\u001b[0mtf\u001b[0m\u001b[0;34m.\u001b[0m\u001b[0mint32\u001b[0m\u001b[0;34m)\u001b[0m\u001b[0;34m\u001b[0m\u001b[0;34m\u001b[0m\u001b[0m\n\u001b[0m\u001b[1;32m     36\u001b[0m \u001b[0mcondition\u001b[0m\u001b[0;34m,\u001b[0m \u001b[0mtf\u001b[0m\u001b[0;34m.\u001b[0m\u001b[0mcast\u001b[0m\u001b[0;34m(\u001b[0m\u001b[0mcondition\u001b[0m\u001b[0;34m,\u001b[0m \u001b[0mtf\u001b[0m\u001b[0;34m.\u001b[0m\u001b[0mbool\u001b[0m\u001b[0;34m)\u001b[0m\u001b[0;34m\u001b[0m\u001b[0;34m\u001b[0m\u001b[0m\n\u001b[1;32m     37\u001b[0m \u001b[0;34m\u001b[0m\u001b[0m\n",
            "\u001b[0;31mAttributeError\u001b[0m: module 'tensorflow' has no attribute 'random_uniform'"
          ]
        }
      ]
    }
  ]
}