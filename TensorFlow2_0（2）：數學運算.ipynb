{
  "nbformat": 4,
  "nbformat_minor": 0,
  "metadata": {
    "kernelspec": {
      "display_name": "study_python",
      "language": "python",
      "name": "study_python"
    },
    "language_info": {
      "codemirror_mode": {
        "name": "ipython",
        "version": 3
      },
      "file_extension": ".py",
      "mimetype": "text/x-python",
      "name": "python",
      "nbconvert_exporter": "python",
      "pygments_lexer": "ipython3",
      "version": "3.7.4"
    },
    "colab": {
      "name": "TensorFlow2.0（2）：數學運算.ipynb",
      "provenance": [],
      "include_colab_link": true
    }
  },
  "cells": [
    {
      "cell_type": "markdown",
      "metadata": {
        "id": "view-in-github",
        "colab_type": "text"
      },
      "source": [
        "<a href=\"https://colab.research.google.com/github/VHDRKL/1031/blob/main/TensorFlow2_0%EF%BC%882%EF%BC%89%EF%BC%9A%E6%95%B8%E5%AD%B8%E9%81%8B%E7%AE%97.ipynb\" target=\"_parent\"><img src=\"https://colab.research.google.com/assets/colab-badge.svg\" alt=\"Open In Colab\"/></a>"
      ]
    },
    {
      "cell_type": "markdown",
      "metadata": {
        "id": "7pfmoIGQBrJQ"
      },
      "source": [
        "# 1 基本運算：（+、-、*、/、//、%）"
      ]
    },
    {
      "cell_type": "markdown",
      "metadata": {
        "id": "Om2QfpzkBrJR"
      },
      "source": [
        "基本運算中所有實例都以下面的張量a、b為例進行："
      ]
    },
    {
      "cell_type": "code",
      "metadata": {
        "id": "eAcCk6RmBrJR"
      },
      "source": [
        "import tensorflow as tf\n",
        "a = tf.random.uniform([2, 3], minval=1, maxval=6,dtype=tf.int32)\n",
        "b = tf.random.uniform([2, 3], minval=1, maxval=6,dtype=tf.int32)"
      ],
      "execution_count": null,
      "outputs": []
    },
    {
      "cell_type": "code",
      "metadata": {
        "id": "aUp5ChKCBrJV",
        "outputId": "eb1d0a6a-ea8f-4cf5-e8da-a53c82cff276"
      },
      "source": [
        "a"
      ],
      "execution_count": null,
      "outputs": [
        {
          "output_type": "execute_result",
          "data": {
            "text/plain": [
              "<tf.Tensor: id=3, shape=(2, 3), dtype=int32, numpy=\n",
              "array([[1, 4, 5],\n",
              "       [5, 1, 4]])>"
            ]
          },
          "metadata": {
            "tags": []
          },
          "execution_count": 3
        }
      ]
    },
    {
      "cell_type": "code",
      "metadata": {
        "id": "cCoV4yYgBrJZ",
        "outputId": "f357a07c-47a6-4e30-dfc0-9c4bc00d8ef5"
      },
      "source": [
        "b"
      ],
      "execution_count": null,
      "outputs": [
        {
          "output_type": "execute_result",
          "data": {
            "text/plain": [
              "<tf.Tensor: id=7, shape=(2, 3), dtype=int32, numpy=\n",
              "array([[1, 3, 5],\n",
              "       [3, 5, 2]])>"
            ]
          },
          "metadata": {
            "tags": []
          },
          "execution_count": 4
        }
      ]
    },
    {
      "cell_type": "markdown",
      "metadata": {
        "id": "6Rh6levPBrJd"
      },
      "source": [
        "**（1）加（+）**"
      ]
    },
    {
      "cell_type": "code",
      "metadata": {
        "id": "z4xi5cG1BrJd",
        "outputId": "05081032-e28a-4282-e882-dce4a041560d"
      },
      "source": [
        "tf.add(a,b)  # 通過add方法執行加操作"
      ],
      "execution_count": null,
      "outputs": [
        {
          "output_type": "execute_result",
          "data": {
            "text/plain": [
              "<tf.Tensor: id=12, shape=(2, 3), dtype=int32, numpy=\n",
              "array([[ 2,  7, 10],\n",
              "       [ 8,  6,  6]])>"
            ]
          },
          "metadata": {
            "tags": []
          },
          "execution_count": 6
        }
      ]
    },
    {
      "cell_type": "code",
      "metadata": {
        "id": "GVqEKhnXBrJg",
        "outputId": "57067be6-8061-4620-a713-34008c4ee234"
      },
      "source": [
        "a + b  # 也可以通過操作符進行"
      ],
      "execution_count": null,
      "outputs": [
        {
          "output_type": "execute_result",
          "data": {
            "text/plain": [
              "<tf.Tensor: id=16, shape=(2, 3), dtype=int32, numpy=\n",
              "array([[ 2,  7, 10],\n",
              "       [ 8,  6,  6]])>"
            ]
          },
          "metadata": {
            "tags": []
          },
          "execution_count": 8
        }
      ]
    },
    {
      "cell_type": "markdown",
      "metadata": {
        "id": "oMt7MDWYBrJk"
      },
      "source": [
        "**（2）減（-）**"
      ]
    },
    {
      "cell_type": "code",
      "metadata": {
        "id": "3DeiZgEeBrJk",
        "outputId": "acf53809-9865-4a1a-b927-c478fc06191c"
      },
      "source": [
        "tf.subtract(a,b)"
      ],
      "execution_count": null,
      "outputs": [
        {
          "output_type": "execute_result",
          "data": {
            "text/plain": [
              "<tf.Tensor: id=18, shape=(2, 3), dtype=int32, numpy=\n",
              "array([[ 0,  1,  0],\n",
              "       [ 2, -4,  2]])>"
            ]
          },
          "metadata": {
            "tags": []
          },
          "execution_count": 10
        }
      ]
    },
    {
      "cell_type": "code",
      "metadata": {
        "id": "tJe6asdUBrJo",
        "outputId": "998838a9-2e11-4a66-972b-4633e25deb86"
      },
      "source": [
        "a - b"
      ],
      "execution_count": null,
      "outputs": [
        {
          "output_type": "execute_result",
          "data": {
            "text/plain": [
              "<tf.Tensor: id=20, shape=(2, 3), dtype=int32, numpy=\n",
              "array([[ 0,  1,  0],\n",
              "       [ 2, -4,  2]])>"
            ]
          },
          "metadata": {
            "tags": []
          },
          "execution_count": 11
        }
      ]
    },
    {
      "cell_type": "markdown",
      "metadata": {
        "id": "Q1JrYLcLBrJt"
      },
      "source": [
        "**（3）乘法（*）**"
      ]
    },
    {
      "cell_type": "code",
      "metadata": {
        "id": "lnlIU1bLBrJt",
        "outputId": "00cb6194-b633-4ad3-d229-3229c47ff363"
      },
      "source": [
        "tf.multiply(a,b)"
      ],
      "execution_count": null,
      "outputs": [
        {
          "output_type": "execute_result",
          "data": {
            "text/plain": [
              "<tf.Tensor: id=22, shape=(2, 3), dtype=int32, numpy=\n",
              "array([[ 1, 12, 25],\n",
              "       [15,  5,  8]])>"
            ]
          },
          "metadata": {
            "tags": []
          },
          "execution_count": 12
        }
      ]
    },
    {
      "cell_type": "code",
      "metadata": {
        "id": "fcc9p69RBrJw",
        "outputId": "a9b0a795-b08f-4a67-b8f5-beb5a1a99cb6"
      },
      "source": [
        "a * b"
      ],
      "execution_count": null,
      "outputs": [
        {
          "output_type": "execute_result",
          "data": {
            "text/plain": [
              "<tf.Tensor: id=24, shape=(2, 3), dtype=int32, numpy=\n",
              "array([[ 1, 12, 25],\n",
              "       [15,  5,  8]])>"
            ]
          },
          "metadata": {
            "tags": []
          },
          "execution_count": 13
        }
      ]
    },
    {
      "cell_type": "markdown",
      "metadata": {
        "id": "CISRB5FyBrJz"
      },
      "source": [
        "**（4）除法（/）**"
      ]
    },
    {
      "cell_type": "code",
      "metadata": {
        "id": "6JuM5UwxBrJ0",
        "outputId": "1b2279df-ea47-4121-89f1-defc39a880e3"
      },
      "source": [
        "tf.divide(a,b)"
      ],
      "execution_count": null,
      "outputs": [
        {
          "output_type": "execute_result",
          "data": {
            "text/plain": [
              "<tf.Tensor: id=28, shape=(2, 3), dtype=float64, numpy=\n",
              "array([[1.        , 1.33333333, 1.        ],\n",
              "       [1.66666667, 0.2       , 2.        ]])>"
            ]
          },
          "metadata": {
            "tags": []
          },
          "execution_count": 15
        }
      ]
    },
    {
      "cell_type": "code",
      "metadata": {
        "id": "Z1D3NB_-BrJ2",
        "outputId": "e584d7c7-5ca1-4b3f-d936-a68da5049c9c"
      },
      "source": [
        "a/b"
      ],
      "execution_count": null,
      "outputs": [
        {
          "output_type": "execute_result",
          "data": {
            "text/plain": [
              "<tf.Tensor: id=32, shape=(2, 3), dtype=float64, numpy=\n",
              "array([[1.        , 1.33333333, 1.        ],\n",
              "       [1.66666667, 0.2       , 2.        ]])>"
            ]
          },
          "metadata": {
            "tags": []
          },
          "execution_count": 16
        }
      ]
    },
    {
      "cell_type": "markdown",
      "metadata": {
        "id": "vykura9gBrJ5"
      },
      "source": [
        "**（5）地板除法（//）**"
      ]
    },
    {
      "cell_type": "code",
      "metadata": {
        "id": "_E01S9q6BrJ6",
        "outputId": "bc1e673a-58a2-4c10-ddb5-396ba8db61fd"
      },
      "source": [
        "tf.floor_div(a,b)"
      ],
      "execution_count": null,
      "outputs": [
        {
          "output_type": "execute_result",
          "data": {
            "text/plain": [
              "<tf.Tensor: id=34, shape=(2, 3), dtype=int32, numpy=\n",
              "array([[1, 1, 1],\n",
              "       [1, 0, 2]])>"
            ]
          },
          "metadata": {
            "tags": []
          },
          "execution_count": 17
        }
      ]
    },
    {
      "cell_type": "code",
      "metadata": {
        "id": "zHsElOXcBrJ9",
        "outputId": "57d58cfe-1930-434e-942e-0da0e775904e"
      },
      "source": [
        "a // b"
      ],
      "execution_count": null,
      "outputs": [
        {
          "output_type": "execute_result",
          "data": {
            "text/plain": [
              "<tf.Tensor: id=38, shape=(2, 3), dtype=int32, numpy=\n",
              "array([[1, 1, 1],\n",
              "       [1, 0, 2]])>"
            ]
          },
          "metadata": {
            "tags": []
          },
          "execution_count": 19
        }
      ]
    },
    {
      "cell_type": "markdown",
      "metadata": {
        "id": "1hkJw-NiBrKA"
      },
      "source": [
        "**（6）取余（%）**"
      ]
    },
    {
      "cell_type": "code",
      "metadata": {
        "id": "7nMK1wN8BrKB",
        "outputId": "c1a5d92b-0d4e-42e6-92cd-db22e9cb1a07"
      },
      "source": [
        "tf.mod(b,a)"
      ],
      "execution_count": null,
      "outputs": [
        {
          "output_type": "execute_result",
          "data": {
            "text/plain": [
              "<tf.Tensor: id=115, shape=(2, 2, 3), dtype=int32, numpy=\n",
              "array([[[0, 1, 2],\n",
              "        [0, 0, 2]],\n",
              "\n",
              "       [[0, 1, 2],\n",
              "        [0, 0, 2]]])>"
            ]
          },
          "metadata": {
            "tags": []
          },
          "execution_count": 54
        }
      ]
    },
    {
      "cell_type": "code",
      "metadata": {
        "id": "RqatZikSBrKD",
        "outputId": "362ed829-c271-453c-9a5d-68ab43d85628"
      },
      "source": [
        "b % a"
      ],
      "execution_count": null,
      "outputs": [
        {
          "output_type": "execute_result",
          "data": {
            "text/plain": [
              "<tf.Tensor: id=117, shape=(2, 2, 3), dtype=int32, numpy=\n",
              "array([[[0, 1, 2],\n",
              "        [0, 0, 2]],\n",
              "\n",
              "       [[0, 1, 2],\n",
              "        [0, 0, 2]]])>"
            ]
          },
          "metadata": {
            "tags": []
          },
          "execution_count": 55
        }
      ]
    },
    {
      "cell_type": "markdown",
      "metadata": {
        "id": "aeFtfxUnBrKH"
      },
      "source": [
        "可以看出，對於基本運算加（+）、減（-）、點乘（*）、除（/）、地板除法（//）、取余（%），都是對應元素進行運算。"
      ]
    },
    {
      "cell_type": "markdown",
      "metadata": {
        "id": "1wpjabv-BrKH"
      },
      "source": [
        "# 2 指數、開方、對數"
      ]
    },
    {
      "cell_type": "markdown",
      "metadata": {
        "id": "zXjN-pjHBrKI"
      },
      "source": [
        "**（1）對數運算**"
      ]
    },
    {
      "cell_type": "markdown",
      "metadata": {
        "id": "7wPPH4MhBrKJ"
      },
      "source": [
        "TensorFlow提供tf.math.log()方法來求對數，當然，求的是以自然常數$e$為底的對數："
      ]
    },
    {
      "cell_type": "code",
      "metadata": {
        "id": "SiMw9BZuBrKK",
        "outputId": "b66e727a-882f-4336-c522-e196c01eb52b"
      },
      "source": [
        "e = 2.71828183\n",
        "a = tf.constant([e, e*e, e*e*e])\n",
        "tf.math.log(a)"
      ],
      "execution_count": null,
      "outputs": [
        {
          "output_type": "execute_result",
          "data": {
            "text/plain": [
              "<tf.Tensor: id=41, shape=(3,), dtype=float32, numpy=array([0.99999994, 2.        , 3.        ], dtype=float32)>"
            ]
          },
          "metadata": {
            "tags": []
          },
          "execution_count": 22
        }
      ]
    },
    {
      "cell_type": "code",
      "metadata": {
        "id": "E0Vov0SvBrKN",
        "outputId": "ec1dbbc0-bfb5-4f1b-d27f-c35e104d12d4"
      },
      "source": [
        "c = tf.fill([2,2],1.)\n",
        "tf.math.log(c)"
      ],
      "execution_count": null,
      "outputs": [
        {
          "output_type": "execute_result",
          "data": {
            "text/plain": [
              "<tf.Tensor: id=46, shape=(2, 2), dtype=float32, numpy=\n",
              "array([[0., 0.],\n",
              "       [0., 0.]], dtype=float32)>"
            ]
          },
          "metadata": {
            "tags": []
          },
          "execution_count": 23
        }
      ]
    },
    {
      "cell_type": "markdown",
      "metadata": {
        "id": "iqQNkMk5BrKQ"
      },
      "source": [
        "注意：TensorFlow中沒有提供函數實現以其他數值為底的對數運算，例如$lo{g_2}8$, $lg100$。不過，我們可以通過其他方式來求取，記得下面這個高中時學過的公式嗎："
      ]
    },
    {
      "cell_type": "markdown",
      "metadata": {
        "id": "upsZaEXhBrKQ"
      },
      "source": [
        "$$lo{g_a}b = \\frac{{lo{g_c}b}}{{lo{g_c}a}}$$"
      ]
    },
    {
      "cell_type": "markdown",
      "metadata": {
        "id": "P604QZQqBrKR"
      },
      "source": [
        "所以有："
      ]
    },
    {
      "cell_type": "code",
      "metadata": {
        "id": "c3IuIlG5BrKR"
      },
      "source": [
        "f = tf.constant([[1., 9.], [16., 100.]])\n",
        "g = tf.constant([[2., 3.], [2., 10.]])"
      ],
      "execution_count": null,
      "outputs": []
    },
    {
      "cell_type": "code",
      "metadata": {
        "id": "ceZ-fLzrBrKT",
        "outputId": "308592f0-8672-4516-f02b-e5d02d85602c"
      },
      "source": [
        "tf.math.log(f) / tf.math.log(g)"
      ],
      "execution_count": null,
      "outputs": [
        {
          "output_type": "execute_result",
          "data": {
            "text/plain": [
              "<tf.Tensor: id=52, shape=(2, 2), dtype=float32, numpy=\n",
              "array([[0., 2.],\n",
              "       [4., 2.]], dtype=float32)>"
            ]
          },
          "metadata": {
            "tags": []
          },
          "execution_count": 25
        }
      ]
    },
    {
      "cell_type": "markdown",
      "metadata": {
        "id": "XrDTcNDgBrKW"
      },
      "source": [
        "**（2）指數運算**"
      ]
    },
    {
      "cell_type": "code",
      "metadata": {
        "id": "WS0Xu0ZOBrKW"
      },
      "source": [
        "g = tf.constant([[2, 3], [2, 10]])"
      ],
      "execution_count": null,
      "outputs": []
    },
    {
      "cell_type": "code",
      "metadata": {
        "id": "eqBwuBr2BrKZ",
        "outputId": "bd9a351a-ea03-4a15-98b7-7a22a60a624e"
      },
      "source": [
        "tf.pow(g, 2)"
      ],
      "execution_count": null,
      "outputs": [
        {
          "output_type": "execute_result",
          "data": {
            "text/plain": [
              "<tf.Tensor: id=66, shape=(2, 2), dtype=int32, numpy=\n",
              "array([[  4,   9],\n",
              "       [  4, 100]])>"
            ]
          },
          "metadata": {
            "tags": []
          },
          "execution_count": 31
        }
      ]
    },
    {
      "cell_type": "markdown",
      "metadata": {
        "id": "EjyWuz51BrKc"
      },
      "source": [
        "也可以直接通過運算符來完成："
      ]
    },
    {
      "cell_type": "code",
      "metadata": {
        "id": "7tyWlx1mBrKd",
        "outputId": "9e04ba5a-97a1-4338-bb5a-0e595862df5c"
      },
      "source": [
        "g ** 2"
      ],
      "execution_count": null,
      "outputs": [
        {
          "output_type": "execute_result",
          "data": {
            "text/plain": [
              "<tf.Tensor: id=59, shape=(2, 2), dtype=int32, numpy=\n",
              "array([[  4,   9],\n",
              "       [  4, 100]])>"
            ]
          },
          "metadata": {
            "tags": []
          },
          "execution_count": 27
        }
      ]
    },
    {
      "cell_type": "markdown",
      "metadata": {
        "id": "_zaZr3wIBrKg"
      },
      "source": [
        "**（3）開方**"
      ]
    },
    {
      "cell_type": "code",
      "metadata": {
        "id": "v-FRCF5SBrKh"
      },
      "source": [
        "f = tf.constant([[1., 9.], [16., 100.]])"
      ],
      "execution_count": null,
      "outputs": []
    },
    {
      "cell_type": "code",
      "metadata": {
        "id": "H4nK30z6BrKk",
        "outputId": "65f8625f-b8d0-4959-e602-dbb493dc5bde"
      },
      "source": [
        "tf.sqrt(f)"
      ],
      "execution_count": null,
      "outputs": [
        {
          "output_type": "execute_result",
          "data": {
            "text/plain": [
              "<tf.Tensor: id=69, shape=(2, 2), dtype=float32, numpy=\n",
              "array([[ 1.,  3.],\n",
              "       [ 4., 10.]], dtype=float32)>"
            ]
          },
          "metadata": {
            "tags": []
          },
          "execution_count": 33
        }
      ]
    },
    {
      "cell_type": "markdown",
      "metadata": {
        "id": "SICIge_YBrKo"
      },
      "source": [
        "自然常數$e$的指數運算："
      ]
    },
    {
      "cell_type": "code",
      "metadata": {
        "id": "ODfDgthkBrKo"
      },
      "source": [
        "d = tf.constant([[1.,2.],[3.,4.]])"
      ],
      "execution_count": null,
      "outputs": []
    },
    {
      "cell_type": "code",
      "metadata": {
        "id": "QyX5j7UMBrKr",
        "outputId": "592df328-84ce-4acd-b46e-25b145f2268e"
      },
      "source": [
        "tf.exp(d)"
      ],
      "execution_count": null,
      "outputs": [
        {
          "output_type": "execute_result",
          "data": {
            "text/plain": [
              "<tf.Tensor: id=72, shape=(2, 2), dtype=float32, numpy=\n",
              "array([[ 2.7182817,  7.389056 ],\n",
              "       [20.085537 , 54.598152 ]], dtype=float32)>"
            ]
          },
          "metadata": {
            "tags": []
          },
          "execution_count": 35
        }
      ]
    },
    {
      "cell_type": "markdown",
      "metadata": {
        "id": "2BQ4KaYPBrKt"
      },
      "source": [
        "注意：對數運算函數log()與指數運算函數在不同的模塊中。\n",
        "\n",
        "在我看來，上面提到的指數運算與對數運算不在通知模塊以及沒有提供以其他自然數為底的對數運算，應該應該是TensorFlow中的遺留問題，希望能夠在正式版中得到修正。"
      ]
    },
    {
      "cell_type": "markdown",
      "metadata": {
        "id": "Q5qAKCOKBrKt"
      },
      "source": [
        "# 3 矩陣相乘"
      ]
    },
    {
      "cell_type": "code",
      "metadata": {
        "id": "CxzcHdCmBrKu"
      },
      "source": [
        "import numpy as np\n",
        "a = tf.constant(np.arange(6),shape=(2,3))\n",
        "b = tf.constant(np.arange(6),shape=(3,2))"
      ],
      "execution_count": null,
      "outputs": []
    },
    {
      "cell_type": "code",
      "metadata": {
        "id": "nqkKErS0BrKw",
        "outputId": "138f7f14-f535-440d-e961-a6147920e4ee"
      },
      "source": [
        "a"
      ],
      "execution_count": null,
      "outputs": [
        {
          "output_type": "execute_result",
          "data": {
            "text/plain": [
              "<tf.Tensor: id=76, shape=(2, 3), dtype=int32, numpy=\n",
              "array([[0, 1, 2],\n",
              "       [3, 4, 5]])>"
            ]
          },
          "metadata": {
            "tags": []
          },
          "execution_count": 37
        }
      ]
    },
    {
      "cell_type": "code",
      "metadata": {
        "id": "APtWro1aBrKy",
        "outputId": "7804ddf0-f726-4ab0-8005-c7fda38da680"
      },
      "source": [
        "b"
      ],
      "execution_count": null,
      "outputs": [
        {
          "output_type": "execute_result",
          "data": {
            "text/plain": [
              "<tf.Tensor: id=79, shape=(3, 2), dtype=int32, numpy=\n",
              "array([[0, 1],\n",
              "       [2, 3],\n",
              "       [4, 5]])>"
            ]
          },
          "metadata": {
            "tags": []
          },
          "execution_count": 38
        }
      ]
    },
    {
      "cell_type": "code",
      "metadata": {
        "id": "P2P6v7wpBrK1",
        "outputId": "a9c0fba6-6e27-43cb-b7cf-2589454fc8c2"
      },
      "source": [
        "tf.matmul(a,b)"
      ],
      "execution_count": null,
      "outputs": [
        {
          "output_type": "execute_result",
          "data": {
            "text/plain": [
              "<tf.Tensor: id=82, shape=(2, 2), dtype=int32, numpy=\n",
              "array([[10, 13],\n",
              "       [28, 40]])>"
            ]
          },
          "metadata": {
            "tags": []
          },
          "execution_count": 39
        }
      ]
    },
    {
      "cell_type": "markdown",
      "metadata": {
        "id": "j7NLq0CGBrK3"
      },
      "source": [
        "矩陣相乘也可以通過符號來操作進行，用「@」表示："
      ]
    },
    {
      "cell_type": "code",
      "metadata": {
        "id": "LqFCj9FKBrK3",
        "outputId": "956a520c-f81a-4ed1-bab2-97e005e65630"
      },
      "source": [
        "a @ b"
      ],
      "execution_count": null,
      "outputs": [
        {
          "output_type": "execute_result",
          "data": {
            "text/plain": [
              "<tf.Tensor: id=86, shape=(2, 2), dtype=int32, numpy=\n",
              "array([[10, 13],\n",
              "       [28, 40]])>"
            ]
          },
          "metadata": {
            "tags": []
          },
          "execution_count": 41
        }
      ]
    },
    {
      "cell_type": "markdown",
      "metadata": {
        "id": "HyUa571BBrK6"
      },
      "source": [
        "這裡的張量a和b都是二維的，但在實際應用中，數據往往高於二維，這時候怎麼應算呢？"
      ]
    },
    {
      "cell_type": "code",
      "metadata": {
        "id": "zB6AF8jHBrK6"
      },
      "source": [
        "a = tf.constant(np.arange(12),shape=(2,2,3))\n",
        "b = tf.constant(np.arange(12),shape=(2,3,2))"
      ],
      "execution_count": null,
      "outputs": []
    },
    {
      "cell_type": "code",
      "metadata": {
        "id": "KJh-45-ABrK8",
        "outputId": "8a6f099d-cbb6-4a18-a672-dddf1072e192"
      },
      "source": [
        "a"
      ],
      "execution_count": null,
      "outputs": [
        {
          "output_type": "execute_result",
          "data": {
            "text/plain": [
              "<tf.Tensor: id=90, shape=(2, 2, 3), dtype=int32, numpy=\n",
              "array([[[ 0,  1,  2],\n",
              "        [ 3,  4,  5]],\n",
              "\n",
              "       [[ 6,  7,  8],\n",
              "        [ 9, 10, 11]]])>"
            ]
          },
          "metadata": {
            "tags": []
          },
          "execution_count": 43
        }
      ]
    },
    {
      "cell_type": "code",
      "metadata": {
        "id": "JDMPTmXFBrK-",
        "outputId": "cfd91e77-93e1-450e-e543-3d72825f3b7e"
      },
      "source": [
        "b"
      ],
      "execution_count": null,
      "outputs": [
        {
          "output_type": "execute_result",
          "data": {
            "text/plain": [
              "<tf.Tensor: id=93, shape=(2, 3, 2), dtype=int32, numpy=\n",
              "array([[[ 0,  1],\n",
              "        [ 2,  3],\n",
              "        [ 4,  5]],\n",
              "\n",
              "       [[ 6,  7],\n",
              "        [ 8,  9],\n",
              "        [10, 11]]])>"
            ]
          },
          "metadata": {
            "tags": []
          },
          "execution_count": 44
        }
      ]
    },
    {
      "cell_type": "code",
      "metadata": {
        "id": "JsXdntPRBrLB",
        "outputId": "400a9a00-bd9e-4337-ea53-fdb6ed08c1cd"
      },
      "source": [
        "a @ b"
      ],
      "execution_count": null,
      "outputs": [
        {
          "output_type": "execute_result",
          "data": {
            "text/plain": [
              "<tf.Tensor: id=96, shape=(2, 2, 2), dtype=int32, numpy=\n",
              "array([[[ 10,  13],\n",
              "        [ 28,  40]],\n",
              "\n",
              "       [[172, 193],\n",
              "        [244, 274]]])>"
            ]
          },
          "metadata": {
            "tags": []
          },
          "execution_count": 45
        }
      ]
    },
    {
      "cell_type": "markdown",
      "metadata": {
        "id": "LhgM2ERnBrLD"
      },
      "source": [
        "可以看到，當高於二維的張量進行矩陣相乘時，最終的實現還是二維矩陣相乘，只不過分成了多個二維矩陣，四維張量也是一樣的："
      ]
    },
    {
      "cell_type": "code",
      "metadata": {
        "id": "jKUCUt1hBrLD"
      },
      "source": [
        "a = tf.constant(np.arange(24),shape=(2,2,2,3))\n",
        "b = tf.constant(np.arange(24),shape=(2,2,3,2))"
      ],
      "execution_count": null,
      "outputs": []
    },
    {
      "cell_type": "code",
      "metadata": {
        "id": "_b98YN41BrLG",
        "outputId": "79ffde02-a11c-4718-c620-39b270ff44c7"
      },
      "source": [
        "a @ b"
      ],
      "execution_count": null,
      "outputs": [
        {
          "output_type": "execute_result",
          "data": {
            "text/plain": [
              "<tf.Tensor: id=104, shape=(2, 2, 2, 2), dtype=int32, numpy=\n",
              "array([[[[  10,   13],\n",
              "         [  28,   40]],\n",
              "\n",
              "        [[ 172,  193],\n",
              "         [ 244,  274]]],\n",
              "\n",
              "\n",
              "       [[[ 550,  589],\n",
              "         [ 676,  724]],\n",
              "\n",
              "        [[1144, 1201],\n",
              "         [1324, 1390]]]])>"
            ]
          },
          "metadata": {
            "tags": []
          },
          "execution_count": 47
        }
      ]
    },
    {
      "cell_type": "markdown",
      "metadata": {
        "id": "_JNUO56IBrLJ"
      },
      "source": [
        "# 4 Broadcasting機制"
      ]
    },
    {
      "cell_type": "markdown",
      "metadata": {
        "id": "9mUIwILWBrLJ"
      },
      "source": [
        "上面的所有實例中所用到的張量都是在維度數和形狀相同情況下進行，那麼，當兩個張量維度數或者形狀不一樣時能不能進行運算呢？"
      ]
    },
    {
      "cell_type": "code",
      "metadata": {
        "id": "zDPzF26qBrLK"
      },
      "source": [
        "a = tf.constant([1,2,3])\n",
        "b = tf.constant(np.arange(12),shape=(2,2,3))"
      ],
      "execution_count": null,
      "outputs": []
    },
    {
      "cell_type": "code",
      "metadata": {
        "id": "4cmMX6VsBrLM",
        "outputId": "fe47955c-a272-41b4-8f0a-df3405a3e451"
      },
      "source": [
        "b"
      ],
      "execution_count": null,
      "outputs": [
        {
          "output_type": "execute_result",
          "data": {
            "text/plain": [
              "<tf.Tensor: id=109, shape=(2, 2, 3), dtype=int32, numpy=\n",
              "array([[[ 0,  1,  2],\n",
              "        [ 3,  4,  5]],\n",
              "\n",
              "       [[ 6,  7,  8],\n",
              "        [ 9, 10, 11]]])>"
            ]
          },
          "metadata": {
            "tags": []
          },
          "execution_count": 49
        }
      ]
    },
    {
      "cell_type": "code",
      "metadata": {
        "id": "Zpb6SCvjBrLP",
        "outputId": "52035187-adb5-4326-ce92-3104c9bb1803"
      },
      "source": [
        "a + b"
      ],
      "execution_count": null,
      "outputs": [
        {
          "output_type": "execute_result",
          "data": {
            "text/plain": [
              "<tf.Tensor: id=111, shape=(2, 2, 3), dtype=int32, numpy=\n",
              "array([[[ 1,  3,  5],\n",
              "        [ 4,  6,  8]],\n",
              "\n",
              "       [[ 7,  9, 11],\n",
              "        [10, 12, 14]]])>"
            ]
          },
          "metadata": {
            "tags": []
          },
          "execution_count": 50
        }
      ]
    },
    {
      "cell_type": "code",
      "metadata": {
        "id": "emoufKzGBrLS",
        "outputId": "47076359-c0d0-40d5-db0f-0085948c9c1b"
      },
      "source": [
        "a * b"
      ],
      "execution_count": null,
      "outputs": [
        {
          "output_type": "execute_result",
          "data": {
            "text/plain": [
              "<tf.Tensor: id=113, shape=(2, 2, 3), dtype=int32, numpy=\n",
              "array([[[ 0,  2,  6],\n",
              "        [ 3,  8, 15]],\n",
              "\n",
              "       [[ 6, 14, 24],\n",
              "        [ 9, 20, 33]]])>"
            ]
          },
          "metadata": {
            "tags": []
          },
          "execution_count": 51
        }
      ]
    },
    {
      "cell_type": "markdown",
      "metadata": {
        "id": "OzSOUEvMBrLV"
      },
      "source": [
        "可以看到，一個一維的張量與一個三維張量進行運算是完全沒有問題的，從運算結果上可以看出，相當於是三維張量中的每一行數據與張量a進行運算，為什麼可以這樣運輸呢？這就得益於TensorFlow中的Broadcasting機制。\n",
        "\n",
        "Broadcasting機制解除了只能維度數和形狀相同的張量才能進行運算的限制，當兩個數組進行算術運算時，TensorFlow的Broadcasting機制首先對維度較低的張量形狀數組填充1，從後向前，逐元素比較兩個數組的形狀，當逐個比較的元素值（注意，這個元素值是指描述張量形狀數組的值，不是張量的值）滿足以下條件時，認為滿足 Broadcasting 的條件：\n",
        "\n",
        "（1）相等\n",
        "\n",
        "（2）其中一個張量形狀數組元素值為1。\n",
        "\n",
        "當不滿足時進行運算則會拋出 ValueError: frames are not aligne 異常。算術運算的結果的形狀的每一元素，是兩個數組形狀逐元素比較時的最大值。\n",
        "\n",
        "回到上面張量a與b相乘的例子，a的形狀是（3，），b的形狀是(2, 2, 3)，在Broadcasting機制工作時，首先比較維度數，因為a的維度為1，小於b的維度3，所以填充1，a的形狀就變成了（1,1,3），然後從最後端的形狀數組元素依次往前比較，先是就是3與3比，結果是相等，接著1與2相比，因為其中一個為1，所以a的形狀變成了（1,2,3），繼續1與2比較，因為其中一個為1，所以a的形狀變成了（2,2,3），a中的數據每一行都填充a原來的數據，也就是[1,2,3]，然後在與b進行運算。\n",
        "\n",
        "當然，在TensorFlow的Broadcasting機制運行過程中，上述操作只是理論的，並不會真正的將a的形狀變成（2,2,3,），更不會將每一行填充[1,2,3]，只是虛擬進行操作，真正計算時，依舊是使用原來的張量a。這麼做的好處是運算效率更高，也更節省內存。\n",
        "\n",
        "再舉一些例子加深理解："
      ]
    },
    {
      "cell_type": "markdown",
      "metadata": {
        "id": "nDTDGzPnBrLV"
      },
      "source": [
        "- [ ] A：(2d array): 5 x 4  \n",
        "- [ ] B：(1d array): 1  \n",
        "- [ ] Result：(2d array): 5 x 4  \n",
        "---\n",
        "- [ ] A：(2d array): 5 x 4   \n",
        "- [ ] B：(1d array): 4    \n",
        "- [ ] Result：(2d array): 5 x 4 \n",
        "---\n",
        "- [ ] A：(3d array): 15 x 3 x 5   \n",
        "- [ ] B：(3d array): 15 x 1 x 5  \n",
        "- [ ] Result：(3d array): 15 x 3 x 5\n",
        "---\n",
        "- [ ] A：(3d array): 15 x 3 x 5   \n",
        "- [ ] B：(2d array): 3 x 5   \n",
        "- [ ] Result：(3d array): 15 x 3 x 5\n",
        "---\n",
        "- [ ] A：(3d array): 15 x 3 x 5  \n",
        "- [ ] B：(2d array): 3 x 1  \n",
        "- [ ] Result：(3d array): 15 x 3 x 5"
      ]
    },
    {
      "cell_type": "markdown",
      "metadata": {
        "id": "nyN6jZpPBrLV"
      },
      "source": [
        "一些反例（不滿足 Broadcasting 規則 ）："
      ]
    },
    {
      "cell_type": "markdown",
      "metadata": {
        "id": "d1QBjfSrBrLW"
      },
      "source": [
        "- [ ] A (1d array): 3    \n",
        "- [ ] B (1d array): 4   \n",
        "---\n",
        "- [ ] A (2d array): 2 x 1    \n",
        "- [ ] B (3d array): 8 x 4 x 3"
      ]
    },
    {
      "cell_type": "markdown",
      "metadata": {
        "id": "JraapAdaBrLW"
      },
      "source": [
        "# 5 范數"
      ]
    },
    {
      "cell_type": "markdown",
      "metadata": {
        "id": "A6YU3n3DBrLX"
      },
      "source": [
        "范數是泛函分析中的概念，指的是一種更寬泛的長度（距離）概念，只要滿足非負、自反、三角不等式就可以稱之為距離。向量$v$的$p$范數可以使用下面公式進行計算：\n",
        "$$|v|{|_p} = {\\left[ {\\sum\\limits_{k = 1}^N {|{v_k}|p} } \\right]^{1/p}}$$\n",
        "當$p = 1,2$時分別叫做1范數，2范數。除此以外，還有無窮范數：\n",
        "$$|v|{|_{ + \\infty }} = \\max (|v(i)|)$$\n",
        "$$|v|{|_{ - \\infty }} = \\min (|v(i)|)$$"
      ]
    },
    {
      "cell_type": "code",
      "metadata": {
        "id": "Isl6OIbMBrLX"
      },
      "source": [
        "import tensorflow as tf"
      ],
      "execution_count": null,
      "outputs": []
    },
    {
      "cell_type": "code",
      "metadata": {
        "id": "kFwSQf-cBrLZ"
      },
      "source": [
        "a = tf.constant([[1.,2.],[1.,2.]])"
      ],
      "execution_count": null,
      "outputs": []
    },
    {
      "cell_type": "code",
      "metadata": {
        "id": "z_3vLLZvBrLb",
        "outputId": "506d52be-253f-467a-d8d5-414efc9f48ad"
      },
      "source": [
        "tf.norm(a, ord=1)  # 1范數"
      ],
      "execution_count": null,
      "outputs": [
        {
          "output_type": "execute_result",
          "data": {
            "text/plain": [
              "<tf.Tensor: id=4, shape=(), dtype=float32, numpy=6.0>"
            ]
          },
          "metadata": {
            "tags": []
          },
          "execution_count": 3
        }
      ]
    },
    {
      "cell_type": "code",
      "metadata": {
        "id": "qEcoYUu6BrLe",
        "outputId": "cabe292c-18cc-47bd-b9f8-1bd4108d485f"
      },
      "source": [
        "tf.norm(a, ord=2)  # 2范數"
      ],
      "execution_count": null,
      "outputs": [
        {
          "output_type": "execute_result",
          "data": {
            "text/plain": [
              "<tf.Tensor: id=10, shape=(), dtype=float32, numpy=3.1622777>"
            ]
          },
          "metadata": {
            "tags": []
          },
          "execution_count": 4
        }
      ]
    },
    {
      "cell_type": "code",
      "metadata": {
        "id": "7eU5YHg7BrLg",
        "outputId": "dfdaa9a7-299f-4bb4-cde8-d78067492e5b"
      },
      "source": [
        "tf.norm(a)  # ord不指定時，默認是2"
      ],
      "execution_count": null,
      "outputs": [
        {
          "output_type": "execute_result",
          "data": {
            "text/plain": [
              "<tf.Tensor: id=16, shape=(), dtype=float32, numpy=3.1622777>"
            ]
          },
          "metadata": {
            "tags": []
          },
          "execution_count": 5
        }
      ]
    },
    {
      "cell_type": "markdown",
      "metadata": {
        "id": "PfYhepo5BrLk"
      },
      "source": [
        "我們也可以全手動地實現范數："
      ]
    },
    {
      "cell_type": "code",
      "metadata": {
        "id": "3Rv30O1eBrLk",
        "outputId": "7b65a31d-6e72-4c8b-b4cb-cf31138277e0"
      },
      "source": [
        "tf.sqrt(tf.reduce_sum(tf.square(a)))"
      ],
      "execution_count": null,
      "outputs": [
        {
          "output_type": "execute_result",
          "data": {
            "text/plain": [
              "<tf.Tensor: id=21, shape=(), dtype=float32, numpy=3.1622777>"
            ]
          },
          "metadata": {
            "tags": []
          },
          "execution_count": 6
        }
      ]
    },
    {
      "cell_type": "markdown",
      "metadata": {
        "id": "Lseq7zPxBrLn"
      },
      "source": [
        "指定維度求范數："
      ]
    },
    {
      "cell_type": "code",
      "metadata": {
        "id": "VV511x4VBrLq",
        "outputId": "15412a6a-9074-4f06-c0bb-818eee074026"
      },
      "source": [
        "tf.norm(a, ord=2, axis=0)"
      ],
      "execution_count": null,
      "outputs": [
        {
          "output_type": "execute_result",
          "data": {
            "text/plain": [
              "<tf.Tensor: id=27, shape=(2,), dtype=float32, numpy=array([1.4142135, 2.828427 ], dtype=float32)>"
            ]
          },
          "metadata": {
            "tags": []
          },
          "execution_count": 7
        }
      ]
    },
    {
      "cell_type": "code",
      "metadata": {
        "id": "xJpg62DvBrLs",
        "outputId": "59a659ef-4c88-4311-d6f2-34c772eee79c"
      },
      "source": [
        "tf.norm(a, ord=2, axis=1)"
      ],
      "execution_count": null,
      "outputs": [
        {
          "output_type": "execute_result",
          "data": {
            "text/plain": [
              "<tf.Tensor: id=33, shape=(2,), dtype=float32, numpy=array([2.236068, 2.236068], dtype=float32)>"
            ]
          },
          "metadata": {
            "tags": []
          },
          "execution_count": 8
        }
      ]
    },
    {
      "cell_type": "markdown",
      "metadata": {
        "id": "o2LhJdNoBrLu"
      },
      "source": [
        "# 參考"
      ]
    },
    {
      "cell_type": "markdown",
      "metadata": {
        "id": "a9Nn3JYpBrLu"
      },
      "source": [
        "[https://lufficc.com/blog/tensorflow-and-numpy-broadcasting](https://note.youdao.com/)"
      ]
    }
  ]
}