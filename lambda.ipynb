{
  "nbformat": 4,
  "nbformat_minor": 0,
  "metadata": {
    "colab": {
      "name": "lambda.ipynb",
      "provenance": [],
      "authorship_tag": "ABX9TyO1HZHH/6hP8S0kviRbaTYN",
      "include_colab_link": true
    },
    "kernelspec": {
      "name": "python3",
      "display_name": "Python 3"
    }
  },
  "cells": [
    {
      "cell_type": "markdown",
      "metadata": {
        "id": "view-in-github",
        "colab_type": "text"
      },
      "source": [
        "<a href=\"https://colab.research.google.com/github/VHDRKL/1031/blob/main/lambda.ipynb\" target=\"_parent\"><img src=\"https://colab.research.google.com/assets/colab-badge.svg\" alt=\"Open In Colab\"/></a>"
      ]
    },
    {
      "cell_type": "markdown",
      "metadata": {
        "id": "axQSNxOPFkL4"
      },
      "source": [
        "def add(x,y)\n",
        " return x+y\n",
        " c=add(2,3)"
      ]
    },
    {
      "cell_type": "code",
      "metadata": {
        "id": "7g4JheW1FPTz",
        "outputId": "3625aba9-c236-4b09-dedc-064a2bd73e80",
        "colab": {
          "base_uri": "https://localhost:8080/"
        }
      },
      "source": [
        "f=lambda x,y: x+y\n",
        "c=f(2,3)\n",
        "(lambda x,y: x+y)(2,3)\n",
        "title=\"hello\"\n",
        "f=lambda name: print(title,name)\n",
        "f('jjjk')\n"
      ],
      "execution_count": 2,
      "outputs": [
        {
          "output_type": "stream",
          "text": [
            "hello jjjk\n"
          ],
          "name": "stdout"
        }
      ]
    },
    {
      "cell_type": "code",
      "metadata": {
        "id": "7MlYvV_XGspR",
        "outputId": "851b611d-31e3-4f58-b41a-586fdc7c641d",
        "colab": {
          "base_uri": "https://localhost:8080/"
        }
      },
      "source": [
        "a=lambda x: x**5+2\n",
        "print(a, a(2), a(12) )\n",
        "start = 5\n",
        "f = lambda stop =10: [i for i in range(start, stop) ]\n",
        "f()"
      ],
      "execution_count": 3,
      "outputs": [
        {
          "output_type": "stream",
          "text": [
            "<function <lambda> at 0x7f3223887d08> 34 248834\n"
          ],
          "name": "stdout"
        },
        {
          "output_type": "execute_result",
          "data": {
            "text/plain": [
              "[5, 6, 7, 8, 9]"
            ]
          },
          "metadata": {
            "tags": []
          },
          "execution_count": 3
        }
      ]
    },
    {
      "cell_type": "code",
      "metadata": {
        "id": "9cLu-_IXINIn",
        "outputId": "5cb5473b-2d9f-476a-d286-008547717938",
        "colab": {
          "base_uri": "https://localhost:8080/"
        }
      },
      "source": [
        "def b(n):\n",
        "  return lambda x: x+n\n",
        "\n",
        "c=b(5)\n",
        "c(0)"
      ],
      "execution_count": 10,
      "outputs": [
        {
          "output_type": "execute_result",
          "data": {
            "text/plain": [
              "5"
            ]
          },
          "metadata": {
            "tags": []
          },
          "execution_count": 10
        }
      ]
    },
    {
      "cell_type": "code",
      "metadata": {
        "id": "GwrwAV-KIvvf",
        "outputId": "6df99d0e-5fa1-42f2-f79e-1fad6b6ab89e",
        "colab": {
          "base_uri": "https://localhost:8080/"
        }
      },
      "source": [
        "f= lambda x: x+2 if x>0 else x-2\n",
        "f(-6)\n"
      ],
      "execution_count": 15,
      "outputs": [
        {
          "output_type": "execute_result",
          "data": {
            "text/plain": [
              "-8"
            ]
          },
          "metadata": {
            "tags": []
          },
          "execution_count": 15
        }
      ]
    },
    {
      "cell_type": "code",
      "metadata": {
        "id": "zo3e7tBcJd1q",
        "outputId": "541a8b3d-f6df-48c8-98b1-9c6905afb84c",
        "colab": {
          "base_uri": "https://localhost:8080/"
        }
      },
      "source": [
        "f=lambda x :True if x>=60 else False\n",
        "scores=[10, 60, 100, 80, 70]\n",
        "result=filter(f, scores) \n",
        "a = [v for v in result]\n",
        "print(a)\n"
      ],
      "execution_count": 33,
      "outputs": [
        {
          "output_type": "stream",
          "text": [
            "[60, 100, 80, 70]\n"
          ],
          "name": "stdout"
        }
      ]
    },
    {
      "cell_type": "code",
      "metadata": {
        "id": "NJJJT77yK33Q"
      },
      "source": [
        "scores=[10, 60, 100, 80, 70]\n",
        "fail_score=filter(c x : True if x<60 else False,scores)\n",
        "a = [v for v in fail_score]\n",
        "f=lambda x :60 if x<60 else x \n",
        "new_scores = map(f , scores )\n",
        "a= [v for v in fail_score]"
      ],
      "execution_count": 34,
      "outputs": []
    },
    {
      "cell_type": "code",
      "metadata": {
        "id": "0Rfhu8a_MWpB",
        "outputId": "28dc3e47-eec4-4720-820f-1acd55757cd6",
        "colab": {
          "base_uri": "https://localhost:8080/"
        }
      },
      "source": [
        "numbers=[50, 2, 12, 30, 27, 4]\n",
        "f= lambda x, y: x+y\n",
        "from functools import reduce\n",
        "reduce(f, numbers)\n"
      ],
      "execution_count": 36,
      "outputs": [
        {
          "output_type": "execute_result",
          "data": {
            "text/plain": [
              "125"
            ]
          },
          "metadata": {
            "tags": []
          },
          "execution_count": 36
        }
      ]
    },
    {
      "cell_type": "code",
      "metadata": {
        "id": "Blwqzt72M4kX",
        "outputId": "54a76225-68ce-4192-ea1c-8c07664f9253",
        "colab": {
          "base_uri": "https://localhost:8080/"
        }
      },
      "source": [
        "cars=[('mazda' , 2000),\n",
        "    ('toyota' , 1000),\n",
        "    ('benz' , 5000)]\n",
        "type(cars)"
      ],
      "execution_count": 43,
      "outputs": [
        {
          "output_type": "execute_result",
          "data": {
            "text/plain": [
              "list"
            ]
          },
          "metadata": {
            "tags": []
          },
          "execution_count": 43
        }
      ]
    }
  ]
}