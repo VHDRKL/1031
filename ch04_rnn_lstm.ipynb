{
  "nbformat": 4,
  "nbformat_minor": 0,
  "metadata": {
    "colab": {
      "name": "ch04_rnn_lstm.ipynb",
      "provenance": [],
      "collapsed_sections": [],
      "include_colab_link": true
    },
    "kernelspec": {
      "display_name": "Python 3",
      "name": "python3"
    }
  },
  "cells": [
    {
      "cell_type": "markdown",
      "metadata": {
        "id": "view-in-github",
        "colab_type": "text"
      },
      "source": [
        "<a href=\"https://colab.research.google.com/github/VHDRKL/1031/blob/main/ch04_rnn_lstm.ipynb\" target=\"_parent\"><img src=\"https://colab.research.google.com/assets/colab-badge.svg\" alt=\"Open In Colab\"/></a>"
      ]
    },
    {
      "cell_type": "code",
      "metadata": {
        "id": "5Ps1YnaukxJ9",
        "outputId": "054518d7-a826-4e81-9616-f0bc71856643",
        "colab": {
          "resources": {
            "http://localhost:8080/nbextensions/google.colab/files.js": {
              "data": "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",
              "ok": true,
              "headers": [
                [
                  "content-type",
                  "application/javascript"
                ]
              ],
              "status": 200,
              "status_text": ""
            }
          },
          "base_uri": "https://localhost:8080/",
          "height": 371
        }
      },
      "source": [
        "from google.colab import files\n",
        "files.upload()"
      ],
      "execution_count": null,
      "outputs": [
        {
          "output_type": "display_data",
          "data": {
            "text/html": [
              "\n",
              "     <input type=\"file\" id=\"files-409f66a0-b170-427a-a976-67138f81cc50\" name=\"files[]\" multiple disabled\n",
              "        style=\"border:none\" />\n",
              "     <output id=\"result-409f66a0-b170-427a-a976-67138f81cc50\">\n",
              "      Upload widget is only available when the cell has been executed in the\n",
              "      current browser session. Please rerun this cell to enable.\n",
              "      </output>\n",
              "      <script src=\"/nbextensions/google.colab/files.js\"></script> "
            ],
            "text/plain": [
              "<IPython.core.display.HTML object>"
            ]
          },
          "metadata": {
            "tags": []
          }
        },
        {
          "output_type": "error",
          "ename": "KeyboardInterrupt",
          "evalue": "ignored",
          "traceback": [
            "\u001b[0;31m---------------------------------------------------------------------------\u001b[0m",
            "\u001b[0;31mKeyboardInterrupt\u001b[0m                         Traceback (most recent call last)",
            "\u001b[0;32m<ipython-input-4-5c2e8a8d365b>\u001b[0m in \u001b[0;36m<module>\u001b[0;34m()\u001b[0m\n\u001b[1;32m      1\u001b[0m \u001b[0;32mfrom\u001b[0m \u001b[0mgoogle\u001b[0m\u001b[0;34m.\u001b[0m\u001b[0mcolab\u001b[0m \u001b[0;32mimport\u001b[0m \u001b[0mfiles\u001b[0m\u001b[0;34m\u001b[0m\u001b[0;34m\u001b[0m\u001b[0m\n\u001b[0;32m----> 2\u001b[0;31m \u001b[0mfiles\u001b[0m\u001b[0;34m.\u001b[0m\u001b[0mupload\u001b[0m\u001b[0;34m(\u001b[0m\u001b[0;34m)\u001b[0m\u001b[0;34m\u001b[0m\u001b[0;34m\u001b[0m\u001b[0m\n\u001b[0m",
            "\u001b[0;32m/usr/local/lib/python3.6/dist-packages/google/colab/files.py\u001b[0m in \u001b[0;36mupload\u001b[0;34m()\u001b[0m\n\u001b[1;32m     62\u001b[0m   result = _output.eval_js(\n\u001b[1;32m     63\u001b[0m       'google.colab._files._uploadFiles(\"{input_id}\", \"{output_id}\")'.format(\n\u001b[0;32m---> 64\u001b[0;31m           input_id=input_id, output_id=output_id))\n\u001b[0m\u001b[1;32m     65\u001b[0m   \u001b[0mfiles\u001b[0m \u001b[0;34m=\u001b[0m \u001b[0m_collections\u001b[0m\u001b[0;34m.\u001b[0m\u001b[0mdefaultdict\u001b[0m\u001b[0;34m(\u001b[0m\u001b[0m_six\u001b[0m\u001b[0;34m.\u001b[0m\u001b[0mbinary_type\u001b[0m\u001b[0;34m)\u001b[0m\u001b[0;34m\u001b[0m\u001b[0;34m\u001b[0m\u001b[0m\n\u001b[1;32m     66\u001b[0m   \u001b[0;31m# Mapping from original filename to filename as saved locally.\u001b[0m\u001b[0;34m\u001b[0m\u001b[0;34m\u001b[0m\u001b[0;34m\u001b[0m\u001b[0m\n",
            "\u001b[0;32m/usr/local/lib/python3.6/dist-packages/google/colab/output/_js.py\u001b[0m in \u001b[0;36meval_js\u001b[0;34m(script, ignore_result)\u001b[0m\n\u001b[1;32m     37\u001b[0m   \u001b[0;32mif\u001b[0m \u001b[0mignore_result\u001b[0m\u001b[0;34m:\u001b[0m\u001b[0;34m\u001b[0m\u001b[0;34m\u001b[0m\u001b[0m\n\u001b[1;32m     38\u001b[0m     \u001b[0;32mreturn\u001b[0m\u001b[0;34m\u001b[0m\u001b[0;34m\u001b[0m\u001b[0m\n\u001b[0;32m---> 39\u001b[0;31m   \u001b[0;32mreturn\u001b[0m \u001b[0m_message\u001b[0m\u001b[0;34m.\u001b[0m\u001b[0mread_reply_from_input\u001b[0m\u001b[0;34m(\u001b[0m\u001b[0mrequest_id\u001b[0m\u001b[0;34m)\u001b[0m\u001b[0;34m\u001b[0m\u001b[0;34m\u001b[0m\u001b[0m\n\u001b[0m\u001b[1;32m     40\u001b[0m \u001b[0;34m\u001b[0m\u001b[0m\n\u001b[1;32m     41\u001b[0m \u001b[0;34m\u001b[0m\u001b[0m\n",
            "\u001b[0;32m/usr/local/lib/python3.6/dist-packages/google/colab/_message.py\u001b[0m in \u001b[0;36mread_reply_from_input\u001b[0;34m(message_id, timeout_sec)\u001b[0m\n\u001b[1;32m     99\u001b[0m     \u001b[0mreply\u001b[0m \u001b[0;34m=\u001b[0m \u001b[0m_read_next_input_message\u001b[0m\u001b[0;34m(\u001b[0m\u001b[0;34m)\u001b[0m\u001b[0;34m\u001b[0m\u001b[0;34m\u001b[0m\u001b[0m\n\u001b[1;32m    100\u001b[0m     \u001b[0;32mif\u001b[0m \u001b[0mreply\u001b[0m \u001b[0;34m==\u001b[0m \u001b[0m_NOT_READY\u001b[0m \u001b[0;32mor\u001b[0m \u001b[0;32mnot\u001b[0m \u001b[0misinstance\u001b[0m\u001b[0;34m(\u001b[0m\u001b[0mreply\u001b[0m\u001b[0;34m,\u001b[0m \u001b[0mdict\u001b[0m\u001b[0;34m)\u001b[0m\u001b[0;34m:\u001b[0m\u001b[0;34m\u001b[0m\u001b[0;34m\u001b[0m\u001b[0m\n\u001b[0;32m--> 101\u001b[0;31m       \u001b[0mtime\u001b[0m\u001b[0;34m.\u001b[0m\u001b[0msleep\u001b[0m\u001b[0;34m(\u001b[0m\u001b[0;36m0.025\u001b[0m\u001b[0;34m)\u001b[0m\u001b[0;34m\u001b[0m\u001b[0;34m\u001b[0m\u001b[0m\n\u001b[0m\u001b[1;32m    102\u001b[0m       \u001b[0;32mcontinue\u001b[0m\u001b[0;34m\u001b[0m\u001b[0;34m\u001b[0m\u001b[0m\n\u001b[1;32m    103\u001b[0m     if (reply.get('type') == 'colab_reply' and\n",
            "\u001b[0;31mKeyboardInterrupt\u001b[0m: "
          ]
        }
      ]
    },
    {
      "cell_type": "code",
      "metadata": {
        "id": "to8f_Iz6l4e4",
        "outputId": "3b2a1ff5-17da-441a-e2b6-87dcacad3aeb",
        "colab": {
          "base_uri": "https://localhost:8080/"
        }
      },
      "source": [
        "#unlix\n",
        "!unzip abc.zip\n",
        "#!rm TY*.csv"
      ],
      "execution_count": null,
      "outputs": [
        {
          "output_type": "stream",
          "text": [
            "Archive:  abc.zip\n",
            "  inflating: TY_climate_2015_2018.csv  \n"
          ],
          "name": "stdout"
        }
      ]
    },
    {
      "cell_type": "code",
      "metadata": {
        "id": "6_q3S7B6lL2B"
      },
      "source": [
        "f=open('TY_climate_2015_2018.csv', encoding = 'cp950')\n",
        "data=f.read()\n",
        "f.close()\n",
        "\n",
        "lines=data.split('\\n')\n",
        "len(lines)  #196857\n",
        "len(lines[0]) #98\n",
        "len(lines[1]) #109\n",
        "len(lines[196856])#113\n",
        "header=lines[0].split(',')\n",
        "del lines[0]  #←刪除項目名稱\n",
        "len(lines) #196856\n",
        "len(header) #20\n",
        "\n",
        "raw_data=[]\n",
        "for i, line in enumerate(lines):\n",
        "  value=float( line.split(',')[8] )\n",
        "  raw_data.append([value])"
      ],
      "execution_count": null,
      "outputs": []
    },
    {
      "cell_type": "code",
      "metadata": {
        "id": "D-juYJnUwmbU",
        "outputId": "defc1c23-2ba3-4339-aa35-8b67896469f1",
        "colab": {
          "base_uri": "https://localhost:8080/",
          "height": 283
        }
      },
      "source": [
        "import numpy as np\n",
        "import matplotlib.pyplot as plt\n",
        "mean = raw_data[:100000].mean()\n",
        "raw_data -= mean\n",
        "std=raw_data[:100000].std()\n",
        "raw_data /= std\n",
        "plt.plot(raw_data)\n"
      ],
      "execution_count": null,
      "outputs": [
        {
          "output_type": "execute_result",
          "data": {
            "text/plain": [
              "[<matplotlib.lines.Line2D at 0x7f5e8a101b00>]"
            ]
          },
          "metadata": {
            "tags": []
          },
          "execution_count": 43
        },
        {
          "output_type": "display_data",
          "data": {
            "image/png": "[encoded data removed]",
            "text/plain": [
              "<Figure size 432x288 with 1 Axes>"
            ]
          },
          "metadata": {
            "tags": [],
            "needs_background": "light"
          }
        }
      ]
    },
    {
      "cell_type": "code",
      "metadata": {
        "id": "xDTtcvWLqCLL",
        "outputId": "44d23c85-ead8-4081-e7ed-c04b80fdeacf",
        "colab": {
          "base_uri": "https://localhost:8080/"
        }
      },
      "source": [
        "delay = 72  #←要取未來的第72筆資料 (6*12)\n",
        "data = raw_data[:-(delay-1)]   #←使用容器切片的技巧截掉後71筆資料, 作為訓練資料\n",
        "target = raw_data[(delay-1):]   #←截掉前71筆資料, 作為目標資料\n",
        "data.shape, target.shape"
      ],
      "execution_count": null,
      "outputs": [
        {
          "output_type": "execute_result",
          "data": {
            "text/plain": [
              "((196785, 1), (196785, 1))"
            ]
          },
          "metadata": {
            "tags": []
          },
          "execution_count": 44
        }
      ]
    },
    {
      "cell_type": "code",
      "metadata": {
        "id": "fk-krQcro4Ol",
        "outputId": "a1d4602c-beb3-41f2-a2e3-6a79508f9bf0",
        "colab": {
          "base_uri": "https://localhost:8080/",
          "height": 283
        }
      },
      "source": [
        "import numpy as np\n",
        "import matplotlib.pyplot as plt\n",
        "\n",
        "\n",
        "\n",
        "\n",
        "\n",
        "delay = 72  #←要取未來的第72筆資料 (6*12)\n",
        "data = raw_data[:-(delay-1)]   #←使用容器切片的技巧截掉後71筆資料, 作為訓練資料\n",
        "target = raw_data[(delay-1):]   #←截掉前71筆資料, 作為目標資料\n",
        "\n",
        "raw_data=np.array(raw_data)\n",
        "raw_data.shape  #(196856, 1)\n",
        "plt.plot(raw_data)"
      ],
      "execution_count": null,
      "outputs": [
        {
          "output_type": "execute_result",
          "data": {
            "text/plain": [
              "[<matplotlib.lines.Line2D at 0x7f5e8a0686d8>]"
            ]
          },
          "metadata": {
            "tags": []
          },
          "execution_count": 45
        },
        {
          "output_type": "display_data",
          "data": {
            "image/png": "[encoded data removed]",
            "text/plain": [
              "<Figure size 432x288 with 1 Axes>"
            ]
          },
          "metadata": {
            "tags": [],
            "needs_background": "light"
          }
        }
      ]
    },
    {
      "cell_type": "markdown",
      "metadata": {
        "id": "dijCse6yqiJZ"
      },
      "source": [
        ""
      ]
    },
    {
      "cell_type": "code",
      "metadata": {
        "id": "Aqil7H5-pDGh"
      },
      "source": [
        "import tensorflow as tf\n",
        "\n",
        "\n",
        "\n",
        "train_gen=tf.keras.preprocessing.sequence.TimeseriesGenerator(\n",
        "    data,\n",
        "    target,\n",
        "    length=36,\n",
        "    sampling_rate=3,\n",
        "    stride=36,  \n",
        "  start_index=0,\n",
        "  end_index=100000,\n",
        "  batch_size=32\n",
        ")\n",
        "val_gen=tf.keras.preprocessing.sequence.TimeseriesGenerator(\n",
        "    data,\n",
        "    target,\n",
        "    length=36,\n",
        "    sampling_rate=3,\n",
        "    stride=36,  \n",
        "  start_index=100001,\n",
        "  end_index=130000,\n",
        "  batch_size=32\n",
        ")\n",
        "test_gen=tf.keras.preprocessing.sequence.TimeseriesGenerator(\n",
        "    data,\n",
        "    target,\n",
        "    length=36,\n",
        "    sampling_rate=3,\n",
        "    stride=36,  \n",
        "  start_index=130001,\n",
        "  end_index=None,\n",
        "  batch_size=32\n",
        ")\n"
      ],
      "execution_count": null,
      "outputs": []
    },
    {
      "cell_type": "code",
      "metadata": {
        "id": "3fPixKZFq40b",
        "outputId": "64c7b596-0206-48ef-ccc4-f277f722cce3",
        "colab": {
          "base_uri": "https://localhost:8080/"
        }
      },
      "source": [
        "print(train_gen[0][0].shape) #(32, 12, 1)   \n",
        "print(train_gen[1][0].shape) #(32, 12, 1)\n"
      ],
      "execution_count": null,
      "outputs": [
        {
          "output_type": "stream",
          "text": [
            "(32, 12, 1)\n",
            "(32, 12, 1)\n"
          ],
          "name": "stdout"
        }
      ]
    },
    {
      "cell_type": "code",
      "metadata": {
        "id": "iB59Fc6osFZE"
      },
      "source": [
        "model=tf.keras.models.Sequential()\n",
        "f1=tf.keras.layers.Flatten(input_shape=(12,1)) \n",
        "f2=tf.keras.layers.Dense(10, activation='relu')\n",
        "f3=tf.keras.layers.Dense(10, activation='relu')\n",
        "f4=tf.keras.layers.Dense(1)\n",
        "model.add(f1)\n",
        "model.add(f2)\n",
        "model.add(f3)\n",
        "model.add(f4)\n",
        "model.summary()"
      ],
      "execution_count": null,
      "outputs": []
    },
    {
      "cell_type": "code",
      "metadata": {
        "id": "-YWOSrfFtETF",
        "outputId": "598ff4b9-2efc-40f3-eb1f-eca78f511c01",
        "colab": {
          "base_uri": "https://localhost:8080/"
        }
      },
      "source": [
        "model.compile(optimizer='rmsprop', loss='mse', metrics=['mae'])\n",
        "history=model.fit(train_gen, validation_data=val_gen, epochs=100)"
      ],
      "execution_count": null,
      "outputs": [
        {
          "output_type": "stream",
          "text": [
            "Epoch 1/100\n",
            "87/87 [==============================] - 0s 3ms/step - loss: 2.8383 - mae: 1.5182 - val_loss: 1.4141 - val_mae: 1.0168\n",
            "Epoch 2/100\n",
            "87/87 [==============================] - 0s 2ms/step - loss: 0.9062 - mae: 0.7800 - val_loss: 0.5409 - val_mae: 0.5704\n",
            "Epoch 3/100\n",
            "87/87 [==============================] - 0s 2ms/step - loss: 0.4061 - mae: 0.4984 - val_loss: 0.3952 - val_mae: 0.4897\n",
            "Epoch 4/100\n",
            "87/87 [==============================] - 0s 2ms/step - loss: 0.3200 - mae: 0.4426 - val_loss: 0.3729 - val_mae: 0.4760\n",
            "Epoch 5/100\n",
            "87/87 [==============================] - 0s 2ms/step - loss: 0.2845 - mae: 0.4173 - val_loss: 0.3370 - val_mae: 0.4567\n",
            "Epoch 6/100\n",
            "87/87 [==============================] - 0s 2ms/step - loss: 0.2668 - mae: 0.4038 - val_loss: 0.3273 - val_mae: 0.4483\n",
            "Epoch 7/100\n",
            "87/87 [==============================] - 0s 2ms/step - loss: 0.2570 - mae: 0.3997 - val_loss: 0.3080 - val_mae: 0.4362\n",
            "Epoch 8/100\n",
            "87/87 [==============================] - 0s 2ms/step - loss: 0.2499 - mae: 0.3943 - val_loss: 0.3039 - val_mae: 0.4271\n",
            "Epoch 9/100\n",
            "87/87 [==============================] - 0s 2ms/step - loss: 0.2475 - mae: 0.3925 - val_loss: 0.3005 - val_mae: 0.4251\n",
            "Epoch 10/100\n",
            "87/87 [==============================] - 0s 2ms/step - loss: 0.2435 - mae: 0.3896 - val_loss: 0.3057 - val_mae: 0.4294\n",
            "Epoch 11/100\n",
            "87/87 [==============================] - 0s 2ms/step - loss: 0.2393 - mae: 0.3852 - val_loss: 0.3112 - val_mae: 0.4528\n",
            "Epoch 12/100\n",
            "87/87 [==============================] - 0s 2ms/step - loss: 0.2441 - mae: 0.3920 - val_loss: 0.2881 - val_mae: 0.4213\n",
            "Epoch 13/100\n",
            "87/87 [==============================] - 0s 2ms/step - loss: 0.2380 - mae: 0.3854 - val_loss: 0.2958 - val_mae: 0.4265\n",
            "Epoch 14/100\n",
            "87/87 [==============================] - 0s 2ms/step - loss: 0.2370 - mae: 0.3844 - val_loss: 0.2927 - val_mae: 0.4296\n",
            "Epoch 15/100\n",
            "87/87 [==============================] - 0s 2ms/step - loss: 0.2381 - mae: 0.3866 - val_loss: 0.2881 - val_mae: 0.4204\n",
            "Epoch 16/100\n",
            "87/87 [==============================] - 0s 2ms/step - loss: 0.2337 - mae: 0.3821 - val_loss: 0.2921 - val_mae: 0.4217\n",
            "Epoch 17/100\n",
            "87/87 [==============================] - 0s 2ms/step - loss: 0.2325 - mae: 0.3806 - val_loss: 0.2823 - val_mae: 0.4168\n",
            "Epoch 18/100\n",
            "87/87 [==============================] - 0s 2ms/step - loss: 0.2332 - mae: 0.3824 - val_loss: 0.2816 - val_mae: 0.4159\n",
            "Epoch 19/100\n",
            "87/87 [==============================] - 0s 2ms/step - loss: 0.2314 - mae: 0.3808 - val_loss: 0.3121 - val_mae: 0.4403\n",
            "Epoch 20/100\n",
            "87/87 [==============================] - 0s 2ms/step - loss: 0.2310 - mae: 0.3799 - val_loss: 0.2880 - val_mae: 0.4197\n",
            "Epoch 21/100\n",
            "87/87 [==============================] - 0s 2ms/step - loss: 0.2289 - mae: 0.3765 - val_loss: 0.2968 - val_mae: 0.4326\n",
            "Epoch 22/100\n",
            "87/87 [==============================] - 0s 2ms/step - loss: 0.2297 - mae: 0.3770 - val_loss: 0.2908 - val_mae: 0.4237\n",
            "Epoch 23/100\n",
            "87/87 [==============================] - 0s 2ms/step - loss: 0.2278 - mae: 0.3748 - val_loss: 0.2828 - val_mae: 0.4150\n",
            "Epoch 24/100\n",
            "87/87 [==============================] - 0s 2ms/step - loss: 0.2275 - mae: 0.3754 - val_loss: 0.2814 - val_mae: 0.4139\n",
            "Epoch 25/100\n",
            "87/87 [==============================] - 0s 2ms/step - loss: 0.2258 - mae: 0.3736 - val_loss: 0.2920 - val_mae: 0.4238\n",
            "Epoch 26/100\n",
            "87/87 [==============================] - 0s 2ms/step - loss: 0.2252 - mae: 0.3722 - val_loss: 0.2775 - val_mae: 0.4162\n",
            "Epoch 27/100\n",
            "87/87 [==============================] - 0s 2ms/step - loss: 0.2256 - mae: 0.3735 - val_loss: 0.2775 - val_mae: 0.4113\n",
            "Epoch 28/100\n",
            "87/87 [==============================] - 0s 2ms/step - loss: 0.2253 - mae: 0.3732 - val_loss: 0.2830 - val_mae: 0.4188\n",
            "Epoch 29/100\n",
            "87/87 [==============================] - 0s 2ms/step - loss: 0.2252 - mae: 0.3735 - val_loss: 0.2854 - val_mae: 0.4170\n",
            "Epoch 30/100\n",
            "87/87 [==============================] - 0s 2ms/step - loss: 0.2223 - mae: 0.3696 - val_loss: 0.2952 - val_mae: 0.4285\n",
            "Epoch 31/100\n",
            "87/87 [==============================] - 0s 2ms/step - loss: 0.2239 - mae: 0.3714 - val_loss: 0.2840 - val_mae: 0.4169\n",
            "Epoch 32/100\n",
            "87/87 [==============================] - 0s 2ms/step - loss: 0.2223 - mae: 0.3701 - val_loss: 0.2766 - val_mae: 0.4082\n",
            "Epoch 33/100\n",
            "87/87 [==============================] - 0s 2ms/step - loss: 0.2217 - mae: 0.3698 - val_loss: 0.2863 - val_mae: 0.4241\n",
            "Epoch 34/100\n",
            "87/87 [==============================] - 0s 2ms/step - loss: 0.2218 - mae: 0.3704 - val_loss: 0.2762 - val_mae: 0.4108\n",
            "Epoch 35/100\n",
            "87/87 [==============================] - 0s 2ms/step - loss: 0.2198 - mae: 0.3674 - val_loss: 0.3052 - val_mae: 0.4433\n",
            "Epoch 36/100\n",
            "87/87 [==============================] - 0s 2ms/step - loss: 0.2194 - mae: 0.3678 - val_loss: 0.2885 - val_mae: 0.4207\n",
            "Epoch 37/100\n",
            "87/87 [==============================] - 0s 2ms/step - loss: 0.2212 - mae: 0.3686 - val_loss: 0.2860 - val_mae: 0.4167\n",
            "Epoch 38/100\n",
            "87/87 [==============================] - 0s 2ms/step - loss: 0.2189 - mae: 0.3673 - val_loss: 0.2781 - val_mae: 0.4074\n",
            "Epoch 39/100\n",
            "87/87 [==============================] - 0s 2ms/step - loss: 0.2192 - mae: 0.3683 - val_loss: 0.3050 - val_mae: 0.4348\n",
            "Epoch 40/100\n",
            "87/87 [==============================] - 0s 2ms/step - loss: 0.2198 - mae: 0.3664 - val_loss: 0.2861 - val_mae: 0.4204\n",
            "Epoch 41/100\n",
            "87/87 [==============================] - 0s 2ms/step - loss: 0.2182 - mae: 0.3663 - val_loss: 0.2875 - val_mae: 0.4214\n",
            "Epoch 42/100\n",
            "87/87 [==============================] - 0s 2ms/step - loss: 0.2177 - mae: 0.3659 - val_loss: 0.2776 - val_mae: 0.4110\n",
            "Epoch 43/100\n",
            "87/87 [==============================] - 0s 2ms/step - loss: 0.2179 - mae: 0.3657 - val_loss: 0.2909 - val_mae: 0.4241\n",
            "Epoch 44/100\n",
            "87/87 [==============================] - 0s 2ms/step - loss: 0.2183 - mae: 0.3665 - val_loss: 0.2779 - val_mae: 0.4122\n",
            "Epoch 45/100\n",
            "87/87 [==============================] - 0s 2ms/step - loss: 0.2157 - mae: 0.3621 - val_loss: 0.2801 - val_mae: 0.4188\n",
            "Epoch 46/100\n",
            "87/87 [==============================] - 0s 2ms/step - loss: 0.2172 - mae: 0.3659 - val_loss: 0.2826 - val_mae: 0.4164\n",
            "Epoch 47/100\n",
            "87/87 [==============================] - 0s 2ms/step - loss: 0.2155 - mae: 0.3622 - val_loss: 0.2857 - val_mae: 0.4177\n",
            "Epoch 48/100\n",
            "87/87 [==============================] - 0s 2ms/step - loss: 0.2159 - mae: 0.3641 - val_loss: 0.2847 - val_mae: 0.4146\n",
            "Epoch 49/100\n",
            "87/87 [==============================] - 0s 2ms/step - loss: 0.2148 - mae: 0.3613 - val_loss: 0.2784 - val_mae: 0.4176\n",
            "Epoch 50/100\n",
            "87/87 [==============================] - 0s 2ms/step - loss: 0.2142 - mae: 0.3609 - val_loss: 0.2824 - val_mae: 0.4137\n",
            "Epoch 51/100\n",
            "87/87 [==============================] - 0s 2ms/step - loss: 0.2146 - mae: 0.3617 - val_loss: 0.2868 - val_mae: 0.4156\n",
            "Epoch 52/100\n",
            "87/87 [==============================] - 0s 2ms/step - loss: 0.2143 - mae: 0.3611 - val_loss: 0.2819 - val_mae: 0.4196\n",
            "Epoch 53/100\n",
            "87/87 [==============================] - 0s 2ms/step - loss: 0.2136 - mae: 0.3602 - val_loss: 0.2744 - val_mae: 0.4140\n",
            "Epoch 54/100\n",
            "87/87 [==============================] - 0s 2ms/step - loss: 0.2154 - mae: 0.3625 - val_loss: 0.2776 - val_mae: 0.4115\n",
            "Epoch 55/100\n",
            "87/87 [==============================] - 0s 2ms/step - loss: 0.2144 - mae: 0.3610 - val_loss: 0.2771 - val_mae: 0.4110\n",
            "Epoch 56/100\n",
            "87/87 [==============================] - 0s 2ms/step - loss: 0.2136 - mae: 0.3595 - val_loss: 0.2749 - val_mae: 0.4064\n",
            "Epoch 57/100\n",
            "87/87 [==============================] - 0s 2ms/step - loss: 0.2140 - mae: 0.3603 - val_loss: 0.2775 - val_mae: 0.4085\n",
            "Epoch 58/100\n",
            "87/87 [==============================] - 0s 2ms/step - loss: 0.2135 - mae: 0.3601 - val_loss: 0.2751 - val_mae: 0.4088\n",
            "Epoch 59/100\n",
            "87/87 [==============================] - 0s 2ms/step - loss: 0.2129 - mae: 0.3588 - val_loss: 0.2801 - val_mae: 0.4179\n",
            "Epoch 60/100\n",
            "87/87 [==============================] - 0s 2ms/step - loss: 0.2136 - mae: 0.3615 - val_loss: 0.2808 - val_mae: 0.4111\n",
            "Epoch 61/100\n",
            "87/87 [==============================] - 0s 2ms/step - loss: 0.2129 - mae: 0.3588 - val_loss: 0.2767 - val_mae: 0.4147\n",
            "Epoch 62/100\n",
            "87/87 [==============================] - 0s 2ms/step - loss: 0.2123 - mae: 0.3600 - val_loss: 0.2773 - val_mae: 0.4092\n",
            "Epoch 63/100\n",
            "87/87 [==============================] - 0s 2ms/step - loss: 0.2093 - mae: 0.3568 - val_loss: 0.2907 - val_mae: 0.4286\n",
            "Epoch 64/100\n",
            "87/87 [==============================] - 0s 2ms/step - loss: 0.2125 - mae: 0.3579 - val_loss: 0.2707 - val_mae: 0.4041\n",
            "Epoch 65/100\n",
            "87/87 [==============================] - 0s 2ms/step - loss: 0.2098 - mae: 0.3569 - val_loss: 0.2664 - val_mae: 0.4004\n",
            "Epoch 66/100\n",
            "87/87 [==============================] - 0s 2ms/step - loss: 0.2097 - mae: 0.3555 - val_loss: 0.2714 - val_mae: 0.4026\n",
            "Epoch 67/100\n",
            "87/87 [==============================] - 0s 2ms/step - loss: 0.2101 - mae: 0.3568 - val_loss: 0.2757 - val_mae: 0.4109\n",
            "Epoch 68/100\n",
            "87/87 [==============================] - 0s 2ms/step - loss: 0.2079 - mae: 0.3540 - val_loss: 0.2830 - val_mae: 0.4140\n",
            "Epoch 69/100\n",
            "87/87 [==============================] - 0s 2ms/step - loss: 0.2082 - mae: 0.3549 - val_loss: 0.2733 - val_mae: 0.4068\n",
            "Epoch 70/100\n",
            "87/87 [==============================] - 0s 2ms/step - loss: 0.2078 - mae: 0.3543 - val_loss: 0.2729 - val_mae: 0.4070\n",
            "Epoch 71/100\n",
            "87/87 [==============================] - 0s 2ms/step - loss: 0.2067 - mae: 0.3522 - val_loss: 0.2789 - val_mae: 0.4107\n",
            "Epoch 72/100\n",
            "87/87 [==============================] - 0s 2ms/step - loss: 0.2052 - mae: 0.3510 - val_loss: 0.2886 - val_mae: 0.4190\n",
            "Epoch 73/100\n",
            "87/87 [==============================] - 0s 2ms/step - loss: 0.2053 - mae: 0.3505 - val_loss: 0.2630 - val_mae: 0.3968\n",
            "Epoch 74/100\n",
            "87/87 [==============================] - 0s 2ms/step - loss: 0.2035 - mae: 0.3485 - val_loss: 0.3060 - val_mae: 0.4385\n",
            "Epoch 75/100\n",
            "87/87 [==============================] - 0s 2ms/step - loss: 0.2032 - mae: 0.3486 - val_loss: 0.2804 - val_mae: 0.4089\n",
            "Epoch 76/100\n",
            "87/87 [==============================] - 0s 2ms/step - loss: 0.2028 - mae: 0.3482 - val_loss: 0.2806 - val_mae: 0.4117\n",
            "Epoch 77/100\n",
            "87/87 [==============================] - 0s 2ms/step - loss: 0.2031 - mae: 0.3491 - val_loss: 0.2611 - val_mae: 0.3917\n",
            "Epoch 78/100\n",
            "87/87 [==============================] - 0s 2ms/step - loss: 0.2018 - mae: 0.3471 - val_loss: 0.2821 - val_mae: 0.4168\n",
            "Epoch 79/100\n",
            "87/87 [==============================] - 0s 2ms/step - loss: 0.2002 - mae: 0.3475 - val_loss: 0.2859 - val_mae: 0.4192\n",
            "Epoch 80/100\n",
            "87/87 [==============================] - 0s 2ms/step - loss: 0.2002 - mae: 0.3452 - val_loss: 0.2841 - val_mae: 0.4090\n",
            "Epoch 81/100\n",
            "87/87 [==============================] - 0s 2ms/step - loss: 0.2015 - mae: 0.3478 - val_loss: 0.2742 - val_mae: 0.4014\n",
            "Epoch 82/100\n",
            "87/87 [==============================] - 0s 2ms/step - loss: 0.2007 - mae: 0.3447 - val_loss: 0.2763 - val_mae: 0.4065\n",
            "Epoch 83/100\n",
            "87/87 [==============================] - 0s 2ms/step - loss: 0.1984 - mae: 0.3431 - val_loss: 0.2620 - val_mae: 0.3921\n",
            "Epoch 84/100\n",
            "87/87 [==============================] - 0s 2ms/step - loss: 0.1979 - mae: 0.3427 - val_loss: 0.2849 - val_mae: 0.4120\n",
            "Epoch 85/100\n",
            "87/87 [==============================] - 0s 2ms/step - loss: 0.1975 - mae: 0.3423 - val_loss: 0.2891 - val_mae: 0.4207\n",
            "Epoch 86/100\n",
            "87/87 [==============================] - 0s 2ms/step - loss: 0.1986 - mae: 0.3454 - val_loss: 0.2687 - val_mae: 0.4020\n",
            "Epoch 87/100\n",
            "87/87 [==============================] - 0s 2ms/step - loss: 0.1988 - mae: 0.3446 - val_loss: 0.2668 - val_mae: 0.3919\n",
            "Epoch 88/100\n",
            "87/87 [==============================] - 0s 2ms/step - loss: 0.1974 - mae: 0.3436 - val_loss: 0.2944 - val_mae: 0.4215\n",
            "Epoch 89/100\n",
            "87/87 [==============================] - 0s 2ms/step - loss: 0.1977 - mae: 0.3406 - val_loss: 0.2769 - val_mae: 0.4101\n",
            "Epoch 90/100\n",
            "87/87 [==============================] - 0s 2ms/step - loss: 0.1962 - mae: 0.3411 - val_loss: 0.2701 - val_mae: 0.4029\n",
            "Epoch 91/100\n",
            "87/87 [==============================] - 0s 2ms/step - loss: 0.1971 - mae: 0.3421 - val_loss: 0.2804 - val_mae: 0.4096\n",
            "Epoch 92/100\n",
            "87/87 [==============================] - 0s 2ms/step - loss: 0.1977 - mae: 0.3420 - val_loss: 0.2612 - val_mae: 0.3934\n",
            "Epoch 93/100\n",
            "87/87 [==============================] - 0s 2ms/step - loss: 0.1959 - mae: 0.3394 - val_loss: 0.2651 - val_mae: 0.3957\n",
            "Epoch 94/100\n",
            "87/87 [==============================] - 0s 2ms/step - loss: 0.1972 - mae: 0.3416 - val_loss: 0.2717 - val_mae: 0.4030\n",
            "Epoch 95/100\n",
            "87/87 [==============================] - 0s 2ms/step - loss: 0.1962 - mae: 0.3418 - val_loss: 0.2663 - val_mae: 0.3951\n",
            "Epoch 96/100\n",
            "87/87 [==============================] - 0s 2ms/step - loss: 0.1960 - mae: 0.3404 - val_loss: 0.2694 - val_mae: 0.4010\n",
            "Epoch 97/100\n",
            "87/87 [==============================] - 0s 2ms/step - loss: 0.1966 - mae: 0.3419 - val_loss: 0.2608 - val_mae: 0.3901\n",
            "Epoch 98/100\n",
            "87/87 [==============================] - 0s 2ms/step - loss: 0.1955 - mae: 0.3400 - val_loss: 0.2689 - val_mae: 0.4000\n",
            "Epoch 99/100\n",
            "87/87 [==============================] - 0s 2ms/step - loss: 0.1949 - mae: 0.3405 - val_loss: 0.2610 - val_mae: 0.3904\n",
            "Epoch 100/100\n",
            "87/87 [==============================] - 0s 2ms/step - loss: 0.1944 - mae: 0.3396 - val_loss: 0.2682 - val_mae: 0.3966\n"
          ],
          "name": "stdout"
        }
      ]
    },
    {
      "cell_type": "code",
      "metadata": {
        "id": "goo_T1_Ru3Y0",
        "outputId": "e00ed580-0c4b-4b86-8d51-707a9398b7e3",
        "colab": {
          "base_uri": "https://localhost:8080/"
        }
      },
      "source": [
        "# %% 顯示平均溫度誤差\n",
        "print('平均溫度誤差為:', \n",
        "      history.history['val_mae'][-1]*std) \n",
        "#平均溫度誤差為: 2.8286283016204834  no (data-mean)/std\n",
        "#2.458349876511652  \n",
        "#RNN 平均溫度誤差為: 2.9840936312531037\n",
        "#LSTM 2.3964029919394694"
      ],
      "execution_count": null,
      "outputs": [
        {
          "output_type": "stream",
          "text": [
            "平均溫度誤差為: 2.458349876511652\n"
          ],
          "name": "stdout"
        }
      ]
    },
    {
      "cell_type": "markdown",
      "metadata": {
        "id": "GcJc2jMqweC-"
      },
      "source": [
        ""
      ]
    },
    {
      "cell_type": "code",
      "metadata": {
        "id": "xuSZxyLNxmY9"
      },
      "source": [
        "model2=tf.keras.models.Sequential()\n",
        "\n",
        "f2=tf.keras.layers.SimpleRNN(10, activation='relu', input_shape=(12,1))\n",
        "f3=tf.keras.layers.Dense(10, activation='relu')\n",
        "f4=tf.keras.layers.Dense(1)\n",
        "model2.add(f2)\n",
        "model2.add(f3)\n",
        "model2.add(f4)\n",
        "#model2.summary()"
      ],
      "execution_count": null,
      "outputs": []
    },
    {
      "cell_type": "code",
      "metadata": {
        "id": "kfcSuS2q4sLV",
        "outputId": "c1f21718-390a-47f8-c816-e7877877e1d6",
        "colab": {
          "base_uri": "https://localhost:8080/"
        }
      },
      "source": [
        "model2.compile(optimizer='rmsprop', loss='mse', metrics=['mae'])\n",
        "history=model2.fit(train_gen, validation_data=val_gen, epochs=100)"
      ],
      "execution_count": null,
      "outputs": [
        {
          "output_type": "stream",
          "text": [
            "Epoch 1/100\n",
            "87/87 [==============================] - 0s 5ms/step - loss: 1.0778 - mae: 0.7972 - val_loss: 0.7307 - val_mae: 0.6871\n",
            "Epoch 2/100\n",
            "87/87 [==============================] - 0s 3ms/step - loss: 0.7741 - mae: 0.7000 - val_loss: 0.6290 - val_mae: 0.6325\n",
            "Epoch 3/100\n",
            "87/87 [==============================] - 0s 3ms/step - loss: 0.6865 - mae: 0.6631 - val_loss: 0.5875 - val_mae: 0.6182\n",
            "Epoch 4/100\n",
            "87/87 [==============================] - 0s 3ms/step - loss: 0.6497 - mae: 0.6449 - val_loss: 0.5553 - val_mae: 0.6029\n",
            "Epoch 5/100\n",
            "87/87 [==============================] - 0s 3ms/step - loss: 0.6165 - mae: 0.6244 - val_loss: 0.5308 - val_mae: 0.5771\n",
            "Epoch 6/100\n",
            "87/87 [==============================] - 0s 3ms/step - loss: 0.5886 - mae: 0.6089 - val_loss: 0.5000 - val_mae: 0.5655\n",
            "Epoch 7/100\n",
            "87/87 [==============================] - 0s 3ms/step - loss: 0.5396 - mae: 0.5820 - val_loss: 0.4163 - val_mae: 0.5213\n",
            "Epoch 8/100\n",
            "87/87 [==============================] - 0s 3ms/step - loss: 0.3991 - mae: 0.5053 - val_loss: 0.3390 - val_mae: 0.4827\n",
            "Epoch 9/100\n",
            "87/87 [==============================] - 0s 3ms/step - loss: 0.3007 - mae: 0.4422 - val_loss: 0.3780 - val_mae: 0.4956\n",
            "Epoch 10/100\n",
            "87/87 [==============================] - 0s 4ms/step - loss: 0.2812 - mae: 0.4218 - val_loss: 0.3082 - val_mae: 0.4354\n",
            "Epoch 11/100\n",
            "87/87 [==============================] - 0s 3ms/step - loss: 0.2679 - mae: 0.4121 - val_loss: 0.3072 - val_mae: 0.4223\n",
            "Epoch 12/100\n",
            "87/87 [==============================] - 0s 3ms/step - loss: 0.2683 - mae: 0.4082 - val_loss: 0.3103 - val_mae: 0.4245\n",
            "Epoch 13/100\n",
            "87/87 [==============================] - 0s 3ms/step - loss: 0.2666 - mae: 0.4047 - val_loss: 0.2992 - val_mae: 0.4213\n",
            "Epoch 14/100\n",
            "87/87 [==============================] - 0s 3ms/step - loss: 0.2664 - mae: 0.4086 - val_loss: 0.3041 - val_mae: 0.4261\n",
            "Epoch 15/100\n",
            "87/87 [==============================] - 0s 3ms/step - loss: 0.2674 - mae: 0.4074 - val_loss: 0.3060 - val_mae: 0.4277\n",
            "Epoch 16/100\n",
            "87/87 [==============================] - 0s 3ms/step - loss: 0.2624 - mae: 0.4018 - val_loss: 0.2967 - val_mae: 0.4251\n",
            "Epoch 17/100\n",
            "87/87 [==============================] - 0s 3ms/step - loss: 0.2605 - mae: 0.4059 - val_loss: 0.3038 - val_mae: 0.4184\n",
            "Epoch 18/100\n",
            "87/87 [==============================] - 0s 3ms/step - loss: 0.2613 - mae: 0.4050 - val_loss: 0.3467 - val_mae: 0.4705\n",
            "Epoch 19/100\n",
            "87/87 [==============================] - 0s 3ms/step - loss: 0.2670 - mae: 0.4097 - val_loss: 0.2994 - val_mae: 0.4263\n",
            "Epoch 20/100\n",
            "87/87 [==============================] - 0s 3ms/step - loss: 0.2598 - mae: 0.4048 - val_loss: 0.3015 - val_mae: 0.4179\n",
            "Epoch 21/100\n",
            "87/87 [==============================] - 0s 3ms/step - loss: 0.2584 - mae: 0.4018 - val_loss: 0.4094 - val_mae: 0.5274\n",
            "Epoch 22/100\n",
            "87/87 [==============================] - 0s 3ms/step - loss: 0.2603 - mae: 0.4041 - val_loss: 0.4177 - val_mae: 0.5368\n",
            "Epoch 23/100\n",
            "87/87 [==============================] - 0s 3ms/step - loss: 0.2685 - mae: 0.4049 - val_loss: 0.3713 - val_mae: 0.4926\n",
            "Epoch 24/100\n",
            "87/87 [==============================] - 0s 3ms/step - loss: 0.2597 - mae: 0.4041 - val_loss: 0.3205 - val_mae: 0.4393\n",
            "Epoch 25/100\n",
            "87/87 [==============================] - 0s 3ms/step - loss: 0.2574 - mae: 0.3998 - val_loss: 0.2910 - val_mae: 0.4196\n",
            "Epoch 26/100\n",
            "87/87 [==============================] - 0s 3ms/step - loss: 0.2542 - mae: 0.3980 - val_loss: 0.3367 - val_mae: 0.4653\n",
            "Epoch 27/100\n",
            "87/87 [==============================] - 0s 3ms/step - loss: 0.2563 - mae: 0.3998 - val_loss: 0.3015 - val_mae: 0.4292\n",
            "Epoch 28/100\n",
            "87/87 [==============================] - 0s 3ms/step - loss: 0.2536 - mae: 0.3960 - val_loss: 0.3027 - val_mae: 0.4291\n",
            "Epoch 29/100\n",
            "87/87 [==============================] - 0s 3ms/step - loss: 0.2548 - mae: 0.3984 - val_loss: 0.3002 - val_mae: 0.4241\n",
            "Epoch 30/100\n",
            "87/87 [==============================] - 0s 3ms/step - loss: 0.2544 - mae: 0.3986 - val_loss: 0.2935 - val_mae: 0.4248\n",
            "Epoch 31/100\n",
            "87/87 [==============================] - 0s 3ms/step - loss: 0.2507 - mae: 0.3948 - val_loss: 0.2876 - val_mae: 0.4142\n",
            "Epoch 32/100\n",
            "87/87 [==============================] - 0s 3ms/step - loss: 0.2516 - mae: 0.3979 - val_loss: 0.2938 - val_mae: 0.4170\n",
            "Epoch 33/100\n",
            "87/87 [==============================] - 0s 3ms/step - loss: 0.2487 - mae: 0.3911 - val_loss: 0.3201 - val_mae: 0.4529\n",
            "Epoch 34/100\n",
            "87/87 [==============================] - 0s 3ms/step - loss: 0.2559 - mae: 0.4000 - val_loss: 0.2913 - val_mae: 0.4154\n",
            "Epoch 35/100\n",
            "87/87 [==============================] - 0s 3ms/step - loss: 0.2519 - mae: 0.3972 - val_loss: 0.3366 - val_mae: 0.4667\n",
            "Epoch 36/100\n",
            "87/87 [==============================] - 0s 3ms/step - loss: 0.2513 - mae: 0.3952 - val_loss: 0.2850 - val_mae: 0.4168\n",
            "Epoch 37/100\n",
            "87/87 [==============================] - 0s 3ms/step - loss: 0.2493 - mae: 0.3955 - val_loss: 0.3205 - val_mae: 0.4408\n",
            "Epoch 38/100\n",
            "87/87 [==============================] - 0s 3ms/step - loss: 0.2509 - mae: 0.3948 - val_loss: 0.2844 - val_mae: 0.4145\n",
            "Epoch 39/100\n",
            "87/87 [==============================] - 0s 3ms/step - loss: 0.2434 - mae: 0.3884 - val_loss: 0.5063 - val_mae: 0.5932\n",
            "Epoch 40/100\n",
            "87/87 [==============================] - 0s 3ms/step - loss: 0.2479 - mae: 0.3922 - val_loss: 0.4156 - val_mae: 0.5304\n",
            "Epoch 41/100\n",
            "87/87 [==============================] - 0s 3ms/step - loss: 0.2510 - mae: 0.3965 - val_loss: 0.2883 - val_mae: 0.4099\n",
            "Epoch 42/100\n",
            "87/87 [==============================] - 0s 3ms/step - loss: 0.2464 - mae: 0.3899 - val_loss: 0.2819 - val_mae: 0.4090\n",
            "Epoch 43/100\n",
            "87/87 [==============================] - 0s 3ms/step - loss: 0.2455 - mae: 0.3913 - val_loss: 0.2881 - val_mae: 0.4133\n",
            "Epoch 44/100\n",
            "87/87 [==============================] - 0s 3ms/step - loss: 0.2476 - mae: 0.3934 - val_loss: 0.2821 - val_mae: 0.4120\n",
            "Epoch 45/100\n",
            "87/87 [==============================] - 0s 3ms/step - loss: 0.2384 - mae: 0.3846 - val_loss: 0.2906 - val_mae: 0.4210\n",
            "Epoch 46/100\n",
            "87/87 [==============================] - 0s 3ms/step - loss: 0.2384 - mae: 0.3863 - val_loss: 0.2977 - val_mae: 0.4271\n",
            "Epoch 47/100\n",
            "87/87 [==============================] - 0s 3ms/step - loss: 0.2451 - mae: 0.3904 - val_loss: 0.2995 - val_mae: 0.4271\n",
            "Epoch 48/100\n",
            "87/87 [==============================] - 0s 3ms/step - loss: 0.2423 - mae: 0.3883 - val_loss: 0.2941 - val_mae: 0.4239\n",
            "Epoch 49/100\n",
            "87/87 [==============================] - 0s 3ms/step - loss: 0.2423 - mae: 0.3881 - val_loss: 0.2797 - val_mae: 0.4079\n",
            "Epoch 50/100\n",
            "87/87 [==============================] - 0s 3ms/step - loss: 0.2419 - mae: 0.3894 - val_loss: 0.2900 - val_mae: 0.4201\n",
            "Epoch 51/100\n",
            "87/87 [==============================] - 0s 3ms/step - loss: 0.2348 - mae: 0.3828 - val_loss: 0.3674 - val_mae: 0.4915\n",
            "Epoch 52/100\n",
            "87/87 [==============================] - 0s 4ms/step - loss: 0.2435 - mae: 0.3888 - val_loss: 0.3124 - val_mae: 0.4445\n",
            "Epoch 53/100\n",
            "87/87 [==============================] - 0s 3ms/step - loss: 0.2401 - mae: 0.3854 - val_loss: 0.3218 - val_mae: 0.4545\n",
            "Epoch 54/100\n",
            "87/87 [==============================] - 0s 3ms/step - loss: 0.2412 - mae: 0.3865 - val_loss: 0.3201 - val_mae: 0.4474\n",
            "Epoch 55/100\n",
            "87/87 [==============================] - 0s 3ms/step - loss: 0.2372 - mae: 0.3833 - val_loss: 0.2753 - val_mae: 0.4024\n",
            "Epoch 56/100\n",
            "87/87 [==============================] - 0s 4ms/step - loss: 0.2342 - mae: 0.3808 - val_loss: 0.3050 - val_mae: 0.4407\n",
            "Epoch 57/100\n",
            "87/87 [==============================] - 0s 3ms/step - loss: 0.2410 - mae: 0.3875 - val_loss: 0.2823 - val_mae: 0.4127\n",
            "Epoch 58/100\n",
            "87/87 [==============================] - 0s 3ms/step - loss: 0.2405 - mae: 0.3863 - val_loss: 0.2796 - val_mae: 0.4051\n",
            "Epoch 59/100\n",
            "87/87 [==============================] - 0s 3ms/step - loss: 0.2369 - mae: 0.3810 - val_loss: 0.2995 - val_mae: 0.4290\n",
            "Epoch 60/100\n",
            "87/87 [==============================] - 0s 3ms/step - loss: 0.2378 - mae: 0.3840 - val_loss: 0.2954 - val_mae: 0.4271\n",
            "Epoch 61/100\n",
            "87/87 [==============================] - 0s 4ms/step - loss: 0.2328 - mae: 0.3792 - val_loss: 0.3998 - val_mae: 0.5195\n",
            "Epoch 62/100\n",
            "87/87 [==============================] - 0s 4ms/step - loss: 0.2407 - mae: 0.3862 - val_loss: 0.2746 - val_mae: 0.4055\n",
            "Epoch 63/100\n",
            "87/87 [==============================] - 0s 3ms/step - loss: 0.2339 - mae: 0.3827 - val_loss: 0.2849 - val_mae: 0.4065\n",
            "Epoch 64/100\n",
            "87/87 [==============================] - 0s 4ms/step - loss: 0.2287 - mae: 0.3761 - val_loss: 0.2757 - val_mae: 0.4003\n",
            "Epoch 65/100\n",
            "87/87 [==============================] - 0s 4ms/step - loss: 0.2343 - mae: 0.3810 - val_loss: 0.2728 - val_mae: 0.4000\n",
            "Epoch 66/100\n",
            "87/87 [==============================] - 0s 3ms/step - loss: 0.2325 - mae: 0.3804 - val_loss: 0.2728 - val_mae: 0.4024\n",
            "Epoch 67/100\n",
            "87/87 [==============================] - 0s 3ms/step - loss: 0.2296 - mae: 0.3783 - val_loss: 0.2777 - val_mae: 0.4102\n",
            "Epoch 68/100\n",
            "87/87 [==============================] - 0s 3ms/step - loss: 0.2256 - mae: 0.3743 - val_loss: 0.3184 - val_mae: 0.4500\n",
            "Epoch 69/100\n",
            "87/87 [==============================] - 0s 3ms/step - loss: 0.2305 - mae: 0.3773 - val_loss: 0.2759 - val_mae: 0.4090\n",
            "Epoch 70/100\n",
            "87/87 [==============================] - 0s 3ms/step - loss: 0.2301 - mae: 0.3774 - val_loss: 0.2780 - val_mae: 0.4042\n",
            "Epoch 71/100\n",
            "87/87 [==============================] - 0s 3ms/step - loss: 0.2300 - mae: 0.3792 - val_loss: 0.2863 - val_mae: 0.4197\n",
            "Epoch 72/100\n",
            "87/87 [==============================] - 0s 3ms/step - loss: 0.2313 - mae: 0.3798 - val_loss: 0.2827 - val_mae: 0.4177\n",
            "Epoch 73/100\n",
            "87/87 [==============================] - 0s 3ms/step - loss: 0.2301 - mae: 0.3762 - val_loss: 0.2855 - val_mae: 0.4220\n",
            "Epoch 74/100\n",
            "87/87 [==============================] - 0s 3ms/step - loss: 0.2235 - mae: 0.3719 - val_loss: 0.2754 - val_mae: 0.4068\n",
            "Epoch 75/100\n",
            "87/87 [==============================] - 0s 3ms/step - loss: 0.2288 - mae: 0.3776 - val_loss: 0.2803 - val_mae: 0.4014\n",
            "Epoch 76/100\n",
            "87/87 [==============================] - 0s 3ms/step - loss: 0.2294 - mae: 0.3774 - val_loss: 0.3234 - val_mae: 0.4494\n",
            "Epoch 77/100\n",
            "87/87 [==============================] - 0s 3ms/step - loss: 0.2262 - mae: 0.3734 - val_loss: 0.3245 - val_mae: 0.4512\n",
            "Epoch 78/100\n",
            "87/87 [==============================] - 0s 3ms/step - loss: 0.2258 - mae: 0.3743 - val_loss: 0.2774 - val_mae: 0.4058\n",
            "Epoch 79/100\n",
            "87/87 [==============================] - 0s 3ms/step - loss: 0.2279 - mae: 0.3762 - val_loss: 0.2759 - val_mae: 0.4084\n",
            "Epoch 80/100\n",
            "87/87 [==============================] - 0s 3ms/step - loss: 0.2237 - mae: 0.3700 - val_loss: 0.2714 - val_mae: 0.4000\n",
            "Epoch 81/100\n",
            "87/87 [==============================] - 0s 3ms/step - loss: 0.2249 - mae: 0.3724 - val_loss: 0.3202 - val_mae: 0.4470\n",
            "Epoch 82/100\n",
            "87/87 [==============================] - 0s 3ms/step - loss: 0.2207 - mae: 0.3683 - val_loss: 0.4282 - val_mae: 0.5206\n",
            "Epoch 83/100\n",
            "87/87 [==============================] - 0s 3ms/step - loss: 0.2259 - mae: 0.3731 - val_loss: 0.2646 - val_mae: 0.3961\n",
            "Epoch 84/100\n",
            "87/87 [==============================] - 0s 3ms/step - loss: 0.2230 - mae: 0.3695 - val_loss: 0.2660 - val_mae: 0.3953\n",
            "Epoch 85/100\n",
            "87/87 [==============================] - 0s 3ms/step - loss: 0.2283 - mae: 0.3721 - val_loss: 0.2741 - val_mae: 0.4053\n",
            "Epoch 86/100\n",
            "87/87 [==============================] - 0s 3ms/step - loss: 0.2226 - mae: 0.3678 - val_loss: 0.2757 - val_mae: 0.4014\n",
            "Epoch 87/100\n",
            "87/87 [==============================] - 0s 3ms/step - loss: 0.2198 - mae: 0.3654 - val_loss: 0.2958 - val_mae: 0.4252\n",
            "Epoch 88/100\n",
            "87/87 [==============================] - 0s 3ms/step - loss: 0.2178 - mae: 0.3623 - val_loss: 0.2993 - val_mae: 0.4204\n",
            "Epoch 89/100\n",
            "87/87 [==============================] - 0s 3ms/step - loss: 0.2289 - mae: 0.3734 - val_loss: 0.2825 - val_mae: 0.4103\n",
            "Epoch 90/100\n",
            "87/87 [==============================] - 0s 3ms/step - loss: 0.2198 - mae: 0.3659 - val_loss: 0.2770 - val_mae: 0.4004\n",
            "Epoch 91/100\n",
            "87/87 [==============================] - 0s 3ms/step - loss: 0.2150 - mae: 0.3607 - val_loss: 0.3228 - val_mae: 0.4443\n",
            "Epoch 92/100\n",
            "87/87 [==============================] - 0s 3ms/step - loss: 0.2175 - mae: 0.3629 - val_loss: 0.3540 - val_mae: 0.4677\n",
            "Epoch 93/100\n",
            "87/87 [==============================] - 0s 3ms/step - loss: 0.2256 - mae: 0.3698 - val_loss: 0.2642 - val_mae: 0.3939\n",
            "Epoch 94/100\n",
            "87/87 [==============================] - 0s 4ms/step - loss: 0.2188 - mae: 0.3639 - val_loss: 0.2683 - val_mae: 0.3921\n",
            "Epoch 95/100\n",
            "87/87 [==============================] - 0s 3ms/step - loss: 0.2213 - mae: 0.3663 - val_loss: 0.2720 - val_mae: 0.4011\n",
            "Epoch 96/100\n",
            "87/87 [==============================] - 0s 3ms/step - loss: 0.2199 - mae: 0.3663 - val_loss: 0.3014 - val_mae: 0.4245\n",
            "Epoch 97/100\n",
            "87/87 [==============================] - 0s 3ms/step - loss: 0.2185 - mae: 0.3648 - val_loss: 0.2627 - val_mae: 0.3895\n",
            "Epoch 98/100\n",
            "87/87 [==============================] - 0s 3ms/step - loss: 0.2261 - mae: 0.3702 - val_loss: 0.2559 - val_mae: 0.3913\n",
            "Epoch 99/100\n",
            "87/87 [==============================] - 0s 3ms/step - loss: 0.2156 - mae: 0.3643 - val_loss: 0.2824 - val_mae: 0.4096\n",
            "Epoch 100/100\n",
            "87/87 [==============================] - 0s 3ms/step - loss: 0.2171 - mae: 0.3646 - val_loss: 0.3834 - val_mae: 0.4814\n"
          ],
          "name": "stdout"
        }
      ]
    },
    {
      "cell_type": "code",
      "metadata": {
        "id": "1fOidCGn4xxM",
        "outputId": "9c11d316-6c23-466e-e33b-0f77bc6583f0",
        "colab": {
          "base_uri": "https://localhost:8080/"
        }
      },
      "source": [
        "# %% 顯示平均溫度誤差\n",
        "print('平均溫度誤差為:', \n",
        "      history.history['val_mae'][-1]*std) "
      ],
      "execution_count": null,
      "outputs": [
        {
          "output_type": "stream",
          "text": [
            "平均溫度誤差為: 2.9840936312531037\n"
          ],
          "name": "stdout"
        }
      ]
    },
    {
      "cell_type": "code",
      "metadata": {
        "id": "vs7yqMXQ4fWK"
      },
      "source": [
        "model3=tf.keras.models.Sequential()\n",
        "\n",
        "f2=tf.keras.layers.LSTM(10, activation='relu', input_shape=(12,1))\n",
        "f3=tf.keras.layers.Dense(10, activation='relu')\n",
        "f4=tf.keras.layers.Dense(1)\n",
        "model3.add(f2)\n",
        "model3.add(f3)\n",
        "model3.add(f4)\n",
        "#model2.summary()"
      ],
      "execution_count": null,
      "outputs": []
    },
    {
      "cell_type": "code",
      "metadata": {
        "id": "pi_I-7Lf4mFu"
      },
      "source": [
        "model3.compile(optimizer='rmsprop', loss='mse', metrics=['mae'])\n",
        "history=model3.fit(train_gen, validation_data=val_gen, epochs=100)"
      ],
      "execution_count": null,
      "outputs": []
    },
    {
      "cell_type": "code",
      "metadata": {
        "id": "9eKrKwH-yCle"
      },
      "source": [
        "model2.compile(optimizer='rmsprop', loss='mse', metrics=['mae'])\n",
        "history=model.fit(train_gen, validation_data=val_gen, epochs=100)"
      ],
      "execution_count": null,
      "outputs": []
    },
    {
      "cell_type": "code",
      "metadata": {
        "id": "B66Cm9W4yNHD",
        "outputId": "f1afbcba-9e09-4562-8251-502b59c881ff",
        "colab": {
          "base_uri": "https://localhost:8080/"
        }
      },
      "source": [
        "# %% 顯示平均溫度誤差\n",
        "print('平均溫度誤差為:', \n",
        "      history.history['val_mae'][-1]*std) "
      ],
      "execution_count": null,
      "outputs": [
        {
          "output_type": "stream",
          "text": [
            "平均溫度誤差為: 2.3964029919394694\n"
          ],
          "name": "stdout"
        }
      ]
    }
  ]
}