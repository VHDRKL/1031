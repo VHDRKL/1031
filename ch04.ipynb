{
  "nbformat": 4,
  "nbformat_minor": 0,
  "metadata": {
    "colab": {
      "name": "ch04.ipynb",
      "provenance": [],
      "authorship_tag": "ABX9TyNsKbFJ5eewxg56FxS9erUy",
      "include_colab_link": true
    },
    "kernelspec": {
      "name": "python3",
      "display_name": "Python 3"
    }
  },
  "cells": [
    {
      "cell_type": "markdown",
      "metadata": {
        "id": "view-in-github",
        "colab_type": "text"
      },
      "source": [
        "<a href=\"https://colab.research.google.com/github/VHDRKL/1031/blob/main/ch04.ipynb\" target=\"_parent\"><img src=\"https://colab.research.google.com/assets/colab-badge.svg\" alt=\"Open In Colab\"/></a>"
      ]
    },
    {
      "cell_type": "code",
      "metadata": {
        "id": "c6BWwfK6HQUw"
      },
      "source": [
        "import numpy as np\n",
        "import tensorflow as tf\n",
        "from tensorflow.keras.models import Sequential\n",
        "from tensorflow.keras import layers\n",
        "from tensorflow.keras.utils import to_categorical\n",
        "sample = np.array([\n",
        "          [[0],[1]],\n",
        "          [[1],[1]],\n",
        "          [[1],[2]],\n",
        "          [[2],[0]]\n",
        "])\n",
        "sample.shape\n",
        "label = np.array([1,2,0,1])\n",
        "sample.shape # (4,2,1)  4筆資料, 每兩筆時序當輸入\n",
        "\n",
        "label = to_categorical(label)\n",
        "label \n",
        "\n",
        "sample = to_categorical(sample)\n",
        "sample.shape #(4,2,3) 4筆資料, 每兩個時序當輸入\n",
        "\n",
        "model=Sequential()\n",
        "f1=tf.keras.layers.SimpleRNN(units=3,\n",
        "             dropout=0.0,\n",
        "             activation='softmax',\n",
        "             input_shape=(2,3),\n",
        "             recurrent_dropout=0.0,    \n",
        "             go_backwards=False)\n",
        "model.add(f1)\n",
        "model.summary() #m*d+d + d*d m=3,d=3 total=21\n",
        "#Call arguments:\n",
        "# input: A 3D tensor,with shape ([batch, timesteps, feature])\n",
        "model.compile(optimizer=tf.keras.optimizers.RMSprop(),\n",
        "        loss=tf.keras.losses.CategoricalCrossentropy(),\n",
        "        metrics=['acc'])\n",
        "\n",
        "model.fit(x=sample, y=label, epochs=500)\n"
      ],
      "execution_count": null,
      "outputs": []
    },
    {
      "cell_type": "code",
      "metadata": {
        "id": "FzPRhaYEYHn8"
      },
      "source": [
        "import numpy as np\n",
        "import tensorflow as tf\n",
        "from tensorflow.keras.models import Sequential\n",
        "from tensorflow.keras import layers\n",
        "from tensorflow.keras.utils import to_categorical\n",
        "sample = np.array([\n",
        "          [[0],[1]],\n",
        "          [[1],[1]],\n",
        "          [[1],[2]],\n",
        "          [[2],[0]]\n",
        "])\n",
        "sample.shape\n",
        "label = np.array([1,2,0,1])\n",
        "sample.shape # (4,2,1)  4筆資料, 每兩筆時序當輸入\n",
        "\n",
        "label = to_categorical(label)\n",
        "label \n",
        "\n",
        "sample = to_categorical(sample)\n",
        "sample.shape #(4,2,3) 4筆資料, 每兩個時序當輸入\n",
        "\n",
        "model=Sequential()\n",
        "f1=tf.keras.layers.SimpleRNN(units=10,\n",
        "             dropout=0.0,\n",
        "             activation='relu',\n",
        "             input_shape=(2,3),\n",
        "             recurrent_dropout=0.0,    \n",
        "             go_backwards=False)\n",
        "model.add(f1)\n",
        "f2=tf.keras.layers.Dense(3, activation='softmax')\n",
        "model.add(f2)\n",
        "model.summary() #m*d+d + d*d m=3,d=3 total=21\n",
        "#Call arguments:\n",
        "# input: A 3D tensor,with shape ([batch, timesteps, feature])\n",
        "model.compile(optimizer=tf.keras.optimizers.RMSprop(),\n",
        "        loss=tf.keras.losses.CategoricalCrossentropy(),\n",
        "        metrics=['acc'])\n",
        "\n",
        "model.fit(x=sample, y=label, epochs=500)\n"
      ],
      "execution_count": null,
      "outputs": []
    },
    {
      "cell_type": "code",
      "metadata": {
        "id": "H6oXqBxrYtia"
      },
      "source": [
        ""
      ],
      "execution_count": null,
      "outputs": []
    },
    {
      "cell_type": "code",
      "metadata": {
        "id": "-_o9N8ugdTAY"
      },
      "source": [
        "import numpy as np\n",
        "import tensorflow as tf\n",
        "from tensorflow.keras.models import Sequential\n",
        "from tensorflow.keras import layers\n",
        "from tensorflow.keras.utils import to_categorical\n",
        "from tensorflow.preprocessing.sequence import TimeseriesGenerator\n",
        "\n",
        "dinner=[0,1,1,2,0,1,1,2]\n",
        "dinner=to_categorical(dinner)\n",
        "TimeseriesGenerator(dinner, dinner, \n",
        "          length=3,\n",
        "          sampling_rate=1,\n",
        "          stride=1,\n",
        "          batch_size=2)\n",
        "data_gen[0]\n",
        "sample = np.array([\n",
        "          [[0],[1]],\n",
        "          [[1],[1]],\n",
        "          [[1],[2]],\n",
        "          [[2],[0]]\n",
        "])\n",
        "sample.shape\n",
        "label = np.array([1,2,0,1])\n",
        "sample.shape # (4,2,1)  4筆資料, 每兩筆時序當輸入\n",
        "\n",
        "label = to_categorical(label)\n",
        "label \n",
        "\n",
        "sample = to_categorical(sample)\n",
        "sample.shape #(4,2,3) 4筆資料, 每兩個時序當輸入\n",
        "\n",
        "model=Sequential()\n",
        "f1=tf.keras.layers.SimpleRNN(units=10,\n",
        "             dropout=0.0,\n",
        "             activation='relu',\n",
        "             input_shape=(2,3),\n",
        "             recurrent_dropout=0.0,    \n",
        "             go_backwards=False)\n",
        "model.add(f1)\n",
        "f2=tf.keras.layers.Dense(3, activation='softmax')\n",
        "model.add(f2)\n",
        "model.summary() #m*d+d + d*d m=3,d=3 total=21\n",
        "#Call arguments:\n",
        "# input: A 3D tensor,with shape ([batch, timesteps, feature])\n",
        "model.compile(optimizer=tf.keras.optimizers.RMSprop(),\n",
        "        loss=tf.keras.losses.CategoricalCrossentropy(),\n",
        "        metrics=['acc'])\n",
        "\n",
        "model.fit(x=sample, y=label, epochs=500)\n"
      ],
      "execution_count": null,
      "outputs": []
    },
    {
      "cell_type": "code",
      "metadata": {
        "id": "PLUGrTfLeT45",
        "outputId": "4df7f7d3-d137-4bd8-c4e5-646c5af3718b",
        "colab": {
          "base_uri": "https://localhost:8080/"
        }
      },
      "source": [
        "import numpy as np\n",
        "import tensorflow as tf\n",
        "from tensorflow.keras.models import Sequential\n",
        "from tensorflow.keras import layers\n",
        "from tensorflow.keras.utils import to_categorical\n",
        "from tensorflow.keras.preprocessing.sequence import TimeseriesGenerator\n",
        "\n",
        "dinner=[0,1,1,2,0,1,1,2]\n",
        "#dinner=to_categorical(dinner)\n",
        "data_gen= TimeseriesGenerator(dinner, dinner, \n",
        "          length=3,\n",
        "          sampling_rate=1,\n",
        "          stride=1,\n",
        "          batch_size=2)\n",
        "print(data_gen[0])\n",
        "print(data_gen[1])\n",
        "print(data_gen[2])\n"
      ],
      "execution_count": 32,
      "outputs": [
        {
          "output_type": "stream",
          "text": [
            "(array([[0, 1, 1],\n",
            "       [1, 1, 2]]), array([2, 0]))\n",
            "(array([[1, 2, 0],\n",
            "       [2, 0, 1]]), array([1, 1]))\n",
            "(array([[0, 1, 1]]), array([2]))\n"
          ],
          "name": "stdout"
        }
      ]
    },
    {
      "cell_type": "code",
      "metadata": {
        "id": "xHzYGs1_fQCy",
        "outputId": "167ae595-4d35-46c2-d0a7-df9a97b64ef2",
        "colab": {
          "base_uri": "https://localhost:8080/"
        }
      },
      "source": [
        "import numpy as np\n",
        "import tensorflow as tf\n",
        "from tensorflow.keras.models import Sequential\n",
        "from tensorflow.keras import layers\n",
        "from tensorflow.keras.utils import to_categorical\n",
        "from tensorflow.keras.preprocessing.sequence import TimeseriesGenerator\n",
        "\n",
        "dinner=[0,1,1,2,0,1,1,2]\n",
        "#dinner=to_categorical(dinner)\n",
        "data_gen= TimeseriesGenerator(dinner, dinner, \n",
        "          length=3,\n",
        "          sampling_rate=1,\n",
        "          stride=1,\n",
        "          batch_size=3)\n",
        "print(data_gen[0])\n",
        "print(data_gen[1])\n",
        "print(data_gen[2])\n"
      ],
      "execution_count": 33,
      "outputs": [
        {
          "output_type": "stream",
          "text": [
            "(array([[0, 1, 1],\n",
            "       [1, 1, 2],\n",
            "       [1, 2, 0]]), array([2, 0, 1]))\n",
            "(array([[2, 0, 1],\n",
            "       [0, 1, 1]]), array([1, 2]))\n",
            "(array([], dtype=float64), array([], dtype=float64))\n"
          ],
          "name": "stdout"
        }
      ]
    },
    {
      "cell_type": "code",
      "metadata": {
        "id": "lFQ2fMW1kx0l"
      },
      "source": [
        ""
      ],
      "execution_count": null,
      "outputs": []
    }
  ]
}