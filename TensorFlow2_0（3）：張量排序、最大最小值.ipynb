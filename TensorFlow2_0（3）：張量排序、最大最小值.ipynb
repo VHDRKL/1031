{
  "nbformat": 4,
  "nbformat_minor": 0,
  "metadata": {
    "kernelspec": {
      "display_name": "study_python",
      "language": "python",
      "name": "study_python"
    },
    "language_info": {
      "codemirror_mode": {
        "name": "ipython",
        "version": 3
      },
      "file_extension": ".py",
      "mimetype": "text/x-python",
      "name": "python",
      "nbconvert_exporter": "python",
      "pygments_lexer": "ipython3",
      "version": "3.7.4"
    },
    "colab": {
      "name": "TensorFlow2.0（3）：張量排序、最大最小值.ipynb",
      "provenance": [],
      "include_colab_link": true
    }
  },
  "cells": [
    {
      "cell_type": "markdown",
      "metadata": {
        "id": "view-in-github",
        "colab_type": "text"
      },
      "source": [
        "<a href=\"https://colab.research.google.com/github/VHDRKL/1031/blob/main/TensorFlow2_0%EF%BC%883%EF%BC%89%EF%BC%9A%E5%BC%B5%E9%87%8F%E6%8E%92%E5%BA%8F%E3%80%81%E6%9C%80%E5%A4%A7%E6%9C%80%E5%B0%8F%E5%80%BC.ipynb\" target=\"_parent\"><img src=\"https://colab.research.google.com/assets/colab-badge.svg\" alt=\"Open In Colab\"/></a>"
      ]
    },
    {
      "cell_type": "markdown",
      "metadata": {
        "id": "fZdz3RJfFqef"
      },
      "source": [
        "# 1 排序"
      ]
    },
    {
      "cell_type": "markdown",
      "metadata": {
        "id": "1WokNKvDFqeg"
      },
      "source": [
        "# 1.1 sort：返回逆序排序後的Tensor"
      ]
    },
    {
      "cell_type": "code",
      "metadata": {
        "id": "_RiIHPx6Fqeh"
      },
      "source": [
        "import tensorflow as tf"
      ],
      "execution_count": null,
      "outputs": []
    },
    {
      "cell_type": "code",
      "metadata": {
        "id": "q2CVtj_1Fqem"
      },
      "source": [
        "a = tf.random.shuffle(tf.range(6))"
      ],
      "execution_count": null,
      "outputs": []
    },
    {
      "cell_type": "code",
      "metadata": {
        "id": "xHoR1qiHFqeq",
        "outputId": "96a64a4d-d913-4268-9514-9a736f90005e"
      },
      "source": [
        "a"
      ],
      "execution_count": null,
      "outputs": [
        {
          "output_type": "execute_result",
          "data": {
            "text/plain": [
              "<tf.Tensor: id=4, shape=(6,), dtype=int32, numpy=array([3, 1, 5, 2, 0, 4])>"
            ]
          },
          "metadata": {
            "tags": []
          },
          "execution_count": 5
        }
      ]
    },
    {
      "cell_type": "code",
      "metadata": {
        "id": "T4BFVRkEFqet",
        "outputId": "a79515d0-eb31-46c5-9efb-db272397288b"
      },
      "source": [
        "tf.sort(a)  # 默認是順序排列"
      ],
      "execution_count": null,
      "outputs": [
        {
          "output_type": "execute_result",
          "data": {
            "text/plain": [
              "<tf.Tensor: id=17, shape=(6,), dtype=int32, numpy=array([0, 1, 2, 3, 4, 5])>"
            ]
          },
          "metadata": {
            "tags": []
          },
          "execution_count": 6
        }
      ]
    },
    {
      "cell_type": "code",
      "metadata": {
        "id": "UohFmHvBFqew",
        "outputId": "988e9701-c6c2-48fc-9ece-e21afe4a8227"
      },
      "source": [
        "tf.sort(a, direction='ASCENDING')  # 默認順序排列"
      ],
      "execution_count": null,
      "outputs": [
        {
          "output_type": "execute_result",
          "data": {
            "text/plain": [
              "<tf.Tensor: id=30, shape=(6,), dtype=int32, numpy=array([0, 1, 2, 3, 4, 5])>"
            ]
          },
          "metadata": {
            "tags": []
          },
          "execution_count": 7
        }
      ]
    },
    {
      "cell_type": "code",
      "metadata": {
        "id": "z3KamtNGFqez",
        "outputId": "21bca986-7a9b-4448-c73a-6049e83c52a3"
      },
      "source": [
        "tf.sort(a, direction='DESCENDING')  # 指定逆序排列"
      ],
      "execution_count": null,
      "outputs": [
        {
          "output_type": "execute_result",
          "data": {
            "text/plain": [
              "<tf.Tensor: id=40, shape=(6,), dtype=int32, numpy=array([5, 4, 3, 2, 1, 0])>"
            ]
          },
          "metadata": {
            "tags": []
          },
          "execution_count": 8
        }
      ]
    },
    {
      "cell_type": "markdown",
      "metadata": {
        "id": "4DBup4bTFqe2"
      },
      "source": [
        "也對多維Tensor排序，當對多維Tensor進行排序時，可以通過axis參數指定需要排序的維度，默認axis默認值為-1，也就是對最後一維進行排序。"
      ]
    },
    {
      "cell_type": "code",
      "metadata": {
        "id": "0FAZHGmeFqe3"
      },
      "source": [
        "b = tf.random.uniform([3, 3], minval=1, maxval=10,dtype=tf.int32)"
      ],
      "execution_count": null,
      "outputs": []
    },
    {
      "cell_type": "code",
      "metadata": {
        "id": "zWgVehpYFqe7",
        "outputId": "315ab8cf-3de5-4c4b-fc76-36841acd59bb"
      },
      "source": [
        "b"
      ],
      "execution_count": null,
      "outputs": [
        {
          "output_type": "execute_result",
          "data": {
            "text/plain": [
              "<tf.Tensor: id=46, shape=(3, 3), dtype=int32, numpy=\n",
              "array([[1, 2, 1],\n",
              "       [9, 6, 3],\n",
              "       [6, 4, 1]])>"
            ]
          },
          "metadata": {
            "tags": []
          },
          "execution_count": 10
        }
      ]
    },
    {
      "cell_type": "code",
      "metadata": {
        "id": "I-6VUbe-Fqe9",
        "outputId": "f07cbced-bea9-4595-bc69-2f6bbd0cbd66"
      },
      "source": [
        "tf.sort(b)"
      ],
      "execution_count": null,
      "outputs": [
        {
          "output_type": "execute_result",
          "data": {
            "text/plain": [
              "<tf.Tensor: id=59, shape=(3, 3), dtype=int32, numpy=\n",
              "array([[1, 1, 2],\n",
              "       [3, 6, 9],\n",
              "       [1, 4, 6]])>"
            ]
          },
          "metadata": {
            "tags": []
          },
          "execution_count": 11
        }
      ]
    },
    {
      "cell_type": "code",
      "metadata": {
        "id": "U4LnkdN_FqfA",
        "outputId": "ed0929e9-a644-459e-c7e8-3f3491302932"
      },
      "source": [
        "tf.sort(b,axis=0)  # 通過axis參數指定第一維度，也就是列進行排序"
      ],
      "execution_count": null,
      "outputs": [
        {
          "output_type": "execute_result",
          "data": {
            "text/plain": [
              "<tf.Tensor: id=91, shape=(3, 3), dtype=int32, numpy=\n",
              "array([[1, 2, 1],\n",
              "       [6, 4, 1],\n",
              "       [9, 6, 3]])>"
            ]
          },
          "metadata": {
            "tags": []
          },
          "execution_count": 13
        }
      ]
    },
    {
      "cell_type": "markdown",
      "metadata": {
        "id": "TBtM7I1fFqfE"
      },
      "source": [
        "# 1.2 argsort：返回排序後的索引"
      ]
    },
    {
      "cell_type": "code",
      "metadata": {
        "id": "ZF0gRZkIFqfE",
        "outputId": "b8dff7e7-270c-4d85-beb9-099041d8a1c3"
      },
      "source": [
        "a"
      ],
      "execution_count": null,
      "outputs": [
        {
          "output_type": "execute_result",
          "data": {
            "text/plain": [
              "<tf.Tensor: id=4, shape=(6,), dtype=int32, numpy=array([1, 3, 2, 4, 5, 0])>"
            ]
          },
          "metadata": {
            "tags": []
          },
          "execution_count": 13
        }
      ]
    },
    {
      "cell_type": "code",
      "metadata": {
        "id": "vS_ei5DCFqfH",
        "outputId": "2f4e1d87-d44c-4ced-dc2a-d8c42dd55d13"
      },
      "source": [
        "tf.argsort(a, direction='ASCENDING') # 返回排序之後的索引組成的Tensor, 默認是順序排列"
      ],
      "execution_count": null,
      "outputs": [
        {
          "output_type": "execute_result",
          "data": {
            "text/plain": [
              "<tf.Tensor: id=125, shape=(6,), dtype=int32, numpy=array([5, 0, 2, 1, 3, 4])>"
            ]
          },
          "metadata": {
            "tags": []
          },
          "execution_count": 16
        }
      ]
    },
    {
      "cell_type": "code",
      "metadata": {
        "id": "ObufboDrFqfK",
        "outputId": "bfd387fe-c6e8-4d66-fad1-e17309abdcdc"
      },
      "source": [
        "tf.argsort(a, direction='DESCENDING') # n逆序排列"
      ],
      "execution_count": null,
      "outputs": [
        {
          "output_type": "execute_result",
          "data": {
            "text/plain": [
              "<tf.Tensor: id=136, shape=(6,), dtype=int32, numpy=array([4, 3, 1, 2, 0, 5])>"
            ]
          },
          "metadata": {
            "tags": []
          },
          "execution_count": 17
        }
      ]
    },
    {
      "cell_type": "markdown",
      "metadata": {
        "id": "v3U66BKYFqfO"
      },
      "source": [
        "可以通過axis參數指定需要排序的維度，默認獲取-1維度排序後索引："
      ]
    },
    {
      "cell_type": "code",
      "metadata": {
        "id": "-JpaLjvCFqfO",
        "outputId": "76da9a38-51ff-4032-d190-65962967b2a7"
      },
      "source": [
        "b"
      ],
      "execution_count": null,
      "outputs": [
        {
          "output_type": "execute_result",
          "data": {
            "text/plain": [
              "<tf.Tensor: id=46, shape=(3, 3), dtype=int32, numpy=\n",
              "array([[1, 2, 1],\n",
              "       [9, 6, 3],\n",
              "       [6, 4, 1]])>"
            ]
          },
          "metadata": {
            "tags": []
          },
          "execution_count": 14
        }
      ]
    },
    {
      "cell_type": "code",
      "metadata": {
        "id": "kOChPeJ0FqfR",
        "outputId": "379a8791-5a3d-431b-9519-5398f9180a45"
      },
      "source": [
        "tf.argsort(b)  # 默認對最後一維度排序，也就是以行為單位排序"
      ],
      "execution_count": null,
      "outputs": [
        {
          "output_type": "execute_result",
          "data": {
            "text/plain": [
              "<tf.Tensor: id=134, shape=(3, 3), dtype=int32, numpy=\n",
              "array([[0, 2, 1],\n",
              "       [2, 1, 0],\n",
              "       [2, 1, 0]])>"
            ]
          },
          "metadata": {
            "tags": []
          },
          "execution_count": 17
        }
      ]
    },
    {
      "cell_type": "code",
      "metadata": {
        "id": "-FddZn2TFqfU",
        "outputId": "b20c24f4-9953-4abe-9c10-78f44e82e38d"
      },
      "source": [
        "tf.argsort(b,axis=0)  # 指定第一維度進行排序，也就是以列為單位進行排序"
      ],
      "execution_count": null,
      "outputs": [
        {
          "output_type": "execute_result",
          "data": {
            "text/plain": [
              "<tf.Tensor: id=149, shape=(3, 3), dtype=int32, numpy=\n",
              "array([[0, 0, 0],\n",
              "       [2, 2, 2],\n",
              "       [1, 1, 1]])>"
            ]
          },
          "metadata": {
            "tags": []
          },
          "execution_count": 18
        }
      ]
    },
    {
      "cell_type": "markdown",
      "metadata": {
        "id": "aRKF_tFJFqfX"
      },
      "source": [
        "返回的張量中，每一個元素表示b中原來元素在該行中的索引。"
      ]
    },
    {
      "cell_type": "markdown",
      "metadata": {
        "id": "gMBDzylgFqfX"
      },
      "source": [
        "# 1.3 top_k：返回逆序排序後的前$k$個元素組成的Tensor"
      ]
    },
    {
      "cell_type": "markdown",
      "metadata": {
        "id": "1b6ePMfFFqfY"
      },
      "source": [
        "sort()方法和argsort()方法都是對給定Tensor的所有元素進行排序，在某些情況下如果我們只是要獲取排序的前幾個元素，這時候使用sort()或argsort()方法就有些浪費時間了，這時候可以使用top_k()方法。top_k()方法可以指定獲取前k個元素。"
      ]
    },
    {
      "cell_type": "markdown",
      "metadata": {
        "id": "jojybv3SFqfZ"
      },
      "source": [
        "注意：top_k()方法在tf.math模塊中。"
      ]
    },
    {
      "cell_type": "code",
      "metadata": {
        "id": "MXqNHwfsFqfa",
        "outputId": "ada54d03-7257-4360-eee6-a21747a5bb53"
      },
      "source": [
        "a"
      ],
      "execution_count": null,
      "outputs": [
        {
          "output_type": "execute_result",
          "data": {
            "text/plain": [
              "<tf.Tensor: id=4, shape=(6,), dtype=int32, numpy=array([3, 1, 5, 2, 0, 4])>"
            ]
          },
          "metadata": {
            "tags": []
          },
          "execution_count": 19
        }
      ]
    },
    {
      "cell_type": "code",
      "metadata": {
        "id": "Llurh4FtFqfe"
      },
      "source": [
        "top_2 = tf.math.top_k(a, 2)  # 獲取排序後前兩位"
      ],
      "execution_count": null,
      "outputs": []
    },
    {
      "cell_type": "code",
      "metadata": {
        "id": "TX55I_PsFqfg",
        "outputId": "d300c0fb-be71-4ffa-a683-662f80fb1642"
      },
      "source": [
        "top_2"
      ],
      "execution_count": null,
      "outputs": [
        {
          "output_type": "execute_result",
          "data": {
            "text/plain": [
              "TopKV2(values=<tf.Tensor: id=153, shape=(2,), dtype=int32, numpy=array([5, 4])>, indices=<tf.Tensor: id=154, shape=(2,), dtype=int32, numpy=array([2, 5])>)"
            ]
          },
          "metadata": {
            "tags": []
          },
          "execution_count": 21
        }
      ]
    },
    {
      "cell_type": "markdown",
      "metadata": {
        "id": "82xGE6RyFqfj"
      },
      "source": [
        "從上述輸出可以看到，top_k()方法返回的是一個TopKV2類型對象，內部包含兩部分數據：第一部分是排序後的真實數據[5, 4]，可以通過TopKV2對象的values屬性獲取；第二部分是排序後數據所在原Tensor中的索引[2, 5]，可以通過TopKV2對象的indices獲取。"
      ]
    },
    {
      "cell_type": "code",
      "metadata": {
        "id": "IO6CM-SRFqfk",
        "outputId": "054a07c6-f4b9-4742-b097-315cd17ece0c"
      },
      "source": [
        "top_2.values"
      ],
      "execution_count": null,
      "outputs": [
        {
          "output_type": "execute_result",
          "data": {
            "text/plain": [
              "<tf.Tensor: id=153, shape=(2,), dtype=int32, numpy=array([5, 4])>"
            ]
          },
          "metadata": {
            "tags": []
          },
          "execution_count": 22
        }
      ]
    },
    {
      "cell_type": "code",
      "metadata": {
        "id": "hZTL5HUiFqfm",
        "outputId": "daad31e2-15ec-4ffb-963c-d14273592e3f"
      },
      "source": [
        "top_2.indices"
      ],
      "execution_count": null,
      "outputs": [
        {
          "output_type": "execute_result",
          "data": {
            "text/plain": [
              "<tf.Tensor: id=154, shape=(2,), dtype=int32, numpy=array([2, 5])>"
            ]
          },
          "metadata": {
            "tags": []
          },
          "execution_count": 23
        }
      ]
    },
    {
      "cell_type": "markdown",
      "metadata": {
        "id": "h4ipQrNoFqfs"
      },
      "source": [
        "對於高維Tensor也是一樣的:"
      ]
    },
    {
      "cell_type": "code",
      "metadata": {
        "id": "y9ypdtU6Fqfs",
        "outputId": "563ae061-fa6b-4689-e96f-bb6fd8e58ee7"
      },
      "source": [
        "b"
      ],
      "execution_count": null,
      "outputs": [
        {
          "output_type": "execute_result",
          "data": {
            "text/plain": [
              "<tf.Tensor: id=152, shape=(3, 3), dtype=int32, numpy=\n",
              "array([[7, 9, 7],\n",
              "       [4, 3, 1],\n",
              "       [1, 1, 6]])>"
            ]
          },
          "metadata": {
            "tags": []
          },
          "execution_count": 37
        }
      ]
    },
    {
      "cell_type": "code",
      "metadata": {
        "id": "IaA6dDpiFqfv",
        "outputId": "e26bb52b-a769-47b2-9585-280a0de3c7aa"
      },
      "source": [
        "tf.math.top_k(b, 2)"
      ],
      "execution_count": null,
      "outputs": [
        {
          "output_type": "execute_result",
          "data": {
            "text/plain": [
              "TopKV2(values=<tf.Tensor: id=211, shape=(3, 2), dtype=int32, numpy=\n",
              "array([[9, 7],\n",
              "       [4, 3],\n",
              "       [6, 1]])>, indices=<tf.Tensor: id=212, shape=(3, 2), dtype=int32, numpy=\n",
              "array([[1, 0],\n",
              "       [0, 1],\n",
              "       [2, 0]])>)"
            ]
          },
          "metadata": {
            "tags": []
          },
          "execution_count": 39
        }
      ]
    },
    {
      "cell_type": "markdown",
      "metadata": {
        "id": "HjuvLYd6Fqfz"
      },
      "source": [
        "注意：top_k()方法只能對最後一維度進行排序。"
      ]
    },
    {
      "cell_type": "markdown",
      "metadata": {
        "id": "KN5Y2ABPFqfz"
      },
      "source": [
        "# 2 最小值、最大值、平均值"
      ]
    },
    {
      "cell_type": "markdown",
      "metadata": {
        "id": "wF7PWL8oFqf0"
      },
      "source": [
        "# 2.1 reduce_min、reduce_max、reduce_mean"
      ]
    },
    {
      "cell_type": "markdown",
      "metadata": {
        "id": "nvLbvTFIFqf0"
      },
      "source": [
        "**（1）reduce_min()：求最小值**"
      ]
    },
    {
      "cell_type": "code",
      "metadata": {
        "id": "faQ4rf99Fqf1"
      },
      "source": [
        "a = tf.random.uniform([3, 3], minval=1, maxval=10, dtype=tf.int32)"
      ],
      "execution_count": null,
      "outputs": []
    },
    {
      "cell_type": "code",
      "metadata": {
        "id": "lijVrtG0Fqf3",
        "outputId": "9daa7cb2-016b-47f4-c065-98d22f131f6e"
      },
      "source": [
        "a"
      ],
      "execution_count": null,
      "outputs": [
        {
          "output_type": "execute_result",
          "data": {
            "text/plain": [
              "<tf.Tensor: id=162, shape=(3, 3), dtype=int32, numpy=\n",
              "array([[4, 9, 5],\n",
              "       [8, 6, 1],\n",
              "       [8, 7, 1]])>"
            ]
          },
          "metadata": {
            "tags": []
          },
          "execution_count": 28
        }
      ]
    },
    {
      "cell_type": "markdown",
      "metadata": {
        "id": "YaKkjh9DFqf6"
      },
      "source": [
        "不指定維度時，獲取整個Tensor的最小值："
      ]
    },
    {
      "cell_type": "code",
      "metadata": {
        "id": "bbLzkkpDFqf6",
        "outputId": "2a548300-51f3-4774-b88b-47d4eb356d5d"
      },
      "source": [
        "tf.reduce_min(a)  # 最小值"
      ],
      "execution_count": null,
      "outputs": [
        {
          "output_type": "execute_result",
          "data": {
            "text/plain": [
              "<tf.Tensor: id=169, shape=(), dtype=int32, numpy=1>"
            ]
          },
          "metadata": {
            "tags": []
          },
          "execution_count": 29
        }
      ]
    },
    {
      "cell_type": "markdown",
      "metadata": {
        "id": "kn0f3v7rFqf8"
      },
      "source": [
        "通過axis參數可以對指定維度求最小值："
      ]
    },
    {
      "cell_type": "code",
      "metadata": {
        "id": "hx8V-Q5_Fqf9",
        "outputId": "91d183f0-1e2f-4352-bbb8-b57850b0ddcd"
      },
      "source": [
        " tf.reduce_min(a, axis=0)  # 求指定維度的最小值"
      ],
      "execution_count": null,
      "outputs": [
        {
          "output_type": "execute_result",
          "data": {
            "text/plain": [
              "<tf.Tensor: id=172, shape=(3,), dtype=int32, numpy=array([4, 6, 1])>"
            ]
          },
          "metadata": {
            "tags": []
          },
          "execution_count": 30
        }
      ]
    },
    {
      "cell_type": "markdown",
      "metadata": {
        "id": "A2nCvmgOFqf_"
      },
      "source": [
        "**（2）reduce_max():求最大值**"
      ]
    },
    {
      "cell_type": "code",
      "metadata": {
        "id": "N9-x4gukFqgA",
        "outputId": "87b563eb-f18d-4c0f-a439-3923387ffc29"
      },
      "source": [
        "tf.reduce_max(a)  # 最大值"
      ],
      "execution_count": null,
      "outputs": [
        {
          "output_type": "execute_result",
          "data": {
            "text/plain": [
              "<tf.Tensor: id=175, shape=(), dtype=int32, numpy=9>"
            ]
          },
          "metadata": {
            "tags": []
          },
          "execution_count": 31
        }
      ]
    },
    {
      "cell_type": "code",
      "metadata": {
        "id": "dLrIV0TCFqgC",
        "outputId": "05cf272e-486b-4fcd-c705-15d04b1b1cde"
      },
      "source": [
        " tf.reduce_max(a, axis=-1)  # 求最後一維度的最大值"
      ],
      "execution_count": null,
      "outputs": [
        {
          "output_type": "execute_result",
          "data": {
            "text/plain": [
              "<tf.Tensor: id=190, shape=(3,), dtype=int32, numpy=array([9, 8, 8])>"
            ]
          },
          "metadata": {
            "tags": []
          },
          "execution_count": 36
        }
      ]
    },
    {
      "cell_type": "markdown",
      "metadata": {
        "id": "pBr3rXnLFqgE"
      },
      "source": [
        "**（3）reduce_mean():求平均值**"
      ]
    },
    {
      "cell_type": "markdown",
      "metadata": {
        "id": "btCX_4pEFqgE"
      },
      "source": [
        "不指定維度時，求整個Tensor所有元素的平均值："
      ]
    },
    {
      "cell_type": "code",
      "metadata": {
        "id": "3ZAvaOyuFqgF",
        "outputId": "b2943394-c55c-4b17-e7bc-aeec22325a3d"
      },
      "source": [
        " tf.reduce_mean(a)  # 整個Tensor所有元素的平均值"
      ],
      "execution_count": null,
      "outputs": [
        {
          "output_type": "execute_result",
          "data": {
            "text/plain": [
              "<tf.Tensor: id=227, shape=(), dtype=int32, numpy=4>"
            ]
          },
          "metadata": {
            "tags": []
          },
          "execution_count": 44
        }
      ]
    },
    {
      "cell_type": "code",
      "metadata": {
        "id": "7cipc8tbFqgH",
        "outputId": "11fc75ca-21f8-4461-98bb-2d59ad171d41"
      },
      "source": [
        "tf.reduce_mean(a, axis=0)  # 求第一維度（行）均值"
      ],
      "execution_count": null,
      "outputs": [
        {
          "output_type": "execute_result",
          "data": {
            "text/plain": [
              "<tf.Tensor: id=196, shape=(3,), dtype=int32, numpy=array([6, 7, 2])>"
            ]
          },
          "metadata": {
            "tags": []
          },
          "execution_count": 38
        }
      ]
    },
    {
      "cell_type": "markdown",
      "metadata": {
        "id": "VcjbG8qBFqgJ"
      },
      "source": [
        "在上面求均值的例子中，因為Tensor的dtype為int32，所以求出來的均值也是int32，而不是浮點型。如果需要求浮點型的均值，就需要將a的類型先轉換為float32："
      ]
    },
    {
      "cell_type": "code",
      "metadata": {
        "id": "dD8m4RBxFqgK",
        "outputId": "9530d6b1-6122-4a8f-c1c0-2358f6647375"
      },
      "source": [
        "tf.reduce_mean(tf.cast(a, tf.float32), axis=0)"
      ],
      "execution_count": null,
      "outputs": [
        {
          "output_type": "execute_result",
          "data": {
            "text/plain": [
              "<tf.Tensor: id=200, shape=(3,), dtype=float32, numpy=array([6.6666665, 7.3333335, 2.3333333], dtype=float32)>"
            ]
          },
          "metadata": {
            "tags": []
          },
          "execution_count": 39
        }
      ]
    },
    {
      "cell_type": "markdown",
      "metadata": {
        "id": "831Q2cElFqgM"
      },
      "source": [
        "# 2.2 argmin()、argmax()"
      ]
    },
    {
      "cell_type": "markdown",
      "metadata": {
        "id": "zUttMp58FqgN"
      },
      "source": [
        "argmin()、argmax()返回最大值最小值的索引組成的Tensor。"
      ]
    },
    {
      "cell_type": "markdown",
      "metadata": {
        "id": "03WEgmRpFqgN"
      },
      "source": [
        "**（1）argmin():求最小值索引**"
      ]
    },
    {
      "cell_type": "code",
      "metadata": {
        "id": "E6wiCRR3FqgO"
      },
      "source": [
        "a = tf.random.uniform([3,3],minval=1, maxval=10, dtype=tf.int32)"
      ],
      "execution_count": null,
      "outputs": []
    },
    {
      "cell_type": "code",
      "metadata": {
        "id": "_w-PkoANFqgQ",
        "outputId": "19769951-7282-4788-c4c5-2e2a9f2bc6d6"
      },
      "source": [
        "a"
      ],
      "execution_count": null,
      "outputs": [
        {
          "output_type": "execute_result",
          "data": {
            "text/plain": [
              "<tf.Tensor: id=205, shape=(3, 3), dtype=int32, numpy=\n",
              "array([[5, 6, 1],\n",
              "       [3, 7, 2],\n",
              "       [7, 1, 6]])>"
            ]
          },
          "metadata": {
            "tags": []
          },
          "execution_count": 41
        }
      ]
    },
    {
      "cell_type": "code",
      "metadata": {
        "id": "EPndtwqiFqgS"
      },
      "source": [
        "b = tf.random.uniform([3,3,3],minval=1, maxval=10, dtype=tf.int32)"
      ],
      "execution_count": null,
      "outputs": []
    },
    {
      "cell_type": "code",
      "metadata": {
        "id": "sk12CbFyFqgU",
        "outputId": "70033032-b3be-485a-ffdd-9d8f0dc9fdc4"
      },
      "source": [
        "b"
      ],
      "execution_count": null,
      "outputs": [
        {
          "output_type": "execute_result",
          "data": {
            "text/plain": [
              "<tf.Tensor: id=210, shape=(3, 3, 3), dtype=int32, numpy=\n",
              "array([[[5, 4, 7],\n",
              "        [4, 3, 9],\n",
              "        [5, 3, 6]],\n",
              "\n",
              "       [[9, 5, 3],\n",
              "        [3, 2, 7],\n",
              "        [5, 6, 1]],\n",
              "\n",
              "       [[9, 9, 5],\n",
              "        [5, 4, 4],\n",
              "        [7, 1, 1]]])>"
            ]
          },
          "metadata": {
            "tags": []
          },
          "execution_count": 43
        }
      ]
    },
    {
      "cell_type": "code",
      "metadata": {
        "id": "dLVn788YFqgX",
        "outputId": "b96ca081-b1bd-459f-bc95-e4082253c909"
      },
      "source": [
        "tf.argmin(a)  # 默認是第0維度"
      ],
      "execution_count": null,
      "outputs": [
        {
          "output_type": "execute_result",
          "data": {
            "text/plain": [
              "<tf.Tensor: id=213, shape=(3,), dtype=int64, numpy=array([1, 2, 0], dtype=int64)>"
            ]
          },
          "metadata": {
            "tags": []
          },
          "execution_count": 44
        }
      ]
    },
    {
      "cell_type": "code",
      "metadata": {
        "id": "H3QHKmCXFqgZ",
        "outputId": "ef0ddba5-2a3b-4e23-f82d-ded4ae7504f3"
      },
      "source": [
        "tf.argmin(b)"
      ],
      "execution_count": null,
      "outputs": [
        {
          "output_type": "execute_result",
          "data": {
            "text/plain": [
              "<tf.Tensor: id=216, shape=(3, 3), dtype=int64, numpy=\n",
              "array([[0, 0, 1],\n",
              "       [1, 1, 2],\n",
              "       [0, 2, 1]], dtype=int64)>"
            ]
          },
          "metadata": {
            "tags": []
          },
          "execution_count": 45
        }
      ]
    },
    {
      "cell_type": "markdown",
      "metadata": {
        "id": "_f4GcTjBFqgc"
      },
      "source": [
        "對於shape為（3, 3）的Tensor，argmin(a)返回的是shape為（3,）的Tensor，因為沒有指定比較的維度，默認比較的是第0維度的元素，也就是每一列數據；對於shape為（3，3,3）的Tensor，argmin(a)返回的是shape為（3,3）的Tensor，默認比較的是第0維度的元素，也就是每一塊對應位置的元素，例如第一塊的5、第二塊的9、第三塊的9比較，第一塊的5最小，索引為0，所以返回的Tensor中第一個元素是0。"
      ]
    },
    {
      "cell_type": "markdown",
      "metadata": {
        "id": "oRIiollvFqgd"
      },
      "source": [
        "注意：argmin()方法在沒有指定維度時，默認返回的是第0維度最小值的索引，這與reducemin()方法不同，reducemin()方法在沒有指定維度是是返回整個Tensor中所有元素中的最小值。"
      ]
    },
    {
      "cell_type": "markdown",
      "metadata": {
        "id": "b2ZFDDN0Fqgd"
      },
      "source": [
        "**（2）argmax():求最大值索引**"
      ]
    },
    {
      "cell_type": "code",
      "metadata": {
        "id": "0Pn6PCYuFqgf"
      },
      "source": [
        "a = tf.random.uniform([3,3,3],minval=1, maxval=10, dtype=tf.int32)"
      ],
      "execution_count": null,
      "outputs": []
    },
    {
      "cell_type": "code",
      "metadata": {
        "id": "F1m0nrYcFqgh",
        "outputId": "71ab0e71-a29d-40eb-8d30-b44dfbca3b86"
      },
      "source": [
        "a"
      ],
      "execution_count": null,
      "outputs": [
        {
          "output_type": "execute_result",
          "data": {
            "text/plain": [
              "<tf.Tensor: id=221, shape=(3, 3, 3), dtype=int32, numpy=\n",
              "array([[[1, 2, 7],\n",
              "        [9, 3, 3],\n",
              "        [5, 4, 8]],\n",
              "\n",
              "       [[8, 5, 1],\n",
              "        [2, 6, 5],\n",
              "        [2, 1, 2]],\n",
              "\n",
              "       [[8, 9, 7],\n",
              "        [3, 3, 9],\n",
              "        [7, 7, 2]]])>"
            ]
          },
          "metadata": {
            "tags": []
          },
          "execution_count": 47
        }
      ]
    },
    {
      "cell_type": "code",
      "metadata": {
        "id": "cOfyrGJnFqgk",
        "outputId": "a3548658-0987-48e5-ea61-e25732bb2056"
      },
      "source": [
        "tf.argmax(a, axis=0)  # 第一維度，也就是每一塊"
      ],
      "execution_count": null,
      "outputs": [
        {
          "output_type": "execute_result",
          "data": {
            "text/plain": [
              "<tf.Tensor: id=233, shape=(3, 3), dtype=int64, numpy=\n",
              "array([[1, 2, 0],\n",
              "       [0, 1, 2],\n",
              "       [2, 2, 0]], dtype=int64)>"
            ]
          },
          "metadata": {
            "tags": []
          },
          "execution_count": 51
        }
      ]
    },
    {
      "cell_type": "code",
      "metadata": {
        "id": "PlqJ2e-AFqgm",
        "outputId": "29a7fcf2-f6a3-4b89-d782-61b6763200d3"
      },
      "source": [
        "tf.argmax(a, axis=2)  # 第三維度，也就是每一行"
      ],
      "execution_count": null,
      "outputs": [
        {
          "output_type": "execute_result",
          "data": {
            "text/plain": [
              "<tf.Tensor: id=236, shape=(3, 3), dtype=int64, numpy=\n",
              "array([[2, 0, 2],\n",
              "       [0, 1, 0],\n",
              "       [1, 2, 0]], dtype=int64)>"
            ]
          },
          "metadata": {
            "tags": []
          },
          "execution_count": 52
        }
      ]
    }
  ]
}