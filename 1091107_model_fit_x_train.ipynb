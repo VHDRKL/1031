{
  "nbformat": 4,
  "nbformat_minor": 0,
  "metadata": {
    "colab": {
      "name": "1091107_model_fit_x_train1.ipynb",
      "provenance": [],
      "collapsed_sections": [],
      "include_colab_link": true
    },
    "kernelspec": {
      "name": "python3",
      "display_name": "Python 3"
    }
  },
  "cells": [
    {
      "cell_type": "markdown",
      "metadata": {
        "id": "view-in-github",
        "colab_type": "text"
      },
      "source": [
        "<a href=\"https://colab.research.google.com/github/VHDRKL/1031/blob/main/1091107_model_fit_x_train.ipynb\" target=\"_parent\"><img src=\"https://colab.research.google.com/assets/colab-badge.svg\" alt=\"Open In Colab\"/></a>"
      ]
    },
    {
      "cell_type": "code",
      "metadata": {
        "id": "cUmPEwP1QjZa",
        "outputId": "b9d5250f-6be6-4a72-f84e-85fa33dc4818",
        "colab": {
          "base_uri": "https://localhost:8080/"
        }
      },
      "source": [
        "import tensorflow as tf\n",
        "from tensorflow.keras import layers\n",
        "x=tf.random.normal([4, 28*28])\n",
        "f1=layers.Dense(512, activation='relu')\n",
        "f2=layers.Dense(256, activation='relu')\n",
        "f3=layers.Dense(128, activation='relu')\n",
        "f4=layers.Dense(64, activation='relu')\n",
        "f5=layers.Dense(32, activation='relu')\n",
        "f6=layers.Dense(16, activation='relu')\n",
        "f7=layers.Dense(10, activation='softmax')\n",
        "h1=f1(x)\n",
        "h2=f2(h1)\n",
        "h3=f3(h2)\n",
        "h4=f4(h3)\n",
        "h5=f5(h4)\n",
        "h6=f6(h5)\n",
        "h7=f7(h6)\n",
        "f7.variables #weight [16,10], bias 10\n"
      ],
      "execution_count": 1,
      "outputs": [
        {
          "output_type": "execute_result",
          "data": {
            "text/plain": [
              "[<tf.Variable 'dense_6/kernel:0' shape=(16, 10) dtype=float32, numpy=\n",
              " array([[ 0.06024367,  0.27437794, -0.05702966,  0.08702677,  0.19500202,\n",
              "         -0.38063988,  0.24673676,  0.10706806, -0.43102574, -0.3181508 ],\n",
              "        [ 0.42614675, -0.29034638, -0.38925755, -0.2923262 , -0.25562412,\n",
              "          0.21149278,  0.43091226,  0.21667069,  0.35278922,  0.34340692],\n",
              "        [ 0.0557636 , -0.3448348 ,  0.07592344,  0.3088836 , -0.37602168,\n",
              "          0.08238339,  0.08689028, -0.44558123, -0.01469237,  0.32225436],\n",
              "        [ 0.32989943,  0.30515188,  0.14999062,  0.00084272,  0.03739399,\n",
              "          0.36138052, -0.24084187, -0.33339506, -0.44585943,  0.0185765 ],\n",
              "        [-0.41697603,  0.27316034,  0.19391727,  0.43433517, -0.10608134,\n",
              "          0.3389938 , -0.37636358,  0.14793152, -0.1286256 ,  0.17675722],\n",
              "        [-0.12794366,  0.18864536, -0.2721647 ,  0.22014892, -0.1757791 ,\n",
              "         -0.14193907,  0.40054655, -0.47755197, -0.22632164,  0.04668635],\n",
              "        [-0.19275695,  0.19864303, -0.32342774,  0.08278459,  0.01789618,\n",
              "         -0.3694189 ,  0.43768007, -0.31481743, -0.17665768,  0.18780893],\n",
              "        [-0.2978632 ,  0.2110604 ,  0.2363553 , -0.3670932 ,  0.24669927,\n",
              "          0.02783853,  0.22726929,  0.37422627, -0.31196076, -0.2472352 ],\n",
              "        [-0.22582617, -0.30518776,  0.32134235, -0.09896439, -0.02776271,\n",
              "          0.22393477,  0.3330809 , -0.4327615 ,  0.23277271,  0.17282486],\n",
              "        [ 0.19209462,  0.41482854, -0.22526702, -0.1563758 , -0.25096264,\n",
              "          0.21078748, -0.16298032,  0.02846408, -0.33625507,  0.45114005],\n",
              "        [-0.11198491, -0.22860703, -0.31200543,  0.24447715, -0.16889524,\n",
              "         -0.31741342,  0.23761308,  0.44176042, -0.02236935, -0.46015194],\n",
              "        [-0.2622448 ,  0.31826097, -0.37508675, -0.26462764, -0.43130416,\n",
              "          0.38746738, -0.4485374 ,  0.05873793,  0.28635496, -0.2674899 ],\n",
              "        [ 0.07724822, -0.3964898 , -0.35395035, -0.39427316, -0.01088461,\n",
              "         -0.31856287, -0.20943555,  0.40944755,  0.17224842,  0.02548051],\n",
              "        [ 0.26375914, -0.12092292,  0.22826803, -0.09102398, -0.2276775 ,\n",
              "          0.08816868,  0.03871924, -0.39387745, -0.24195375,  0.36464977],\n",
              "        [ 0.303021  , -0.27572024, -0.3614828 , -0.27471384,  0.23003918,\n",
              "          0.37646747, -0.35911232,  0.37255526, -0.3122606 ,  0.36054814],\n",
              "        [ 0.28610826,  0.0242548 , -0.13094166, -0.07813114,  0.18288606,\n",
              "         -0.2560612 , -0.01871738,  0.04526031,  0.0409984 , -0.2599514 ]],\n",
              "       dtype=float32)>,\n",
              " <tf.Variable 'dense_6/bias:0' shape=(10,) dtype=float32, numpy=array([0., 0., 0., 0., 0., 0., 0., 0., 0., 0.], dtype=float32)>]"
            ]
          },
          "metadata": {
            "tags": []
          },
          "execution_count": 1
        }
      ]
    },
    {
      "cell_type": "markdown",
      "metadata": {
        "id": "wJDXvJFBXUlL"
      },
      "source": [
        "model=Model(in, out) #使用functional model"
      ]
    },
    {
      "cell_type": "code",
      "metadata": {
        "id": "9ZjQU1InR5fU",
        "outputId": "f57db5af-ac1d-49f0-8a72-14bfbe1c39fd",
        "colab": {
          "base_uri": "https://localhost:8080/"
        }
      },
      "source": [
        "import tensorflow as tf\n",
        "from tensorflow.keras import layers\n",
        "x=tf.random.normal([4, 28*28])\n",
        "h1=layers.Dense(512, activation='relu',name='f1')(x)\n",
        "h2=layers.Dense(256, activation='relu',name='f2')(h1)\n",
        "h3=layers.Dense(128, activation='relu',name='f3')(h2)\n",
        "h4=layers.Dense(64, activation='relu',name='f4')(h3)\n",
        "h5=layers.Dense(32, activation='relu',name='f5')(h4)\n",
        "h6=layers.Dense(16, activation='relu',name='f6')(h5)\n",
        "h7=layers.Dense(10, activation='softmax',name='f7')(h6)\n",
        "h3.shape\n",
        "\n"
      ],
      "execution_count": 2,
      "outputs": [
        {
          "output_type": "execute_result",
          "data": {
            "text/plain": [
              "TensorShape([4, 128])"
            ]
          },
          "metadata": {
            "tags": []
          },
          "execution_count": 2
        }
      ]
    },
    {
      "cell_type": "code",
      "metadata": {
        "id": "wjuiLoHiW3Cd",
        "outputId": "feb3f3ab-1cb0-4fcf-8c95-5ed9ab617354",
        "colab": {
          "base_uri": "https://localhost:8080/"
        }
      },
      "source": [
        "import tensorflow as tf\n",
        "from tensorflow.keras import layers\n",
        "from tensorflow.keras.models import Model, Sequential\n",
        "\n",
        "#x=tf.random.normal([4, 28*28])\n",
        "x=layers.Input(shape=[784])\n",
        "h1=layers.Dense(512, activation='relu',name='f1')(x)\n",
        "h2=layers.Dense(256, activation='relu',name='f2')(h1)\n",
        "h3=layers.Dense(128, activation='relu',name='f3')(h2)\n",
        "h4=layers.Dense(64, activation='relu',name='f4')(h3)\n",
        "h5=layers.Dense(32, activation='relu',name='f5')(h4)\n",
        "h6=layers.Dense(16, use_bias=True, activation='relu',name='f6')(h5)\n",
        "h7=layers.Dense(10, use_bias=True, activation='softmax',name='f7')(h6)\n",
        "print(h7)\n",
        "model=Model(x, h7) #使用functional model\n",
        "model.summary()\n",
        "\n"
      ],
      "execution_count": 3,
      "outputs": [
        {
          "output_type": "stream",
          "text": [
            "Tensor(\"f7/Softmax:0\", shape=(None, 10), dtype=float32)\n",
            "Model: \"functional_1\"\n",
            "_________________________________________________________________\n",
            "Layer (type)                 Output Shape              Param #   \n",
            "=================================================================\n",
            "input_1 (InputLayer)         [(None, 784)]             0         \n",
            "_________________________________________________________________\n",
            "f1 (Dense)                   (None, 512)               401920    \n",
            "_________________________________________________________________\n",
            "f2 (Dense)                   (None, 256)               131328    \n",
            "_________________________________________________________________\n",
            "f3 (Dense)                   (None, 128)               32896     \n",
            "_________________________________________________________________\n",
            "f4 (Dense)                   (None, 64)                8256      \n",
            "_________________________________________________________________\n",
            "f5 (Dense)                   (None, 32)                2080      \n",
            "_________________________________________________________________\n",
            "f6 (Dense)                   (None, 16)                528       \n",
            "_________________________________________________________________\n",
            "f7 (Dense)                   (None, 10)                170       \n",
            "=================================================================\n",
            "Total params: 577,178\n",
            "Trainable params: 577,178\n",
            "Non-trainable params: 0\n",
            "_________________________________________________________________\n"
          ],
          "name": "stdout"
        }
      ]
    },
    {
      "cell_type": "markdown",
      "metadata": {
        "id": "s8i_CUSvZ7mj"
      },
      "source": [
        "model=Sequential([ ,  ,  , ]) \n"
      ]
    },
    {
      "cell_type": "code",
      "metadata": {
        "id": "kknRk96AZ5L0",
        "outputId": "3859278f-1d05-4eff-bf4f-a895ebee8a7a",
        "colab": {
          "base_uri": "https://localhost:8080/"
        }
      },
      "source": [
        "import tensorflow as tf\n",
        "from tensorflow.keras import layers\n",
        "from tensorflow.keras.models import Model, Sequential\n",
        "model=Sequential([\n",
        "       layers.Input(shape=[784]),\n",
        "       layers.Dense(512, activation='relu',name='f1'),\n",
        "       layers.Dense(256, activation='relu',name='f2'),\n",
        "       layers.Dense(128, activation='relu',name='f3'),\n",
        "       layers.Dense(64, activation='relu',name='f4'),\n",
        "       layers.Dense(32, activation='relu',name='f5'),\n",
        "       layers.Dense(16, activation='relu',name='f6'),\n",
        "       layers.Dense(10, activation='softmax',name='f7')                  \n",
        " ])\n",
        "model.summary()\n",
        "\n"
      ],
      "execution_count": 4,
      "outputs": [
        {
          "output_type": "stream",
          "text": [
            "Model: \"sequential\"\n",
            "_________________________________________________________________\n",
            "Layer (type)                 Output Shape              Param #   \n",
            "=================================================================\n",
            "f1 (Dense)                   (None, 512)               401920    \n",
            "_________________________________________________________________\n",
            "f2 (Dense)                   (None, 256)               131328    \n",
            "_________________________________________________________________\n",
            "f3 (Dense)                   (None, 128)               32896     \n",
            "_________________________________________________________________\n",
            "f4 (Dense)                   (None, 64)                8256      \n",
            "_________________________________________________________________\n",
            "f5 (Dense)                   (None, 32)                2080      \n",
            "_________________________________________________________________\n",
            "f6 (Dense)                   (None, 16)                528       \n",
            "_________________________________________________________________\n",
            "f7 (Dense)                   (None, 10)                170       \n",
            "=================================================================\n",
            "Total params: 577,178\n",
            "Trainable params: 577,178\n",
            "Non-trainable params: 0\n",
            "_________________________________________________________________\n"
          ],
          "name": "stdout"
        }
      ]
    },
    {
      "cell_type": "code",
      "metadata": {
        "id": "WqFvT-mieUEE",
        "outputId": "09c66bf0-2a45-40e2-bfa3-47a19cce0db9",
        "colab": {
          "base_uri": "https://localhost:8080/"
        }
      },
      "source": [
        "import tensorflow as tf\n",
        "from tensorflow.keras import layers\n",
        "from tensorflow.keras.models import Model, Sequential\n",
        "model=Sequential()\n",
        "model.add(layers.Input(shape=[784]))\n",
        "model.add(layers.Dense(512, activation='relu',name='f1'))\n",
        "model.add(layers.Dense(256, activation='relu',name='f2'))\n",
        "model.add(layers.Dense(128, activation='relu',name='f3'))\n",
        "model.add(layers.Dense(64, activation='relu',name='f4'))\n",
        "model.add(layers.Dense(32, activation='relu',name='f5'))\n",
        "model.add(layers.Dense(16, activation='relu',name='f6'))\n",
        "model.add(layers.Dense(10, activation='softmax',name='f7'))\n",
        "model.summary()\n",
        "\n"
      ],
      "execution_count": 5,
      "outputs": [
        {
          "output_type": "stream",
          "text": [
            "Model: \"sequential_1\"\n",
            "_________________________________________________________________\n",
            "Layer (type)                 Output Shape              Param #   \n",
            "=================================================================\n",
            "f1 (Dense)                   (None, 512)               401920    \n",
            "_________________________________________________________________\n",
            "f2 (Dense)                   (None, 256)               131328    \n",
            "_________________________________________________________________\n",
            "f3 (Dense)                   (None, 128)               32896     \n",
            "_________________________________________________________________\n",
            "f4 (Dense)                   (None, 64)                8256      \n",
            "_________________________________________________________________\n",
            "f5 (Dense)                   (None, 32)                2080      \n",
            "_________________________________________________________________\n",
            "f6 (Dense)                   (None, 16)                528       \n",
            "_________________________________________________________________\n",
            "f7 (Dense)                   (None, 10)                170       \n",
            "=================================================================\n",
            "Total params: 577,178\n",
            "Trainable params: 577,178\n",
            "Non-trainable params: 0\n",
            "_________________________________________________________________\n"
          ],
          "name": "stdout"
        }
      ]
    },
    {
      "cell_type": "code",
      "metadata": {
        "id": "1qgpFYJXhnfE"
      },
      "source": [
        ""
      ],
      "execution_count": null,
      "outputs": []
    },
    {
      "cell_type": "code",
      "metadata": {
        "id": "W6N3cOs1fxhk",
        "outputId": "70193d90-d62c-464c-94d7-77632fe2c846",
        "colab": {
          "base_uri": "https://localhost:8080/",
          "height": 233
        }
      },
      "source": [
        "import tensorflow as tf\n",
        "from tensorflow.keras import layers\n",
        "from tensorflow.keras.models import Model, Sequential\n",
        "model=tensorflow.keras.models.Sequential()\n",
        "model.add(layers.Input(shape=[784]))\n",
        "model.add(tensorflow.keras.layers.Dense(units=512, activation=tf.nn.relu,name='f1'))\n",
        "model.add(tensorflow.keras.layers.Dense(units=256, activation=tf.nn.sigmoid,name='f2'))\n",
        "model.add(tensorflow.keras.layers.Dense(units=128, activation='sigmoid',name='f3'))\n",
        "model.add(tensorflow.keras.layers.Dense(units=64, activation='relu',name='f4'))\n",
        "model.add(layers.Dense(units=32, activation='relu',name='f5'))\n",
        "model.add(layers.Dense(units=16, activation='relu',name='f6'))\n",
        "model.add(layers.Dense(units=10, activation=tf.nn.softmax,name='f7'))\n",
        "model.summary()\n",
        "\n"
      ],
      "execution_count": 6,
      "outputs": [
        {
          "output_type": "error",
          "ename": "NameError",
          "evalue": "ignored",
          "traceback": [
            "\u001b[0;31m---------------------------------------------------------------------------\u001b[0m",
            "\u001b[0;31mNameError\u001b[0m                                 Traceback (most recent call last)",
            "\u001b[0;32m<ipython-input-6-556b7800ccc6>\u001b[0m in \u001b[0;36m<module>\u001b[0;34m()\u001b[0m\n\u001b[1;32m      2\u001b[0m \u001b[0;32mfrom\u001b[0m \u001b[0mtensorflow\u001b[0m\u001b[0;34m.\u001b[0m\u001b[0mkeras\u001b[0m \u001b[0;32mimport\u001b[0m \u001b[0mlayers\u001b[0m\u001b[0;34m\u001b[0m\u001b[0;34m\u001b[0m\u001b[0m\n\u001b[1;32m      3\u001b[0m \u001b[0;32mfrom\u001b[0m \u001b[0mtensorflow\u001b[0m\u001b[0;34m.\u001b[0m\u001b[0mkeras\u001b[0m\u001b[0;34m.\u001b[0m\u001b[0mmodels\u001b[0m \u001b[0;32mimport\u001b[0m \u001b[0mModel\u001b[0m\u001b[0;34m,\u001b[0m \u001b[0mSequential\u001b[0m\u001b[0;34m\u001b[0m\u001b[0;34m\u001b[0m\u001b[0m\n\u001b[0;32m----> 4\u001b[0;31m \u001b[0mmodel\u001b[0m\u001b[0;34m=\u001b[0m\u001b[0mtensorflow\u001b[0m\u001b[0;34m.\u001b[0m\u001b[0mkeras\u001b[0m\u001b[0;34m.\u001b[0m\u001b[0mmodels\u001b[0m\u001b[0;34m.\u001b[0m\u001b[0mSequential\u001b[0m\u001b[0;34m(\u001b[0m\u001b[0;34m)\u001b[0m\u001b[0;34m\u001b[0m\u001b[0;34m\u001b[0m\u001b[0m\n\u001b[0m\u001b[1;32m      5\u001b[0m \u001b[0mmodel\u001b[0m\u001b[0;34m.\u001b[0m\u001b[0madd\u001b[0m\u001b[0;34m(\u001b[0m\u001b[0mlayers\u001b[0m\u001b[0;34m.\u001b[0m\u001b[0mInput\u001b[0m\u001b[0;34m(\u001b[0m\u001b[0mshape\u001b[0m\u001b[0;34m=\u001b[0m\u001b[0;34m[\u001b[0m\u001b[0;36m784\u001b[0m\u001b[0;34m]\u001b[0m\u001b[0;34m)\u001b[0m\u001b[0;34m)\u001b[0m\u001b[0;34m\u001b[0m\u001b[0;34m\u001b[0m\u001b[0m\n\u001b[1;32m      6\u001b[0m \u001b[0mmodel\u001b[0m\u001b[0;34m.\u001b[0m\u001b[0madd\u001b[0m\u001b[0;34m(\u001b[0m\u001b[0mtensorflow\u001b[0m\u001b[0;34m.\u001b[0m\u001b[0mkeras\u001b[0m\u001b[0;34m.\u001b[0m\u001b[0mlayers\u001b[0m\u001b[0;34m.\u001b[0m\u001b[0mDense\u001b[0m\u001b[0;34m(\u001b[0m\u001b[0munits\u001b[0m\u001b[0;34m=\u001b[0m\u001b[0;36m512\u001b[0m\u001b[0;34m,\u001b[0m \u001b[0mactivation\u001b[0m\u001b[0;34m=\u001b[0m\u001b[0mtf\u001b[0m\u001b[0;34m.\u001b[0m\u001b[0mnn\u001b[0m\u001b[0;34m.\u001b[0m\u001b[0mrelu\u001b[0m\u001b[0;34m,\u001b[0m\u001b[0mname\u001b[0m\u001b[0;34m=\u001b[0m\u001b[0;34m'f1'\u001b[0m\u001b[0;34m)\u001b[0m\u001b[0;34m)\u001b[0m\u001b[0;34m\u001b[0m\u001b[0;34m\u001b[0m\u001b[0m\n",
            "\u001b[0;31mNameError\u001b[0m: name 'tensorflow' is not defined"
          ]
        }
      ]
    },
    {
      "cell_type": "markdown",
      "metadata": {
        "id": "3LzAq8kxg2fI"
      },
      "source": [
        "<pre>\n",
        "model.compile(optimizer='rmsprop', loss=None, metrics=None, loss_weights=None, weighted_metrics=None, run_eagerly=None, **kwargs)\n",
        "Configures the model for training.\n",
        "\n",
        "Arguments:\n",
        "    optimizer: String (name of optimizer) or optimizer instance. See\n",
        "      tf.keras.optimizers.\n",
        "    loss: String (name of objective function), objective function or\n",
        "      tf.keras.losses.Loss instance. See tf.keras.losses. An objective\n",
        "      function is any callable with the signature loss = fn(y_true,\n",
        "      y_pred), where y_true = ground truth values with shape =\n",
        "      [batch_size, d0, .. dN], except sparse loss functions such as sparse\n",
        "      categorical crossentropy where shape = [batch_size, d0, .. dN-1].\n",
        "      y_pred = predicted values with shape = [batch_size, d0, .. dN]. It\n",
        "      returns a weighted loss float tensor. If a custom Loss instance is\n",
        "      used and reduction is set to NONE, return value has the shape\n",
        "      [batch_size, d0, .. dN-1] ie. per-sample or per-timestep loss values;\n",
        "      otherwise, it is a scalar. If the model has multiple outputs, you can\n",
        "      use a different loss on each output by passing a dictionary or a list\n",
        "      of losses. The loss value that will be minimized by the model will\n",
        "      then be the sum of all individual losses.\n",
        "    metrics: List of metrics to be evaluated by the model during training\n",
        "      and testing. Each of this can be a string (name of a built-in\n",
        "      function), function or a tf.keras.metrics.Metric instance. See\n",
        "      tf.keras.metrics. Typically you will use metrics=['accuracy']. A\n",
        "      function is any callable with the signature result = fn(y_true,\n",
        "      y_pred). To specify different metrics for different outputs of a\n",
        "      multi-output model, you could also pass a dictionary, such as\n",
        "        metrics={'output_a': 'accuracy', 'output_b': ['accuracy', 'mse']}.\n",
        "          You can also pass a list (len = len(outputs)) of lists of metrics\n",
        "          such as metrics=[['accuracy'], ['accuracy', 'mse']] or\n",
        "          metrics=['accuracy', ['accuracy', 'mse']]. When you pass the\n",
        "          strings 'accuracy' or 'acc', we convert this to one of\n",
        "          tf.keras.metrics.BinaryAccuracy,\n",
        "          tf.keras.metrics.CategoricalAccuracy,\n",
        "          tf.keras.metrics.SparseCategoricalAccuracy based on the loss\n",
        "          function used and the model output shape. We do a similar\n",
        "          conversion for the strings 'crossentropy' and 'ce' as well.\n",
        "    loss_weights: Optional list or dictionary specifying scalar coefficients\n",
        "      (Python floats) to weight the loss contributions of different model\n",
        "      outputs. The loss value that will be minimized by the model will then\n",
        "      be the weighted sum of all individual losses, weighted by the\n",
        "      loss_weights coefficients.\n",
        "        If a list, it is expected to have a 1:1 mapping to the model's\n",
        "          outputs. If a dict, it is expected to map output names (strings)\n",
        "          to scalar coefficients.\n",
        "    weighted_metrics: List of metrics to be evaluated and weighted by\n",
        "      sample_weight or class_weight during training and testing.\n",
        "    run_eagerly: Bool. Defaults to False. If True, this Model's\n",
        "      logic will not be wrapped in a tf.function. Recommended to leave\n",
        "      this as None unless your Model cannot be run inside a\n",
        "      tf.function.\n",
        "    **kwargs: Any additional arguments. Supported arguments:\n",
        "        - experimental_steps_per_execution: Int. The number of batches to\n",
        "          run during each tf.function call. Running multiple batches\n",
        "          inside a single tf.function call can greatly improve performance\n",
        "          on TPUs or small models with a large Python overhead. Note that if\n",
        "          this value is set to N, Callback.on_batch methods will only be\n",
        "          called every N batches. This currently defaults to 1. At most,\n",
        "          one full epoch will be run each execution. If a number larger than\n",
        "          the size of the epoch is passed, the execution will be truncated\n",
        "          to the size of the epoch.\n",
        "        - sample_weight_mode for backward compatibility.\n",
        "\n",
        "Raises:\n",
        "    ValueError: In case of invalid arguments for\n",
        "        optimizer, loss or metrics.\n",
        "</pre>"
      ]
    },
    {
      "cell_type": "code",
      "metadata": {
        "id": "9m7R7bS9guID",
        "outputId": "408ab703-6404-4dca-fac8-ff5495ac44c0",
        "colab": {
          "base_uri": "https://localhost:8080/"
        }
      },
      "source": [
        "import tensorflow as tf\n",
        "from tensorflow.keras import layers\n",
        "from tensorflow.keras.models import Model, Sequential\n",
        "model=Sequential()\n",
        "model.add(layers.Input(shape=[784]))\n",
        "model.add(layers.Dense(512, activation='relu',name='f1'))\n",
        "model.add(layers.Dense(256, activation='relu',name='f2'))\n",
        "model.add(layers.Dense(128, activation='relu',name='f3'))\n",
        "model.add(layers.Dense(64, activation='relu',name='f4'))\n",
        "model.add(layers.Dense(32, activation='relu',name='f5'))\n",
        "model.add(layers.Dense(16, activation='relu',name='f6'))\n",
        "model.add(layers.Dense(10, activation='softmax',name='f7'))\n",
        "model.summary()\n",
        "#rmsprop  adam  loss='', metrics=''\n",
        "model.compile(optimizer='nadam',\n",
        "  loss='spasecategoricalcrossentropy', metrics=['rmse','mse','acc'])\n",
        "#等設定x, y \n",
        "#model.fit(x, y,batch_size=32,epochs=5,validation_split=0.01,)"
      ],
      "execution_count": 7,
      "outputs": [
        {
          "output_type": "stream",
          "text": [
            "Model: \"sequential_2\"\n",
            "_________________________________________________________________\n",
            "Layer (type)                 Output Shape              Param #   \n",
            "=================================================================\n",
            "f1 (Dense)                   (None, 512)               401920    \n",
            "_________________________________________________________________\n",
            "f2 (Dense)                   (None, 256)               131328    \n",
            "_________________________________________________________________\n",
            "f3 (Dense)                   (None, 128)               32896     \n",
            "_________________________________________________________________\n",
            "f4 (Dense)                   (None, 64)                8256      \n",
            "_________________________________________________________________\n",
            "f5 (Dense)                   (None, 32)                2080      \n",
            "_________________________________________________________________\n",
            "f6 (Dense)                   (None, 16)                528       \n",
            "_________________________________________________________________\n",
            "f7 (Dense)                   (None, 10)                170       \n",
            "=================================================================\n",
            "Total params: 577,178\n",
            "Trainable params: 577,178\n",
            "Non-trainable params: 0\n",
            "_________________________________________________________________\n"
          ],
          "name": "stdout"
        }
      ]
    },
    {
      "cell_type": "code",
      "metadata": {
        "id": "hWOYKdTNwMNr",
        "outputId": "f0e8f8b3-ca4c-4900-a959-b7ea80176458",
        "colab": {
          "base_uri": "https://localhost:8080/"
        }
      },
      "source": [
        "import tensorflow as tf\n",
        "a=tf.ones([2,3])\n",
        "a"
      ],
      "execution_count": 8,
      "outputs": [
        {
          "output_type": "execute_result",
          "data": {
            "text/plain": [
              "<tf.Tensor: shape=(2, 3), dtype=float32, numpy=\n",
              "array([[1., 1., 1.],\n",
              "       [1., 1., 1.]], dtype=float32)>"
            ]
          },
          "metadata": {
            "tags": []
          },
          "execution_count": 8
        }
      ]
    },
    {
      "cell_type": "code",
      "metadata": {
        "id": "uZIPRxGYtAuT",
        "outputId": "f3ae8fe0-7856-442c-a5df-ea7d1bce9d7a",
        "colab": {
          "base_uri": "https://localhost:8080/",
          "height": 384
        }
      },
      "source": [
        "import tensorflow as tf\n",
        "import matplotlib.pyplot as plt\n",
        "\n",
        "#tf.keras.datasets.mnist.load_data()\n",
        "(x_train, y_train),(x_test, y_test)=tf.keras.datasets.mnist.load_data()\n",
        "x_train.shape, y_train.shape\n",
        "x_test.shape, y_test.shape\n",
        "for x in range(5):\n",
        "  ax=plt.subplot(1,5,x+1)\n",
        "  ax.imshow(x_train[x])\n",
        "x_train1=x_train/255.\n",
        "x_test1=x_test/255.\n",
        "print(x_train1.shape)\n",
        "x_train2=x_train1.reshape(-1,784) # 60000,28,28  total=60000*28*28 =( )*784 \n",
        "print(x_train1.shape, print(x_train2.shape))\n",
        "x_test2=x_test1.reshape(-1,784)\n",
        "\n",
        "import tensorflow as tf\n",
        "from tensorflow.keras import layers\n",
        "from tensorflow.keras.models import Model, Sequential\n",
        "model=Sequential()\n",
        "model.add(layers.Input(shape=[784])) \n",
        "#另一種寫法  寫在model.add(layers.Dense(512, Input_dim=784 activation='relu',name='f1'))\n",
        "model.add(layers.Dense(512, activation='relu',name='f1'))\n",
        "model.add(layers.Dense(256, activation='relu',name='f2'))\n",
        "model.add(layers.Dense(128, activation='relu',name='f3'))\n",
        "model.add(layers.Dense(64, activation='relu',name='f4'))\n",
        "model.add(layers.Dense(32, activation='relu',name='f5'))\n",
        "model.add(layers.Dense(16, activation='relu',name='f6'))\n",
        "model.add(layers.Dense(10, activation='softmax',name='f7'))\n",
        "#model.summary()\n",
        "#rmsprop  adam  loss='', metrics=''\n",
        "model.compile(optimizer='nadam',\n",
        "  loss=tf.keras.losses.SparseCategoricalCrossentropy(), metrics=['acc','mse'])\n",
        "#等設定x, y \n",
        "model.fit(x_train2, y_train,batch_size=32,epochs=5,validation_split=0.01)\n",
        "a=model.evaluate(x_test2, y_test)\n",
        "model.history\n"
      ],
      "execution_count": 26,
      "outputs": [
        {
          "output_type": "stream",
          "text": [
            "(60000, 28, 28)\n",
            "(60000, 784)\n",
            "(60000, 28, 28) None\n",
            "Epoch 1/5\n",
            "1857/1857 [==============================] - 25s 14ms/step - loss: 0.2472 - acc: 0.9285 - mse: 27.3825 - val_loss: 0.1476 - val_acc: 0.9700 - val_mse: 27.4534\n",
            "Epoch 2/5\n",
            "1857/1857 [==============================] - 20s 11ms/step - loss: 0.0993 - acc: 0.9705 - mse: 27.3896 - val_loss: 0.2049 - val_acc: 0.9517 - val_mse: 27.4530\n",
            "Epoch 3/5\n",
            "1857/1857 [==============================] - 20s 11ms/step - loss: 0.0728 - acc: 0.9788 - mse: 27.3908 - val_loss: 0.1113 - val_acc: 0.9750 - val_mse: 27.4564\n",
            "Epoch 4/5\n",
            "1857/1857 [==============================] - 20s 11ms/step - loss: 0.0573 - acc: 0.9828 - mse: 27.3914 - val_loss: 0.1398 - val_acc: 0.9700 - val_mse: 27.4563\n",
            "Epoch 5/5\n",
            "1857/1857 [==============================] - 20s 11ms/step - loss: 0.0463 - acc: 0.9860 - mse: 27.3919 - val_loss: 0.1200 - val_acc: 0.9733 - val_mse: 27.4561\n",
            "313/313 [==============================] - 1s 2ms/step - loss: 0.0764 - acc: 0.9779 - mse: 27.3374\n"
          ],
          "name": "stdout"
        },
        {
          "output_type": "execute_result",
          "data": {
            "text/plain": [
              "<tensorflow.python.keras.callbacks.History at 0x7f4b7b210fd0>"
            ]
          },
          "metadata": {
            "tags": []
          },
          "execution_count": 26
        },
        {
          "output_type": "display_data",
          "data": {
            "image/png": "[encoded data removed]",
            "text/plain": [
              "<Figure size 432x288 with 5 Axes>"
            ]
          },
          "metadata": {
            "tags": [],
            "needs_background": "light"
          }
        }
      ]
    },
    {
      "cell_type": "code",
      "metadata": {
        "id": "4m8_kMwNLFN_",
        "outputId": "e188b133-f5d2-4db4-c298-713baad7b88b",
        "colab": {
          "base_uri": "https://localhost:8080/"
        }
      },
      "source": [
        "0.9930-0.9799  #over-fitting on training data.. 過擬合 "
      ],
      "execution_count": 10,
      "outputs": [
        {
          "output_type": "execute_result",
          "data": {
            "text/plain": [
              "0.0131"
            ]
          },
          "metadata": {
            "tags": []
          },
          "execution_count": 10
        }
      ]
    },
    {
      "cell_type": "code",
      "metadata": {
        "id": "8zKwmNa2LzVf"
      },
      "source": [
        "b=model.predict(x_test2)"
      ],
      "execution_count": 27,
      "outputs": []
    },
    {
      "cell_type": "code",
      "metadata": {
        "id": "BTBxjNIyMLNZ",
        "outputId": "b7fe9de4-c273-405f-85ef-dae499afafcf",
        "colab": {
          "base_uri": "https://localhost:8080/",
          "height": 299
        }
      },
      "source": [
        "import matplotlib.pyplot as plt\n",
        "b=model.predict(x_test2)\n",
        "b.shape#10000,10\n",
        "wrong=[]\n",
        "for i in range(10000):\n",
        "  if tf.argmax(b[i])!=y_test[i]:\n",
        "    wrong.append(i)\n",
        "len(wrong) #201 \n",
        "print(wrong[0:10]) \n",
        "plt.imshow(x_test[124])\n",
        "tf.argmax(b[124]), y_test[124]"
      ],
      "execution_count": 28,
      "outputs": [
        {
          "output_type": "stream",
          "text": [
            "[8, 151, 217, 247, 321, 340, 359, 381, 445, 449]\n"
          ],
          "name": "stdout"
        },
        {
          "output_type": "execute_result",
          "data": {
            "text/plain": [
              "(<tf.Tensor: shape=(), dtype=int64, numpy=7>, 7)"
            ]
          },
          "metadata": {
            "tags": []
          },
          "execution_count": 28
        },
        {
          "output_type": "display_data",
          "data": {
            "image/png": "[encoded data removed]",
            "text/plain": [
              "<Figure size 432x288 with 1 Axes>"
            ]
          },
          "metadata": {
            "tags": [],
            "needs_background": "light"
          }
        }
      ]
    },
    {
      "cell_type": "code",
      "metadata": {
        "id": "l0pxUJZfTMDL",
        "outputId": "3043292d-2964-4954-b379-331400118c4e",
        "colab": {
          "base_uri": "https://localhost:8080/"
        }
      },
      "source": [
        "model.save('model1091107_1_7')"
      ],
      "execution_count": 29,
      "outputs": [
        {
          "output_type": "stream",
          "text": [
            "INFO:tensorflow:Assets written to: model1091107_1_7/assets\n"
          ],
          "name": "stdout"
        }
      ]
    },
    {
      "cell_type": "code",
      "metadata": {
        "id": "IdovLgPXSLUn",
        "outputId": "abde2034-ede1-4e83-db05-9bc527f431a3",
        "colab": {
          "base_uri": "https://localhost:8080/",
          "height": 299
        }
      },
      "source": [
        "import tensorflow as tf\n",
        "model2=tf.keras.models.load_model('model1091107_1_7')\n",
        "b=model.predict(x_test2)\n",
        "b.shape#10000,10\n",
        "wrong=[]\n",
        "for i in range(10000):\n",
        "  if tf.argmax(b[i])!=y_test[i]:\n",
        "    wrong.append(i)\n",
        "len(wrong) #272 , 201\n",
        "print(len(wrong), wrong[0:10])\n",
        "plt.imshow(x_test[8])\n",
        "print(y_test[8], tf.argmax(b[8]))\n"
      ],
      "execution_count": 32,
      "outputs": [
        {
          "output_type": "stream",
          "text": [
            "221 [8, 151, 217, 247, 321, 340, 359, 381, 445, 449]\n",
            "5 tf.Tensor(6, shape=(), dtype=int64)\n"
          ],
          "name": "stdout"
        },
        {
          "output_type": "display_data",
          "data": {
            "image/png": "[encoded data removed]",
            "text/plain": [
              "<Figure size 432x288 with 1 Axes>"
            ]
          },
          "metadata": {
            "tags": [],
            "needs_background": "light"
          }
        }
      ]
    },
    {
      "cell_type": "code",
      "metadata": {
        "id": "FSaI43tkOaWZ",
        "outputId": "528cfd83-6b2a-4942-f78c-763fa9117063",
        "colab": {
          "base_uri": "https://localhost:8080/",
          "height": 282
        }
      },
      "source": [
        "plt.imshow(x_test[124])\n",
        "tf.argmax(b[124]), y_test[124]"
      ],
      "execution_count": 13,
      "outputs": [
        {
          "output_type": "execute_result",
          "data": {
            "text/plain": [
              "(<tf.Tensor: shape=(), dtype=int64, numpy=7>, 7)"
            ]
          },
          "metadata": {
            "tags": []
          },
          "execution_count": 13
        },
        {
          "output_type": "display_data",
          "data": {
            "image/png": "[encoded data removed]",
            "text/plain": [
              "<Figure size 432x288 with 1 Axes>"
            ]
          },
          "metadata": {
            "tags": [],
            "needs_background": "light"
          }
        }
      ]
    },
    {
      "cell_type": "code",
      "metadata": {
        "id": "O5i8SOqr2djC",
        "outputId": "6d7ae90a-9f54-47e6-9fda-958826cb0179",
        "colab": {
          "base_uri": "https://localhost:8080/"
        }
      },
      "source": [
        "b=model.predict(x_test2)\n",
        "b.shape\n",
        "c=tf.argmax(b,-1)-y_test\n",
        "v=[] \n",
        "for i in range(10000):\n",
        "  if c[i]!=0:\n",
        "    v.append(i)\n",
        "len(v) \n",
        "\n",
        "\n",
        "#print(tf.argmax(b,-1)-y_test)\n",
        "\n",
        "#model.save('model/model091107')\n",
        "\n"
      ],
      "execution_count": 38,
      "outputs": [
        {
          "output_type": "execute_result",
          "data": {
            "text/plain": [
              "221"
            ]
          },
          "metadata": {
            "tags": []
          },
          "execution_count": 38
        }
      ]
    },
    {
      "cell_type": "code",
      "metadata": {
        "id": "w_omy4wqGjrZ",
        "outputId": "bbe66d29-e841-45cd-c406-44ccc42602c1",
        "colab": {
          "base_uri": "https://localhost:8080/"
        }
      },
      "source": [
        "1-201/10000"
      ],
      "execution_count": 37,
      "outputs": [
        {
          "output_type": "execute_result",
          "data": {
            "text/plain": [
              "0.9799"
            ]
          },
          "metadata": {
            "tags": []
          },
          "execution_count": 37
        }
      ]
    },
    {
      "cell_type": "code",
      "metadata": {
        "id": "LVu42ZzU8FRK",
        "outputId": "74476da3-a5cb-4bc5-e17a-aa89c6444415",
        "colab": {
          "base_uri": "https://localhost:8080/",
          "height": 376
        }
      },
      "source": [
        "import tensorflow as tf\n",
        "model2=tf.keras.models.load_model('model/model1091107_1_7')\n",
        "model2.evaluate(x_test2, y_test)\n",
        "tf.argmax()"
      ],
      "execution_count": 36,
      "outputs": [
        {
          "output_type": "error",
          "ename": "OSError",
          "evalue": "ignored",
          "traceback": [
            "\u001b[0;31m---------------------------------------------------------------------------\u001b[0m",
            "\u001b[0;31mOSError\u001b[0m                                   Traceback (most recent call last)",
            "\u001b[0;32m<ipython-input-36-a94a334cb113>\u001b[0m in \u001b[0;36m<module>\u001b[0;34m()\u001b[0m\n\u001b[1;32m      1\u001b[0m \u001b[0;32mimport\u001b[0m \u001b[0mtensorflow\u001b[0m \u001b[0;32mas\u001b[0m \u001b[0mtf\u001b[0m\u001b[0;34m\u001b[0m\u001b[0;34m\u001b[0m\u001b[0m\n\u001b[0;32m----> 2\u001b[0;31m \u001b[0mmodel2\u001b[0m\u001b[0;34m=\u001b[0m\u001b[0mtf\u001b[0m\u001b[0;34m.\u001b[0m\u001b[0mkeras\u001b[0m\u001b[0;34m.\u001b[0m\u001b[0mmodels\u001b[0m\u001b[0;34m.\u001b[0m\u001b[0mload_model\u001b[0m\u001b[0;34m(\u001b[0m\u001b[0;34m'model/model1091107_1_7'\u001b[0m\u001b[0;34m)\u001b[0m\u001b[0;34m\u001b[0m\u001b[0;34m\u001b[0m\u001b[0m\n\u001b[0m\u001b[1;32m      3\u001b[0m \u001b[0mmodel2\u001b[0m\u001b[0;34m.\u001b[0m\u001b[0mevaluate\u001b[0m\u001b[0;34m(\u001b[0m\u001b[0mx_test2\u001b[0m\u001b[0;34m,\u001b[0m \u001b[0my_test\u001b[0m\u001b[0;34m)\u001b[0m\u001b[0;34m\u001b[0m\u001b[0;34m\u001b[0m\u001b[0m\n\u001b[1;32m      4\u001b[0m \u001b[0mtf\u001b[0m\u001b[0;34m.\u001b[0m\u001b[0margmax\u001b[0m\u001b[0;34m(\u001b[0m\u001b[0;34m)\u001b[0m\u001b[0;34m\u001b[0m\u001b[0;34m\u001b[0m\u001b[0m\n",
            "\u001b[0;32m/usr/local/lib/python3.6/dist-packages/tensorflow/python/keras/saving/save.py\u001b[0m in \u001b[0;36mload_model\u001b[0;34m(filepath, custom_objects, compile, options)\u001b[0m\n\u001b[1;32m    184\u001b[0m     \u001b[0mfilepath\u001b[0m \u001b[0;34m=\u001b[0m \u001b[0mpath_to_string\u001b[0m\u001b[0;34m(\u001b[0m\u001b[0mfilepath\u001b[0m\u001b[0;34m)\u001b[0m\u001b[0;34m\u001b[0m\u001b[0;34m\u001b[0m\u001b[0m\n\u001b[1;32m    185\u001b[0m     \u001b[0;32mif\u001b[0m \u001b[0misinstance\u001b[0m\u001b[0;34m(\u001b[0m\u001b[0mfilepath\u001b[0m\u001b[0;34m,\u001b[0m \u001b[0msix\u001b[0m\u001b[0;34m.\u001b[0m\u001b[0mstring_types\u001b[0m\u001b[0;34m)\u001b[0m\u001b[0;34m:\u001b[0m\u001b[0;34m\u001b[0m\u001b[0;34m\u001b[0m\u001b[0m\n\u001b[0;32m--> 186\u001b[0;31m       \u001b[0mloader_impl\u001b[0m\u001b[0;34m.\u001b[0m\u001b[0mparse_saved_model\u001b[0m\u001b[0;34m(\u001b[0m\u001b[0mfilepath\u001b[0m\u001b[0;34m)\u001b[0m\u001b[0;34m\u001b[0m\u001b[0;34m\u001b[0m\u001b[0m\n\u001b[0m\u001b[1;32m    187\u001b[0m       \u001b[0;32mreturn\u001b[0m \u001b[0msaved_model_load\u001b[0m\u001b[0;34m.\u001b[0m\u001b[0mload\u001b[0m\u001b[0;34m(\u001b[0m\u001b[0mfilepath\u001b[0m\u001b[0;34m,\u001b[0m \u001b[0mcompile\u001b[0m\u001b[0;34m,\u001b[0m \u001b[0moptions\u001b[0m\u001b[0;34m)\u001b[0m\u001b[0;34m\u001b[0m\u001b[0;34m\u001b[0m\u001b[0m\n\u001b[1;32m    188\u001b[0m \u001b[0;34m\u001b[0m\u001b[0m\n",
            "\u001b[0;32m/usr/local/lib/python3.6/dist-packages/tensorflow/python/saved_model/loader_impl.py\u001b[0m in \u001b[0;36mparse_saved_model\u001b[0;34m(export_dir)\u001b[0m\n\u001b[1;32m    111\u001b[0m                   (export_dir,\n\u001b[1;32m    112\u001b[0m                    \u001b[0mconstants\u001b[0m\u001b[0;34m.\u001b[0m\u001b[0mSAVED_MODEL_FILENAME_PBTXT\u001b[0m\u001b[0;34m,\u001b[0m\u001b[0;34m\u001b[0m\u001b[0;34m\u001b[0m\u001b[0m\n\u001b[0;32m--> 113\u001b[0;31m                    constants.SAVED_MODEL_FILENAME_PB))\n\u001b[0m\u001b[1;32m    114\u001b[0m \u001b[0;34m\u001b[0m\u001b[0m\n\u001b[1;32m    115\u001b[0m \u001b[0;34m\u001b[0m\u001b[0m\n",
            "\u001b[0;31mOSError\u001b[0m: SavedModel file does not exist at: model/model1091107_1_7/{saved_model.pbtxt|saved_model.pb}"
          ]
        }
      ]
    },
    {
      "cell_type": "code",
      "metadata": {
        "id": "prFSSX89aKuB",
        "outputId": "7a058169-0c95-4035-afc7-f6e49b838d5d",
        "colab": {
          "base_uri": "https://localhost:8080/",
          "height": 384
        }
      },
      "source": [
        "import tensorflow as tf\n",
        "import matplotlib.pyplot as plt\n",
        "\n",
        "#tf.keras.datasets.mnist.load_data()\n",
        "(x_train, y_train),(x_test, y_test)=tf.keras.datasets.mnist.load_data()\n",
        "y_train=tf.keras.utils.to_categorical(y_train)\n",
        "y_test=tf.keras.utils.to_categorical(y_test)\n",
        "x_train.shape, y_train.shape\n",
        "x_test.shape, y_test.shape\n",
        "for x in range(5):\n",
        "  ax=plt.subplot(1,5,x+1)\n",
        "  ax.imshow(x_train[x])\n",
        "x_train1=x_train/255.\n",
        "x_test1=x_test/255.\n",
        "print(x_train1.shape)\n",
        "x_train2=x_train1.reshape(-1,784) # 60000,28,28  total=60000*28*28 =( )*784 \n",
        "print(x_train1.shape, print(x_train2.shape))\n",
        "x_test2=x_test1.reshape(-1,784)\n",
        "\n",
        "import tensorflow as tf\n",
        "from tensorflow.keras import layers\n",
        "from tensorflow.keras.models import Model, Sequential\n",
        "model=Sequential()\n",
        "model.add(layers.Input(shape=[784])) \n",
        "#另一種寫法  寫在model.add(layers.Dense(512, Input_dim=784 activation='relu',name='f1'))\n",
        "model.add(layers.Dense(512, activation='relu',name='f1'))\n",
        "model.add(layers.Dense(256, activation='relu',name='f2'))\n",
        "model.add(layers.Dense(128, activation='relu',name='f3'))\n",
        "model.add(layers.Dense(64, activation='relu',name='f4'))\n",
        "model.add(layers.Dense(32, activation='relu',name='f5'))\n",
        "model.add(layers.Dense(16, activation='relu',name='f6'))\n",
        "model.add(layers.Dense(10, activation='softmax',name='f7'))\n",
        "#model.summary()\n",
        "#rmsprop  adam  loss='', metrics=''\n",
        "model.compile(optimizer='nadam',\n",
        "  loss=tf.keras.losses.CategoricalCrossentropy(), metrics=['acc','mse'])\n",
        "#等設定x, y \n",
        "model.fit(x_train2, y_train,batch_size=32,epochs=5,validation_split=0.01)\n",
        "a=model.evaluate(x_test2, y_test)\n",
        "model.history#0.9779 09860"
      ],
      "execution_count": 41,
      "outputs": [
        {
          "output_type": "stream",
          "text": [
            "(60000, 28, 28)\n",
            "(60000, 784)\n",
            "(60000, 28, 28) None\n",
            "Epoch 1/5\n",
            "465/465 [==============================] - 8s 16ms/step - loss: 0.3284 - acc: 0.9002 - mse: 0.0144 - val_loss: 0.1467 - val_acc: 0.9733 - val_mse: 0.0046\n",
            "Epoch 2/5\n",
            "465/465 [==============================] - 7s 16ms/step - loss: 0.0980 - acc: 0.9705 - mse: 0.0045 - val_loss: 0.1299 - val_acc: 0.9717 - val_mse: 0.0046\n",
            "Epoch 3/5\n",
            "465/465 [==============================] - 7s 16ms/step - loss: 0.0631 - acc: 0.9812 - mse: 0.0029 - val_loss: 0.1132 - val_acc: 0.9683 - val_mse: 0.0043\n",
            "Epoch 4/5\n",
            "465/465 [==============================] - 8s 16ms/step - loss: 0.0471 - acc: 0.9856 - mse: 0.0023 - val_loss: 0.0994 - val_acc: 0.9800 - val_mse: 0.0035\n",
            "Epoch 5/5\n",
            "465/465 [==============================] - 8s 16ms/step - loss: 0.0368 - acc: 0.9882 - mse: 0.0018 - val_loss: 0.1152 - val_acc: 0.9717 - val_mse: 0.0044\n",
            "313/313 [==============================] - 1s 2ms/step - loss: 0.1167 - acc: 0.9709 - mse: 0.0047\n"
          ],
          "name": "stdout"
        },
        {
          "output_type": "execute_result",
          "data": {
            "text/plain": [
              "<tensorflow.python.keras.callbacks.History at 0x7f4b6ebb7860>"
            ]
          },
          "metadata": {
            "tags": []
          },
          "execution_count": 41
        },
        {
          "output_type": "display_data",
          "data": {
            "image/png": "[encoded data removed]",
            "text/plain": [
              "<Figure size 432x288 with 5 Axes>"
            ]
          },
          "metadata": {
            "tags": [],
            "needs_background": "light"
          }
        }
      ]
    },
    {
      "cell_type": "code",
      "metadata": {
        "id": "XZNUHZAWdVpe",
        "outputId": "b5623f9a-e13e-45a8-f0e5-1f6f16e24f8e",
        "colab": {
          "base_uri": "https://localhost:8080/",
          "height": 299
        }
      },
      "source": [
        "(x_train, y_train),(x_test, y_test)=tf.keras.datasets.mnist.load_data()\n",
        "b= model.predict_classes(x_test2)\n",
        "wrong=[]\n",
        "for i in range(10000):\n",
        "  if b[i]!=y_test[i]:\n",
        "    wrong.append(i)\n",
        "len(wrong) #201 \n",
        "print(wrong[0:10]) \n",
        "plt.imshow(x_test[62])\n",
        "print(y_test[62], b[62])"
      ],
      "execution_count": 45,
      "outputs": [
        {
          "output_type": "stream",
          "text": [
            "[62, 193, 247, 259, 282, 300, 340, 381, 412, 432]\n",
            "9 8\n"
          ],
          "name": "stdout"
        },
        {
          "output_type": "display_data",
          "data": {
            "image/png": "[encoded data removed]",
            "text/plain": [
              "<Figure size 432x288 with 1 Axes>"
            ]
          },
          "metadata": {
            "tags": [],
            "needs_background": "light"
          }
        }
      ]
    }
  ]
}